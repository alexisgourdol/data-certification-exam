{
 "cells": [
  {
   "cell_type": "markdown",
   "metadata": {},
   "source": [
    "# Lyrics detector Challenge\n",
    "\n",
    "The goal for this challenge is to leverage your knowledge of Deep Learning to design and train a lyrics classifier. For a given verse $X$, our model should learn to predict the artist $y$. The dataset consists of lyrics scrapped from the Genius website.\n",
    "\n",
    "### Objectives:\n",
    "- Text preprocessing\n",
    "- Text embedding\n",
    "- Train a RNN to detect the artist behind a set of lyrics"
   ]
  },
  {
   "cell_type": "code",
   "execution_count": 1,
   "metadata": {
    "ExecuteTime": {
     "end_time": "2021-06-29T13:32:07.416283Z",
     "start_time": "2021-06-29T13:32:02.323981Z"
    }
   },
   "outputs": [],
   "source": [
    "import numpy as np\n",
    "import pandas as pd\n",
    "import matplotlib.pyplot as plt\n",
    "import seaborn as sns\n",
    "\n",
    "import tensorflow as tf"
   ]
  },
  {
   "cell_type": "code",
   "execution_count": 74,
   "metadata": {
    "ExecuteTime": {
     "end_time": "2021-06-29T13:59:17.073476Z",
     "start_time": "2021-06-29T13:59:09.210080Z"
    },
    "collapsed": true
   },
   "outputs": [
    {
     "name": "stdout",
     "output_type": "stream",
     "text": [
      "Collecting python-Levenshtein\n",
      "  Downloading python-Levenshtein-0.12.2.tar.gz (50 kB)\n",
      "\u001b[K     |████████████████████████████████| 50 kB 3.4 MB/s eta 0:00:01\n",
      "\u001b[?25hRequirement already satisfied: setuptools in /Users/alexisgourdol/.pyenv/versions/3.8.6/envs/lewagon386/lib/python3.8/site-packages (from python-Levenshtein) (49.2.1)\n",
      "Building wheels for collected packages: python-Levenshtein\n",
      "  Building wheel for python-Levenshtein (setup.py) ... \u001b[?25ldone\n",
      "\u001b[?25h  Created wheel for python-Levenshtein: filename=python_Levenshtein-0.12.2-cp38-cp38-macosx_10_15_x86_64.whl size=81804 sha256=ffa978cee041cb994b86d827235ad03854ed0f65b55c428049c6e2b951a2aef7\n",
      "  Stored in directory: /Users/alexisgourdol/Library/Caches/pip/wheels/d7/0c/76/042b46eb0df65c3ccd0338f791210c55ab79d209bcc269e2c7\n",
      "Successfully built python-Levenshtein\n",
      "Installing collected packages: python-Levenshtein\n",
      "Successfully installed python-Levenshtein-0.12.2\n"
     ]
    }
   ],
   "source": [
    "# !pip install Unidecode\n",
    "# !pip install gensim\n",
    "# !pip install python-Levenshtein"
   ]
  },
  {
   "cell_type": "code",
   "execution_count": 182,
   "metadata": {
    "ExecuteTime": {
     "end_time": "2021-06-29T14:53:52.525350Z",
     "start_time": "2021-06-29T14:53:52.522194Z"
    }
   },
   "outputs": [],
   "source": [
    "from unidecode import unidecode\n",
    "from gensim.models import Word2Vec\n",
    "from tensorflow.keras.preprocessing.sequence import pad_sequences\n",
    "from tensorflow.keras.models import Sequential\n",
    "from tensorflow.keras import layers"
   ]
  },
  {
   "cell_type": "markdown",
   "metadata": {},
   "source": [
    "## 1. Data Cleaning\n",
    "\n",
    "Our dataset contains around 4,000 verses of lyrics from different artists: Drake, Ed Sheeran and Kanye West (the verses are given in this order)."
   ]
  },
  {
   "cell_type": "code",
   "execution_count": 21,
   "metadata": {
    "ExecuteTime": {
     "end_time": "2021-06-29T13:36:59.522552Z",
     "start_time": "2021-06-29T13:36:58.314288Z"
    },
    "collapsed": true
   },
   "outputs": [
    {
     "data": {
      "text/html": [
       "<div>\n",
       "<style scoped>\n",
       "    .dataframe tbody tr th:only-of-type {\n",
       "        vertical-align: middle;\n",
       "    }\n",
       "\n",
       "    .dataframe tbody tr th {\n",
       "        vertical-align: top;\n",
       "    }\n",
       "\n",
       "    .dataframe thead th {\n",
       "        text-align: right;\n",
       "    }\n",
       "</style>\n",
       "<table border=\"1\" class=\"dataframe\">\n",
       "  <thead>\n",
       "    <tr style=\"text-align: right;\">\n",
       "      <th></th>\n",
       "      <th>artist</th>\n",
       "      <th>verse</th>\n",
       "    </tr>\n",
       "  </thead>\n",
       "  <tbody>\n",
       "    <tr>\n",
       "      <th>0</th>\n",
       "      <td>Drake</td>\n",
       "      <td>Ayy, woah Ayy, ayy Yeah</td>\n",
       "    </tr>\n",
       "    <tr>\n",
       "      <th>1</th>\n",
       "      <td>Drake</td>\n",
       "      <td>I'm makin' a change today The liquor been taki...</td>\n",
       "    </tr>\n",
       "    <tr>\n",
       "      <th>2</th>\n",
       "      <td>Drake</td>\n",
       "      <td>I can't just be with you and only you Yeah, I ...</td>\n",
       "    </tr>\n",
       "    <tr>\n",
       "      <th>3</th>\n",
       "      <td>Drake</td>\n",
       "      <td>Well, summer, all I did was rest, okay? And Ne...</td>\n",
       "    </tr>\n",
       "    <tr>\n",
       "      <th>4</th>\n",
       "      <td>Drake</td>\n",
       "      <td>I'm makin' a change today The liquor been taki...</td>\n",
       "    </tr>\n",
       "    <tr>\n",
       "      <th>...</th>\n",
       "      <td>...</td>\n",
       "      <td>...</td>\n",
       "    </tr>\n",
       "    <tr>\n",
       "      <th>3970</th>\n",
       "      <td>Kanye West</td>\n",
       "      <td>Dame was like, \"Yo you got a deal with Capitol...</td>\n",
       "    </tr>\n",
       "    <tr>\n",
       "      <th>3971</th>\n",
       "      <td>Kanye West</td>\n",
       "      <td>Then one day I just went ahead and played it, ...</td>\n",
       "    </tr>\n",
       "    <tr>\n",
       "      <th>3972</th>\n",
       "      <td>Kanye West</td>\n",
       "      <td>\"I ain't gonna front, it's kinda hot.\"</td>\n",
       "    </tr>\n",
       "    <tr>\n",
       "      <th>3973</th>\n",
       "      <td>Kanye West</td>\n",
       "      <td>Like they still weren't looking at me like a r...</td>\n",
       "    </tr>\n",
       "    <tr>\n",
       "      <th>3974</th>\n",
       "      <td>Kanye West</td>\n",
       "      <td>\"You gotta be under an umbrella, you'll get ra...</td>\n",
       "    </tr>\n",
       "  </tbody>\n",
       "</table>\n",
       "<p>3975 rows × 2 columns</p>\n",
       "</div>"
      ],
      "text/plain": [
       "          artist                                              verse\n",
       "0          Drake                            Ayy, woah Ayy, ayy Yeah\n",
       "1          Drake  I'm makin' a change today The liquor been taki...\n",
       "2          Drake  I can't just be with you and only you Yeah, I ...\n",
       "3          Drake  Well, summer, all I did was rest, okay? And Ne...\n",
       "4          Drake  I'm makin' a change today The liquor been taki...\n",
       "...          ...                                                ...\n",
       "3970  Kanye West  Dame was like, \"Yo you got a deal with Capitol...\n",
       "3971  Kanye West  Then one day I just went ahead and played it, ...\n",
       "3972  Kanye West             \"I ain't gonna front, it's kinda hot.\"\n",
       "3973  Kanye West  Like they still weren't looking at me like a r...\n",
       "3974  Kanye West  \"You gotta be under an umbrella, you'll get ra...\n",
       "\n",
       "[3975 rows x 2 columns]"
      ]
     },
     "execution_count": 21,
     "metadata": {},
     "output_type": "execute_result"
    }
   ],
   "source": [
    "raw_data = pd.read_csv(\"https://wagon-public-datasets.s3.amazonaws.com/certification_france_2021_q2/verses.csv\")\n",
    "data = raw_data.copy() # From now on, update `data` as you see fit and don't touch raw_data\n",
    "data"
   ]
  },
  {
   "cell_type": "markdown",
   "metadata": {},
   "source": [
    "❓ **Have a look at the verse index 18th**. \n",
    "- What do you observe?\n",
    "- Clean verses from non standard characters using [`unidecode.unidecode()`](https://pypi.org/project/Unidecode/)"
   ]
  },
  {
   "cell_type": "code",
   "execution_count": 22,
   "metadata": {
    "ExecuteTime": {
     "end_time": "2021-06-29T13:36:59.673989Z",
     "start_time": "2021-06-29T13:36:59.669384Z"
    },
    "tags": [
     "challengify"
    ]
   },
   "outputs": [
    {
     "data": {
      "text/plain": [
       "'Ayy, yeah Pipe this shit up and I turn this shit up When I was down, I\\u2005was\\u2005down Now them diamonds\\u2005for fun like damn Ayy, yeah'"
      ]
     },
     "execution_count": 22,
     "metadata": {},
     "output_type": "execute_result"
    }
   ],
   "source": [
    "data.iloc[18].verse # the strings has some unicode weird characters e.G. \\u2005was\\u2005"
   ]
  },
  {
   "cell_type": "code",
   "execution_count": 23,
   "metadata": {
    "ExecuteTime": {
     "end_time": "2021-06-29T13:36:59.909594Z",
     "start_time": "2021-06-29T13:36:59.757206Z"
    }
   },
   "outputs": [
    {
     "name": "stdout",
     "output_type": "stream",
     "text": [
      "(3975, 2)\n",
      "(3975, 2)\n",
      "Ayy, yeah Pipe this shit up and I turn this shit up When I was down, I was down Now them diamonds for fun like damn Ayy, yeah\n"
     ]
    }
   ],
   "source": [
    "print(data.shape)\n",
    "data.verse = data.verse.apply(unidecode)\n",
    "print(data.shape)\n",
    "print(data.iloc[18].verse)  # should be cleaned"
   ]
  },
  {
   "cell_type": "markdown",
   "metadata": {},
   "source": [
    "❓ **Check if some verses are duplicated.** \n",
    "- It can be frequent in music lyrics.\n",
    "- If so, remove them to avoid data leaks between train and test sets"
   ]
  },
  {
   "cell_type": "code",
   "execution_count": 24,
   "metadata": {
    "ExecuteTime": {
     "end_time": "2021-06-29T13:37:05.447115Z",
     "start_time": "2021-06-29T13:37:05.439289Z"
    },
    "tags": [
     "challengify"
    ]
   },
   "outputs": [
    {
     "data": {
      "text/plain": [
       "946"
      ]
     },
     "execution_count": 24,
     "metadata": {},
     "output_type": "execute_result"
    }
   ],
   "source": [
    "data.verse.duplicated().sum() # 946 duplicated lyrics"
   ]
  },
  {
   "cell_type": "code",
   "execution_count": 27,
   "metadata": {
    "ExecuteTime": {
     "end_time": "2021-06-29T13:38:18.668099Z",
     "start_time": "2021-06-29T13:38:18.658281Z"
    }
   },
   "outputs": [],
   "source": [
    "data.drop_duplicates(subset='verse', inplace=True)"
   ]
  },
  {
   "cell_type": "code",
   "execution_count": 28,
   "metadata": {
    "ExecuteTime": {
     "end_time": "2021-06-29T13:38:18.999948Z",
     "start_time": "2021-06-29T13:38:18.993446Z"
    }
   },
   "outputs": [],
   "source": [
    "#3031 rows × 2 columns without subset vs 3029 rows × 2 columns with subset"
   ]
  },
  {
   "cell_type": "code",
   "execution_count": 29,
   "metadata": {
    "ExecuteTime": {
     "end_time": "2021-06-29T13:38:19.380617Z",
     "start_time": "2021-06-29T13:38:19.372198Z"
    }
   },
   "outputs": [],
   "source": [
    "from nbresult import ChallengeResult\n",
    "result = ChallengeResult(\n",
    "    'data_loading',\n",
    "    shape=data.shape,\n",
    "    verses=data.verse[:50]\n",
    ")\n",
    "\n",
    "result.write()"
   ]
  },
  {
   "cell_type": "markdown",
   "metadata": {
    "heading_collapsed": true
   },
   "source": [
    "## 2. Data Analysis (given to you)"
   ]
  },
  {
   "cell_type": "markdown",
   "metadata": {
    "hidden": true
   },
   "source": [
    "👉 **We check the number of unique artist and the number of verses per artist**"
   ]
  },
  {
   "cell_type": "code",
   "execution_count": 30,
   "metadata": {
    "ExecuteTime": {
     "end_time": "2021-06-29T13:39:54.998333Z",
     "start_time": "2021-06-29T13:39:54.983946Z"
    },
    "hidden": true
   },
   "outputs": [
    {
     "data": {
      "text/plain": [
       "Drake         1391\n",
       "Ed Sheeran     861\n",
       "Kanye West     777\n",
       "Name: artist, dtype: int64"
      ]
     },
     "execution_count": 30,
     "metadata": {},
     "output_type": "execute_result"
    }
   ],
   "source": [
    "data.artist.value_counts()"
   ]
  },
  {
   "cell_type": "markdown",
   "metadata": {
    "hidden": true
   },
   "source": [
    "👉 **For each artist, let's have a look at the top-10 most used words to see if they look similar?**\n",
    "\n",
    "We'll use Tensorflow's [`Tokenizer`](https://www.tensorflow.org/api_docs/python/tf/keras/preprocessing/text/Tokenizer)'s index_word"
   ]
  },
  {
   "cell_type": "code",
   "execution_count": 31,
   "metadata": {
    "ExecuteTime": {
     "end_time": "2021-06-29T13:40:27.514895Z",
     "start_time": "2021-06-29T13:40:27.500593Z"
    },
    "hidden": true
   },
   "outputs": [],
   "source": [
    "drake = data[data.artist =='Drake'].verse\n",
    "ed = data[data.artist =='Ed Sheeran'].verse\n",
    "kanye = data[data.artist =='Kanye West'].verse"
   ]
  },
  {
   "cell_type": "code",
   "execution_count": 32,
   "metadata": {
    "ExecuteTime": {
     "end_time": "2021-06-29T13:41:05.324257Z",
     "start_time": "2021-06-29T13:41:05.118373Z"
    },
    "hidden": true
   },
   "outputs": [],
   "source": [
    "tokenizer_drake = tf.keras.preprocessing.text.Tokenizer()\n",
    "tokenizer_ed = tf.keras.preprocessing.text.Tokenizer()\n",
    "tokenizer_kanye = tf.keras.preprocessing.text.Tokenizer()\n",
    "\n",
    "tokenizer_drake.fit_on_texts(drake)\n",
    "tokenizer_ed.fit_on_texts(ed)\n",
    "tokenizer_kanye.fit_on_texts(kanye)"
   ]
  },
  {
   "cell_type": "code",
   "execution_count": 33,
   "metadata": {
    "ExecuteTime": {
     "end_time": "2021-06-29T13:41:12.770441Z",
     "start_time": "2021-06-29T13:41:12.740895Z"
    },
    "hidden": true
   },
   "outputs": [
    {
     "data": {
      "text/html": [
       "<div>\n",
       "<style scoped>\n",
       "    .dataframe tbody tr th:only-of-type {\n",
       "        vertical-align: middle;\n",
       "    }\n",
       "\n",
       "    .dataframe tbody tr th {\n",
       "        vertical-align: top;\n",
       "    }\n",
       "\n",
       "    .dataframe thead th {\n",
       "        text-align: right;\n",
       "    }\n",
       "</style>\n",
       "<table border=\"1\" class=\"dataframe\">\n",
       "  <thead>\n",
       "    <tr style=\"text-align: right;\">\n",
       "      <th></th>\n",
       "      <th>Drake</th>\n",
       "      <th>Ed Sheeran</th>\n",
       "      <th>Kanye West</th>\n",
       "    </tr>\n",
       "  </thead>\n",
       "  <tbody>\n",
       "    <tr>\n",
       "      <th>1</th>\n",
       "      <td>i</td>\n",
       "      <td>i</td>\n",
       "      <td>i</td>\n",
       "    </tr>\n",
       "    <tr>\n",
       "      <th>2</th>\n",
       "      <td>you</td>\n",
       "      <td>you</td>\n",
       "      <td>the</td>\n",
       "    </tr>\n",
       "    <tr>\n",
       "      <th>3</th>\n",
       "      <td>the</td>\n",
       "      <td>the</td>\n",
       "      <td>you</td>\n",
       "    </tr>\n",
       "    <tr>\n",
       "      <th>4</th>\n",
       "      <td>and</td>\n",
       "      <td>and</td>\n",
       "      <td>and</td>\n",
       "    </tr>\n",
       "    <tr>\n",
       "      <th>5</th>\n",
       "      <td>to</td>\n",
       "      <td>me</td>\n",
       "      <td>to</td>\n",
       "    </tr>\n",
       "    <tr>\n",
       "      <th>6</th>\n",
       "      <td>a</td>\n",
       "      <td>my</td>\n",
       "      <td>a</td>\n",
       "    </tr>\n",
       "    <tr>\n",
       "      <th>7</th>\n",
       "      <td>it</td>\n",
       "      <td>to</td>\n",
       "      <td>my</td>\n",
       "    </tr>\n",
       "    <tr>\n",
       "      <th>8</th>\n",
       "      <td>me</td>\n",
       "      <td>a</td>\n",
       "      <td>it</td>\n",
       "    </tr>\n",
       "    <tr>\n",
       "      <th>9</th>\n",
       "      <td>i'm</td>\n",
       "      <td>in</td>\n",
       "      <td>me</td>\n",
       "    </tr>\n",
       "    <tr>\n",
       "      <th>10</th>\n",
       "      <td>my</td>\n",
       "      <td>i'm</td>\n",
       "      <td>in</td>\n",
       "    </tr>\n",
       "  </tbody>\n",
       "</table>\n",
       "</div>"
      ],
      "text/plain": [
       "   Drake Ed Sheeran Kanye West\n",
       "1      i          i          i\n",
       "2    you        you        the\n",
       "3    the        the        you\n",
       "4    and        and        and\n",
       "5     to         me         to\n",
       "6      a         my          a\n",
       "7     it         to         my\n",
       "8     me          a         it\n",
       "9    i'm         in         me\n",
       "10    my        i'm         in"
      ]
     },
     "execution_count": 33,
     "metadata": {},
     "output_type": "execute_result"
    }
   ],
   "source": [
    "pd.DataFrame(data={\n",
    "    \"Drake\": pd.Series(tokenizer_drake.index_word)[:10],\n",
    "    \"Ed Sheeran\": pd.Series(tokenizer_ed.index_word)[:10],\n",
    "    \"Kanye West\": pd.Series(tokenizer_kanye.index_word)[:10],\n",
    "})"
   ]
  },
  {
   "cell_type": "code",
   "execution_count": 36,
   "metadata": {
    "ExecuteTime": {
     "end_time": "2021-06-29T13:42:56.743787Z",
     "start_time": "2021-06-29T13:42:56.714718Z"
    },
    "collapsed": true,
    "hidden": true
   },
   "outputs": [
    {
     "data": {
      "text/plain": [
       "{1: 'i',\n",
       " 2: 'you',\n",
       " 3: 'the',\n",
       " 4: 'and',\n",
       " 5: 'to',\n",
       " 6: 'a',\n",
       " 7: 'it',\n",
       " 8: 'me',\n",
       " 9: \"i'm\",\n",
       " 10: 'my',\n",
       " 11: 'that',\n",
       " 12: 'in',\n",
       " 13: 'on',\n",
       " 14: 'like',\n",
       " 15: 'know',\n",
       " 16: 'for',\n",
       " 17: 'they',\n",
       " 18: 'yeah',\n",
       " 19: 'just',\n",
       " 20: 'with',\n",
       " 21: 'all',\n",
       " 22: 'of',\n",
       " 23: 'up',\n",
       " 24: 'is',\n",
       " 25: 'got',\n",
       " 26: 'but',\n",
       " 27: \"don't\",\n",
       " 28: 'this',\n",
       " 29: \"it's\",\n",
       " 30: 'we',\n",
       " 31: 'get',\n",
       " 32: 'your',\n",
       " 33: 'be',\n",
       " 34: 'when',\n",
       " 35: 'so',\n",
       " 36: 'no',\n",
       " 37: 'shit',\n",
       " 38: 'what',\n",
       " 39: 'now',\n",
       " 40: 'do',\n",
       " 41: 'out',\n",
       " 42: 'she',\n",
       " 43: 'go',\n",
       " 44: \"ain't\",\n",
       " 45: 'if',\n",
       " 46: 'girl',\n",
       " 47: \"that's\",\n",
       " 48: 'at',\n",
       " 49: 'man',\n",
       " 50: 'back',\n",
       " 51: 'from',\n",
       " 52: 'was',\n",
       " 53: 'oh',\n",
       " 54: 'time',\n",
       " 55: 'down',\n",
       " 56: 'how',\n",
       " 57: 'niggas',\n",
       " 58: 'never',\n",
       " 59: 'love',\n",
       " 60: 'one',\n",
       " 61: 'right',\n",
       " 62: 'been',\n",
       " 63: \"can't\",\n",
       " 64: 'say',\n",
       " 65: 'nigga',\n",
       " 66: 'can',\n",
       " 67: 'not',\n",
       " 68: 'need',\n",
       " 69: 'tell',\n",
       " 70: 'still',\n",
       " 71: \"'cause\",\n",
       " 72: 'make',\n",
       " 73: 'some',\n",
       " 74: 'baby',\n",
       " 75: 'her',\n",
       " 76: 'way',\n",
       " 77: 'gotta',\n",
       " 78: 'see',\n",
       " 79: 'wanna',\n",
       " 80: 'too',\n",
       " 81: 'take',\n",
       " 82: 'about',\n",
       " 83: 'are',\n",
       " 84: 'have',\n",
       " 85: 'fuck',\n",
       " 86: 'money',\n",
       " 87: 'more',\n",
       " 88: 'here',\n",
       " 89: 'these',\n",
       " 90: 'want',\n",
       " 91: 'where',\n",
       " 92: 'let',\n",
       " 93: 'off',\n",
       " 94: 'even',\n",
       " 95: 'had',\n",
       " 96: \"you're\",\n",
       " 97: 'ayy',\n",
       " 98: 'then',\n",
       " 99: 'think',\n",
       " 100: 'feel',\n",
       " 101: 'them',\n",
       " 102: 'really',\n",
       " 103: 'over',\n",
       " 104: 'who',\n",
       " 105: 'could',\n",
       " 106: 'as',\n",
       " 107: 'give',\n",
       " 108: 'why',\n",
       " 109: 'only',\n",
       " 110: 'life',\n",
       " 111: 'new',\n",
       " 112: 'he',\n",
       " 113: 'look',\n",
       " 114: 'uh',\n",
       " 115: 'ya',\n",
       " 116: 'real',\n",
       " 117: \"'em\",\n",
       " 118: 'or',\n",
       " 119: 'things',\n",
       " 120: 'come',\n",
       " 121: \"i'll\",\n",
       " 122: 'always',\n",
       " 123: 'us',\n",
       " 124: 'did',\n",
       " 125: 'good',\n",
       " 126: 'through',\n",
       " 127: 'done',\n",
       " 128: \"i've\",\n",
       " 129: 'every',\n",
       " 130: 'there',\n",
       " 131: 'than',\n",
       " 132: 'city',\n",
       " 133: 'tryna',\n",
       " 134: 'put',\n",
       " 135: 'would',\n",
       " 136: 'said',\n",
       " 137: 'call',\n",
       " 138: 'ever',\n",
       " 139: 'keep',\n",
       " 140: 'much',\n",
       " 141: 'hit',\n",
       " 142: 'same',\n",
       " 143: 'cause',\n",
       " 144: \"'bout\",\n",
       " 145: 'boy',\n",
       " 146: 'bitch',\n",
       " 147: 'around',\n",
       " 148: 'should',\n",
       " 149: 'am',\n",
       " 150: 'everything',\n",
       " 151: \"y'all\",\n",
       " 152: 'thing',\n",
       " 153: 'own',\n",
       " 154: 'used',\n",
       " 155: 'people',\n",
       " 156: \"what's\",\n",
       " 157: 'better',\n",
       " 158: \"fuckin'\",\n",
       " 159: 'guess',\n",
       " 160: 'night',\n",
       " 161: 'lot',\n",
       " 162: 'made',\n",
       " 163: \"gon'\",\n",
       " 164: 'girls',\n",
       " 165: 'home',\n",
       " 166: 'mind',\n",
       " 167: 'woah',\n",
       " 168: 'ooh',\n",
       " 169: \"there's\",\n",
       " 170: \"tryin'\",\n",
       " 171: 'show',\n",
       " 172: 'young',\n",
       " 173: 'by',\n",
       " 174: 'before',\n",
       " 175: 'going',\n",
       " 176: 'told',\n",
       " 177: 'friends',\n",
       " 178: \"i'ma\",\n",
       " 179: 'long',\n",
       " 180: 'last',\n",
       " 181: 'though',\n",
       " 182: 'whole',\n",
       " 183: 'other',\n",
       " 184: 'again',\n",
       " 185: 'first',\n",
       " 186: 'find',\n",
       " 187: 'live',\n",
       " 188: 'mean',\n",
       " 189: 'day',\n",
       " 190: 'started',\n",
       " 191: 'drake',\n",
       " 192: \"won't\",\n",
       " 193: 'two',\n",
       " 194: \"gettin'\",\n",
       " 195: 'talk',\n",
       " 196: 'bad',\n",
       " 197: 'check',\n",
       " 198: 'something',\n",
       " 199: 'hate',\n",
       " 200: 'gone',\n",
       " 201: 'damn',\n",
       " 202: 'myself',\n",
       " 203: 'already',\n",
       " 204: 'little',\n",
       " 205: 'someone',\n",
       " 206: 'play',\n",
       " 207: 'hard',\n",
       " 208: 'game',\n",
       " 209: 'will',\n",
       " 210: 'stay',\n",
       " 211: 'stop',\n",
       " 212: 'days',\n",
       " 213: 'try',\n",
       " 214: 'big',\n",
       " 215: \"talkin'\",\n",
       " 216: \"somethin'\",\n",
       " 217: 'okay',\n",
       " 218: 'an',\n",
       " 219: 'work',\n",
       " 220: 'ass',\n",
       " 221: 'well',\n",
       " 222: 'might',\n",
       " 223: 'left',\n",
       " 224: 'top',\n",
       " 225: 'heart',\n",
       " 226: 'mine',\n",
       " 227: 'drop',\n",
       " 228: 'women',\n",
       " 229: 'face',\n",
       " 230: 'run',\n",
       " 231: 'hear',\n",
       " 232: 'preach',\n",
       " 233: 'leave',\n",
       " 234: 'after',\n",
       " 235: 'bitches',\n",
       " 236: 'name',\n",
       " 237: 'heard',\n",
       " 238: 'watch',\n",
       " 239: \"goin'\",\n",
       " 240: 'turn',\n",
       " 241: 'hold',\n",
       " 242: 'yours',\n",
       " 243: 'came',\n",
       " 244: 'different',\n",
       " 245: 'him',\n",
       " 246: 'old',\n",
       " 247: 'bring',\n",
       " 248: 'trying',\n",
       " 249: 'went',\n",
       " 250: 'huh',\n",
       " 251: \"let's\",\n",
       " 252: 'thought',\n",
       " 253: 'ask',\n",
       " 254: 'our',\n",
       " 255: 'couple',\n",
       " 256: 'best',\n",
       " 257: 'getting',\n",
       " 258: \"we're\",\n",
       " 259: 'probably',\n",
       " 260: 'miss',\n",
       " 261: 'phone',\n",
       " 262: 'because',\n",
       " 263: \"doin'\",\n",
       " 264: 'since',\n",
       " 265: 'nobody',\n",
       " 266: \"i'd\",\n",
       " 267: 'his',\n",
       " 268: 'end',\n",
       " 269: 'somebody',\n",
       " 270: 'place',\n",
       " 271: 'ha',\n",
       " 272: 'head',\n",
       " 273: 'hope',\n",
       " 274: \"'til\",\n",
       " 275: 'side',\n",
       " 276: 'world',\n",
       " 277: 'swear',\n",
       " 278: 'start',\n",
       " 279: 'remember',\n",
       " 280: 'house',\n",
       " 281: 'feeling',\n",
       " 282: 'nah',\n",
       " 283: 'break',\n",
       " 284: 'sure',\n",
       " 285: 'nothing',\n",
       " 286: 'wrong',\n",
       " 287: 'trust',\n",
       " 288: 'year',\n",
       " 289: 'crazy',\n",
       " 290: 'maybe',\n",
       " 291: 'alone',\n",
       " 292: 'late',\n",
       " 293: 'god',\n",
       " 294: 'knew',\n",
       " 295: 'faded',\n",
       " 296: 'next',\n",
       " 297: 'listen',\n",
       " 298: 'help',\n",
       " 299: 'tonight',\n",
       " 300: 'away',\n",
       " 301: 'without',\n",
       " 302: 'die',\n",
       " 303: 'high',\n",
       " 304: \"sayin'\",\n",
       " 305: 'aye',\n",
       " 306: 'enough',\n",
       " 307: 'care',\n",
       " 308: \"you've\",\n",
       " 309: 'change',\n",
       " 310: 'many',\n",
       " 311: \"she's\",\n",
       " 312: 'road',\n",
       " 313: 'fall',\n",
       " 314: 'dance',\n",
       " 315: 'lights',\n",
       " 316: 'ones',\n",
       " 317: 'light',\n",
       " 318: 'hey',\n",
       " 319: 'brand',\n",
       " 320: 'gonna',\n",
       " 321: \"we'll\",\n",
       " 322: 'took',\n",
       " 323: 'please',\n",
       " 324: \"lookin'\",\n",
       " 325: \"nothin'\",\n",
       " 326: 'seen',\n",
       " 327: 'wait',\n",
       " 328: 'doing',\n",
       " 329: 'times',\n",
       " 330: 'hot',\n",
       " 331: \"wasn't\",\n",
       " 332: 'everybody',\n",
       " 333: 'beat',\n",
       " 334: 'team',\n",
       " 335: 'wish',\n",
       " 336: 'together',\n",
       " 337: 'into',\n",
       " 338: \"didn't\",\n",
       " 339: 'believe',\n",
       " 340: 'yes',\n",
       " 341: 'else',\n",
       " 342: \"you'll\",\n",
       " 343: 'goes',\n",
       " 344: 'another',\n",
       " 345: 'their',\n",
       " 346: 'forget',\n",
       " 347: 'gave',\n",
       " 348: 'black',\n",
       " 349: 'song',\n",
       " 350: 'missing',\n",
       " 351: '6',\n",
       " 352: 'were',\n",
       " 353: 'most',\n",
       " 354: 'ho',\n",
       " 355: 'summer',\n",
       " 356: 'music',\n",
       " 357: 'flow',\n",
       " 358: 'bet',\n",
       " 359: 'story',\n",
       " 360: 'straight',\n",
       " 361: 'ride',\n",
       " 362: 'lie',\n",
       " 363: 'd',\n",
       " 364: 'dog',\n",
       " 365: 'kick',\n",
       " 366: 'while',\n",
       " 367: 'ready',\n",
       " 368: 'met',\n",
       " 369: \"couldn't\",\n",
       " 370: 'looking',\n",
       " 371: 'bottom',\n",
       " 372: 'pay',\n",
       " 373: 'town',\n",
       " 374: 'yourself',\n",
       " 375: 'f',\n",
       " 376: 'those',\n",
       " 377: 'woo',\n",
       " 378: 'six',\n",
       " 379: 'understand',\n",
       " 380: 'lose',\n",
       " 381: 'smoke',\n",
       " 382: 'hoes',\n",
       " 383: 'both',\n",
       " 384: 'club',\n",
       " 385: 'type',\n",
       " 386: 'move',\n",
       " 387: 'nice',\n",
       " 388: 'fucking',\n",
       " 389: 'talking',\n",
       " 390: 'sick',\n",
       " 391: 'lost',\n",
       " 392: 'line',\n",
       " 393: 'whatever',\n",
       " 394: 'cut',\n",
       " 395: 'forever',\n",
       " 396: 'hand',\n",
       " 397: 'anything',\n",
       " 398: 'true',\n",
       " 399: 'push',\n",
       " 400: 'momma',\n",
       " 401: 'hell',\n",
       " 402: 'four',\n",
       " 403: 'rappers',\n",
       " 404: 'throw',\n",
       " 405: 'sound',\n",
       " 406: 'cash',\n",
       " 407: 'stuck',\n",
       " 408: 'heat',\n",
       " 409: 'past',\n",
       " 410: 'king',\n",
       " 411: 'being',\n",
       " 412: 'single',\n",
       " 413: 'years',\n",
       " 414: 'three',\n",
       " 415: 'r',\n",
       " 416: 'reason',\n",
       " 417: 'wonder',\n",
       " 418: 'lonely',\n",
       " 419: 'inside',\n",
       " 420: 'has',\n",
       " 421: 'free',\n",
       " 422: 'woman',\n",
       " 423: 'gets',\n",
       " 424: 'working',\n",
       " 425: 'moment',\n",
       " 426: 'shut',\n",
       " 427: 'its',\n",
       " 428: 'dedicate',\n",
       " 429: 'double',\n",
       " 430: 'pull',\n",
       " 431: \"feelin'\",\n",
       " 432: 'yo',\n",
       " 433: 'tried',\n",
       " 434: 'pop',\n",
       " 435: 'aw',\n",
       " 436: 'low',\n",
       " 437: 'sit',\n",
       " 438: 'soon',\n",
       " 439: 'once',\n",
       " 440: \"wouldn't\",\n",
       " 441: 'crib',\n",
       " 442: 'far',\n",
       " 443: 'fly',\n",
       " 444: 'family',\n",
       " 445: 'hands',\n",
       " 446: 'sometimes',\n",
       " 447: 'stick',\n",
       " 448: 'boys',\n",
       " 449: \"makin'\",\n",
       " 450: \"takin'\",\n",
       " 451: 'buy',\n",
       " 452: 'kill',\n",
       " 453: 'drizzy',\n",
       " 454: 'slide',\n",
       " 455: 'open',\n",
       " 456: 'cold',\n",
       " 457: 'bit',\n",
       " 458: 'ice',\n",
       " 459: 'word',\n",
       " 460: 'anybody',\n",
       " 461: 'loved',\n",
       " 462: 'deal',\n",
       " 463: 'fine',\n",
       " 464: 'rest',\n",
       " 465: 'must',\n",
       " 466: 'motherfucker',\n",
       " 467: 'spend',\n",
       " 468: 'eyes',\n",
       " 469: 'car',\n",
       " 470: \"comin'\",\n",
       " 471: 'instead',\n",
       " 472: 'any',\n",
       " 473: 'changed',\n",
       " 474: 'coming',\n",
       " 475: 'rap',\n",
       " 476: 'hair',\n",
       " 477: 'ay',\n",
       " 478: 'funny',\n",
       " 479: 'million',\n",
       " 480: \"livin'\",\n",
       " 481: \"'round\",\n",
       " 482: 'under',\n",
       " 483: 'half',\n",
       " 484: 'drink',\n",
       " 485: 'homie',\n",
       " 486: 'outside',\n",
       " 487: 'fancy',\n",
       " 488: 'party',\n",
       " 489: 'shawty',\n",
       " 490: \"tellin'\",\n",
       " 491: 'room',\n",
       " 492: 'verse',\n",
       " 493: \"wishin'\",\n",
       " 494: 'pussy',\n",
       " 495: 'making',\n",
       " 496: 'busy',\n",
       " 497: 'g',\n",
       " 498: 'set',\n",
       " 499: 'body',\n",
       " 500: 'fast',\n",
       " 501: 'either',\n",
       " 502: 'touch',\n",
       " 503: 'knows',\n",
       " 504: \"you'd\",\n",
       " 505: 'special',\n",
       " 506: 'b',\n",
       " 507: 'school',\n",
       " 508: 'five',\n",
       " 509: 'white',\n",
       " 510: 'second',\n",
       " 511: 'alright',\n",
       " 512: \"hannenin'\",\n",
       " 513: 'star',\n",
       " 514: \"he's\",\n",
       " 515: 'stand',\n",
       " 516: 'loving',\n",
       " 517: 'broke',\n",
       " 518: 'business',\n",
       " 519: 'full',\n",
       " 520: 'rich',\n",
       " 521: 'front',\n",
       " 522: 'meet',\n",
       " 523: 'diamonds',\n",
       " 524: 'air',\n",
       " 525: \"workin'\",\n",
       " 526: 'wanted',\n",
       " 527: \"doesn't\",\n",
       " 528: 'less',\n",
       " 529: 'scared',\n",
       " 530: \"lovin'\",\n",
       " 531: 'deserve',\n",
       " 532: 'na',\n",
       " 533: \"i'mma\",\n",
       " 534: 'truth',\n",
       " 535: 'soul',\n",
       " 536: \"haven't\",\n",
       " 537: 'ten',\n",
       " 538: 'foot',\n",
       " 539: 'champagne',\n",
       " 540: 'peace',\n",
       " 541: 'chance',\n",
       " 542: 'point',\n",
       " 543: 'pick',\n",
       " 544: 'sleep',\n",
       " 545: 'sorry',\n",
       " 546: 'number',\n",
       " 547: \"playin'\",\n",
       " 548: 'crew',\n",
       " 549: 'ball',\n",
       " 550: 'fact',\n",
       " 551: \"thinkin'\",\n",
       " 552: 'living',\n",
       " 553: 'happen',\n",
       " 554: 'least',\n",
       " 555: 'm',\n",
       " 556: 'outta',\n",
       " 557: 'fake',\n",
       " 558: 'mama',\n",
       " 559: 'fun',\n",
       " 560: 'jump',\n",
       " 561: 'dreams',\n",
       " 562: \"runnin'\",\n",
       " 563: 'needed',\n",
       " 564: 'shout',\n",
       " 565: 'slow',\n",
       " 566: 'trip',\n",
       " 567: 'account',\n",
       " 568: 'thank',\n",
       " 569: 'problems',\n",
       " 570: 'rather',\n",
       " 571: 'bought',\n",
       " 572: 'skrrt',\n",
       " 573: \"they'd\",\n",
       " 574: 'saying',\n",
       " 575: 'whoa',\n",
       " 576: 'worst',\n",
       " 577: 'promise',\n",
       " 578: 'record',\n",
       " 579: 'pain',\n",
       " 580: 'later',\n",
       " 581: \"lil'\",\n",
       " 582: 'send',\n",
       " 583: 'cry',\n",
       " 584: 'hundred',\n",
       " 585: 'ladies',\n",
       " 586: 'kid',\n",
       " 587: 'write',\n",
       " 588: 'catch',\n",
       " 589: 'until',\n",
       " 590: 'fresh',\n",
       " 591: 'roll',\n",
       " 592: 'taking',\n",
       " 593: 'does',\n",
       " 594: 'nights',\n",
       " 595: 'blow',\n",
       " 596: 'weezy',\n",
       " 597: 'bigger',\n",
       " 598: 'caught',\n",
       " 599: 'o',\n",
       " 600: 'ring',\n",
       " 601: 'streets',\n",
       " 602: \"'fore\",\n",
       " 603: \"bein'\",\n",
       " 604: 'tired',\n",
       " 605: 'switch',\n",
       " 606: \"isn't\",\n",
       " 607: 'paid',\n",
       " 608: 'plan',\n",
       " 609: 'notice',\n",
       " 610: 'street',\n",
       " 611: 'rhyme',\n",
       " 612: 'shots',\n",
       " 613: 'shot',\n",
       " 614: 'motion',\n",
       " 615: 'perfect',\n",
       " 616: 'dark',\n",
       " 617: 'aww',\n",
       " 618: 'thinking',\n",
       " 619: 'running',\n",
       " 620: 'blue',\n",
       " 621: 'today',\n",
       " 622: 'whip',\n",
       " 623: 'ex',\n",
       " 624: 'walk',\n",
       " 625: 'deep',\n",
       " 626: 'dead',\n",
       " 627: 'block',\n",
       " 628: 'act',\n",
       " 629: 'feelings',\n",
       " 630: 'finally',\n",
       " 631: 'round',\n",
       " 632: 'safe',\n",
       " 633: 'quick',\n",
       " 634: 'friend',\n",
       " 635: 'dollar',\n",
       " 636: 'along',\n",
       " 637: 'bounce',\n",
       " 638: 'admit',\n",
       " 639: 'bed',\n",
       " 640: 'gun',\n",
       " 641: 'found',\n",
       " 642: 'comes',\n",
       " 643: 'wave',\n",
       " 644: 'plus',\n",
       " 645: 'michael',\n",
       " 646: 'between',\n",
       " 647: 'close',\n",
       " 648: 'worry',\n",
       " 649: 'respect',\n",
       " 650: 'mother',\n",
       " 651: \"who's\",\n",
       " 652: 'learn',\n",
       " 653: 'lean',\n",
       " 654: 'ovo',\n",
       " 655: 'lord',\n",
       " 656: 'lately',\n",
       " 657: 'waiting',\n",
       " 658: 'part',\n",
       " 659: 'hurt',\n",
       " 660: 'telling',\n",
       " 661: 'worth',\n",
       " 662: 'cake',\n",
       " 663: 'cars',\n",
       " 664: 'fire',\n",
       " 665: 'turned',\n",
       " 666: 'class',\n",
       " 667: 'dick',\n",
       " 668: 'feels',\n",
       " 669: 'wrote',\n",
       " 670: 'hood',\n",
       " 671: 'paper',\n",
       " 672: \"should've\",\n",
       " 673: 'save',\n",
       " 674: 'few',\n",
       " 675: 'seem',\n",
       " 676: \"von's\",\n",
       " 677: \"'crazy\",\n",
       " 678: \"story'\",\n",
       " 679: \"breakin'\",\n",
       " 680: 'picture',\n",
       " 681: 'words',\n",
       " 682: 'playing',\n",
       " 683: 'week',\n",
       " 684: 'matter',\n",
       " 685: 'haters',\n",
       " 686: 'e',\n",
       " 687: 'kinda',\n",
       " 688: 'sex',\n",
       " 689: 'link',\n",
       " 690: 'fucked',\n",
       " 691: 'none',\n",
       " 692: 'famous',\n",
       " 693: 'cannot',\n",
       " 694: 'gang',\n",
       " 695: \"actin'\",\n",
       " 696: 'felt',\n",
       " 697: 'enemies',\n",
       " 698: \"smokin'\",\n",
       " 699: 'mad',\n",
       " 700: 'rock',\n",
       " 701: 'places',\n",
       " 702: 'stories',\n",
       " 703: 'pen',\n",
       " 704: 'eat',\n",
       " 705: 'ting',\n",
       " 706: \"they're\",\n",
       " 707: 'speak',\n",
       " 708: 'cool',\n",
       " 709: 'anymore',\n",
       " 710: 'flows',\n",
       " 711: 'south',\n",
       " 712: 'nails',\n",
       " 713: 'fame',\n",
       " 714: 'death',\n",
       " 715: 'season',\n",
       " 716: 'pressure',\n",
       " 717: 'problem',\n",
       " 718: 'truck',\n",
       " 719: 'sun',\n",
       " 720: 'use',\n",
       " 721: 'miami',\n",
       " 722: 'ways',\n",
       " 723: 'rapper',\n",
       " 724: 'case',\n",
       " 725: 'minute',\n",
       " 726: 'burn',\n",
       " 727: 'men',\n",
       " 728: \"rollin'\",\n",
       " 729: 'question',\n",
       " 730: 'whenever',\n",
       " 731: 'wife',\n",
       " 732: 'sell',\n",
       " 733: \"motherfuckin'\",\n",
       " 734: 'cuz',\n",
       " 735: 'ah',\n",
       " 736: 'whose',\n",
       " 737: 'heavy',\n",
       " 738: 'higher',\n",
       " 739: 'millions',\n",
       " 740: 'condo',\n",
       " 741: 'wine',\n",
       " 742: 'text',\n",
       " 743: 'closer',\n",
       " 744: \"they'll\",\n",
       " 745: '40',\n",
       " 746: 'proud',\n",
       " 747: 'winter',\n",
       " 748: 'bout',\n",
       " 749: 'kiss',\n",
       " 750: 'bass',\n",
       " 751: 'keys',\n",
       " 752: 'daddy',\n",
       " 753: 'brother',\n",
       " 754: 'laugh',\n",
       " 755: 'doubt',\n",
       " 756: 'state',\n",
       " 757: 'lies',\n",
       " 758: 'cover',\n",
       " 759: 'floor',\n",
       " 760: 'supposed',\n",
       " 761: 'rose',\n",
       " 762: 'saw',\n",
       " 763: 'games',\n",
       " 764: 'door',\n",
       " 765: 'mention',\n",
       " 766: 'lay',\n",
       " 767: 'ahead',\n",
       " 768: 'very',\n",
       " 769: 'brea',\n",
       " 770: 'leaving',\n",
       " 771: 'birthday',\n",
       " 772: 'seems',\n",
       " 773: 'belong',\n",
       " 774: 'controlla',\n",
       " 775: 'em',\n",
       " 776: 'chain',\n",
       " 777: 'grown',\n",
       " 778: 'water',\n",
       " 779: \"missin'\",\n",
       " 780: 'chill',\n",
       " 781: 'harder',\n",
       " 782: 'count',\n",
       " 783: \"spinnin'\",\n",
       " 784: 'p',\n",
       " 785: 'called',\n",
       " 786: 'behind',\n",
       " 787: 'order',\n",
       " 788: 'celebrate',\n",
       " 789: 'wrist',\n",
       " 790: 'drive',\n",
       " 791: 'pass',\n",
       " 792: 'houston',\n",
       " 793: 'wet',\n",
       " 794: 'thousand',\n",
       " 795: 'red',\n",
       " 796: 'guy',\n",
       " 797: 'lotta',\n",
       " 798: 'spot',\n",
       " 799: 'studio',\n",
       " 800: 'dream',\n",
       " 801: 'clean',\n",
       " 802: 'attention',\n",
       " 803: 'brought',\n",
       " 804: 'win',\n",
       " 805: \"could've\",\n",
       " 806: 'dirty',\n",
       " 807: 'stayed',\n",
       " 808: 'clothes',\n",
       " 809: 'acting',\n",
       " 810: 'played',\n",
       " 811: 'happened',\n",
       " 812: \"drinkin'\",\n",
       " 813: 'records',\n",
       " 814: 'paint',\n",
       " 815: \"poppin'\",\n",
       " 816: 'asked',\n",
       " 817: 'pictures',\n",
       " 818: 'fans',\n",
       " 819: 'makes',\n",
       " 820: 'tat',\n",
       " 821: 'morning',\n",
       " 822: 'having',\n",
       " 823: 'happy',\n",
       " 824: 'easy',\n",
       " 825: 'wall',\n",
       " 826: 'chick',\n",
       " 827: 'camera',\n",
       " 828: \"ya'll\",\n",
       " 829: \"movin'\",\n",
       " 830: 'numbers',\n",
       " 831: 'yet',\n",
       " 832: 'dollars',\n",
       " 833: 'weed',\n",
       " 834: 'bottle',\n",
       " 835: \"askin'\",\n",
       " 836: \"sittin'\",\n",
       " 837: \"rappin'\",\n",
       " 838: 'guys',\n",
       " 839: 'ties',\n",
       " 840: 'la',\n",
       " 841: 'known',\n",
       " 842: 'wayne',\n",
       " 843: \"blowin'\",\n",
       " 844: 'waste',\n",
       " 845: \"trippin'\",\n",
       " 846: 'control',\n",
       " 847: 'gold',\n",
       " 848: 'park',\n",
       " 849: 'bag',\n",
       " 850: 'sweet',\n",
       " 851: 'glass',\n",
       " 852: 'apart',\n",
       " 853: 'bar',\n",
       " 854: 'teach',\n",
       " 855: \"would've\",\n",
       " 856: 'especially',\n",
       " 857: 'nowadays',\n",
       " 858: 'which',\n",
       " 859: 'chicken',\n",
       " 860: \"kickin'\",\n",
       " 861: 'future',\n",
       " 862: 'fifty',\n",
       " 863: 'yah',\n",
       " 864: 'beautiful',\n",
       " 865: 'motherfucking',\n",
       " 866: 'ba',\n",
       " 867: 'video',\n",
       " 868: 'liquor',\n",
       " 869: 'benz',\n",
       " 870: 'sent',\n",
       " 871: 'twice',\n",
       " 872: 'fit',\n",
       " 873: 'pray',\n",
       " 874: 'bank',\n",
       " 875: 'judge',\n",
       " 876: 'facts',\n",
       " 877: 'hide',\n",
       " 878: 'luck',\n",
       " 879: 'ends',\n",
       " 880: 'kids',\n",
       " 881: 'spent',\n",
       " 882: 'plans',\n",
       " 883: 'plane',\n",
       " 884: \"showin'\",\n",
       " 885: 'meant',\n",
       " 886: 'jackson',\n",
       " 887: 'treat',\n",
       " 888: \"watchin'\",\n",
       " 889: 'somewhere',\n",
       " 890: 'shoot',\n",
       " 891: 'cup',\n",
       " 892: 'k',\n",
       " 893: 'carry',\n",
       " 894: 'alive',\n",
       " 895: 'married',\n",
       " 896: 'nervous',\n",
       " 897: 'shows',\n",
       " 898: 'grammy',\n",
       " 899: 'rode',\n",
       " 900: 'lil',\n",
       " 901: 'lady',\n",
       " 902: 'tour',\n",
       " 903: 'fight',\n",
       " 904: 'bo',\n",
       " 905: 'dough',\n",
       " 906: 'verses',\n",
       " 907: 'gon',\n",
       " 908: 'houstatlantavegas',\n",
       " 909: 'short',\n",
       " 910: 'sign',\n",
       " 911: 'prolly',\n",
       " 912: 'movie',\n",
       " 913: 'faces',\n",
       " 914: 'uncle',\n",
       " 915: 'dinner',\n",
       " 916: 'jordan',\n",
       " 917: 'accept',\n",
       " 918: 'texas',\n",
       " 919: 'mirror',\n",
       " 920: 'bust',\n",
       " 921: 'babe',\n",
       " 922: 'trap',\n",
       " 923: 'certain',\n",
       " 924: 'closed',\n",
       " 925: 't',\n",
       " 926: 'finished',\n",
       " 927: 'everyone',\n",
       " 928: 'sitting',\n",
       " 929: 'dad',\n",
       " 930: 'table',\n",
       " 931: 'flight',\n",
       " 932: 'everywhere',\n",
       " 933: 'shift',\n",
       " 934: 'read',\n",
       " 935: 'rolling',\n",
       " 936: 'basement',\n",
       " 937: 'figure',\n",
       " 938: 'track',\n",
       " 939: 'afraid',\n",
       " 940: 'serious',\n",
       " 941: 'riding',\n",
       " 942: 'blame',\n",
       " 943: \"here's\",\n",
       " 944: 'soldier',\n",
       " 945: 'mo',\n",
       " 946: 'southern',\n",
       " 947: 'trey',\n",
       " 948: 'spring',\n",
       " 949: \"givin'\",\n",
       " 950: 'boss',\n",
       " 951: 'dress',\n",
       " 952: 'dogs',\n",
       " 953: 'secret',\n",
       " 954: 'favorite',\n",
       " 955: 'twenty',\n",
       " 956: 'purpose',\n",
       " 957: 'honest',\n",
       " 958: 'drunk',\n",
       " 959: 'brothers',\n",
       " 960: 'shorty',\n",
       " 961: 'land',\n",
       " 962: 'credit',\n",
       " 963: 'legend',\n",
       " 964: 'build',\n",
       " 965: 'stone',\n",
       " 966: 'rain',\n",
       " 967: 'beside',\n",
       " 968: 'asleep',\n",
       " 969: 'east',\n",
       " 970: 'extra',\n",
       " 971: \"that'll\",\n",
       " 972: 'green',\n",
       " 973: 'piece',\n",
       " 974: 'handle',\n",
       " 975: 'threw',\n",
       " 976: 'louis',\n",
       " 977: 'x',\n",
       " 978: 'style',\n",
       " 979: 'y',\n",
       " 980: 'axl',\n",
       " 981: 'shoes',\n",
       " 982: 'wake',\n",
       " 983: 'realize',\n",
       " 984: 'hook',\n",
       " 985: 'kind',\n",
       " 986: 'ahh',\n",
       " 987: 'step',\n",
       " 988: 'memphis',\n",
       " 989: \"we've\",\n",
       " 990: 'realest',\n",
       " 991: 'nine',\n",
       " 992: \"else's\",\n",
       " 993: 'yuh',\n",
       " 994: 'key',\n",
       " 995: 'album',\n",
       " 996: \"shouldn't\",\n",
       " 997: 'drinks',\n",
       " 998: 'madness',\n",
       " 999: 'catfish',\n",
       " 1000: 'ugh',\n",
       " ...}"
      ]
     },
     "execution_count": 36,
     "metadata": {},
     "output_type": "execute_result"
    }
   ],
   "source": [
    "tokenizer_drake.index_word"
   ]
  },
  {
   "cell_type": "code",
   "execution_count": 37,
   "metadata": {
    "ExecuteTime": {
     "end_time": "2021-06-29T13:43:07.963646Z",
     "start_time": "2021-06-29T13:43:07.957127Z"
    },
    "hidden": true
   },
   "outputs": [
    {
     "data": {
      "text/plain": [
       "dict_keys(['word_counts', 'word_docs', 'filters', 'split', 'lower', 'num_words', 'document_count', 'char_level', 'oov_token', 'index_docs', 'word_index', 'index_word'])"
      ]
     },
     "execution_count": 37,
     "metadata": {},
     "output_type": "execute_result"
    }
   ],
   "source": [
    "tokenizer_drake.__dict__.keys()"
   ]
  },
  {
   "cell_type": "markdown",
   "metadata": {
    "hidden": true
   },
   "source": [
    "👉 **Let's quantify how much vocabulary do they have in common**\n",
    "\n",
    "- An artist **vocabulary** is the **set** of all unique used words\n",
    "- We compute the `ratio` of (i) the length of vocabulary they **share**, over (ii) the length of the **total** vocabulary of the dataset\n",
    "\n",
    "<details>\n",
    "    <summary>Hints</summary>\n",
    "\n",
    "We'll use Python [`set.intersection()`](https://www.programiz.com/python-programming/methods/set/intersection) and [`set.union()`](https://www.programiz.com/python-programming/methods/set/union)\n",
    "</details>"
   ]
  },
  {
   "cell_type": "code",
   "execution_count": 38,
   "metadata": {
    "ExecuteTime": {
     "end_time": "2021-06-29T13:43:30.448156Z",
     "start_time": "2021-06-29T13:43:30.442069Z"
    },
    "hidden": true
   },
   "outputs": [],
   "source": [
    "drake_vocabulary = set(tokenizer_drake.index_word.values())\n",
    "ed_vocabulary = set(tokenizer_ed.index_word.values())\n",
    "kanye_vocabulary = set(tokenizer_kanye.index_word.values())"
   ]
  },
  {
   "cell_type": "code",
   "execution_count": 39,
   "metadata": {
    "ExecuteTime": {
     "end_time": "2021-06-29T13:43:35.997442Z",
     "start_time": "2021-06-29T13:43:35.989364Z"
    },
    "hidden": true
   },
   "outputs": [
    {
     "name": "stdout",
     "output_type": "stream",
     "text": [
      "15.26% of the artists' vocabulary is common\n"
     ]
    }
   ],
   "source": [
    "common_vocabulary = drake_vocabulary.intersection(ed_vocabulary).intersection(kanye_vocabulary)\n",
    "global_vocabulary = drake_vocabulary.union(ed_vocabulary).union(kanye_vocabulary)\n",
    "\n",
    "ratio = len(common_vocabulary)/len(global_vocabulary)\n",
    "print(f\"{ratio*100:.2f}% of the artists' vocabulary is common\")"
   ]
  },
  {
   "cell_type": "markdown",
   "metadata": {},
   "source": [
    "## 3. Data Preprocessing"
   ]
  },
  {
   "cell_type": "markdown",
   "metadata": {},
   "source": [
    "### 3.1 Word Embedding\n",
    "We now need to think about embedding our sentences into numbers. We will be using [`gensim.models.Word2Vec`](https://radimrehurek.com/gensim/models/word2vec.html#gensim.models.word2vec.Word2Vec) to embed each word of the sentence and concatenate the embeddings of the words forming the sentence."
   ]
  },
  {
   "cell_type": "markdown",
   "metadata": {},
   "source": [
    "❓ **Transform the list of strings (verses) into a list of word sequences (a word sequence is a list of words contained in a string)**\n",
    "- Store these sequences of words in a new column `data[\"seq\"]` in your dataframe\n",
    "- You can use `tensorflow.keras.preprocessing.text.text_to_word_sequence` "
   ]
  },
  {
   "cell_type": "code",
   "execution_count": 46,
   "metadata": {
    "ExecuteTime": {
     "end_time": "2021-06-29T13:47:58.026849Z",
     "start_time": "2021-06-29T13:47:57.946961Z"
    },
    "tags": [
     "challengify"
    ]
   },
   "outputs": [],
   "source": [
    "data[\"seq\"] = [tf.keras.preprocessing.text.text_to_word_sequence(_) for _ in data.verse]"
   ]
  },
  {
   "cell_type": "code",
   "execution_count": 47,
   "metadata": {
    "ExecuteTime": {
     "end_time": "2021-06-29T13:48:08.106769Z",
     "start_time": "2021-06-29T13:48:08.091911Z"
    }
   },
   "outputs": [
    {
     "data": {
      "text/html": [
       "<div>\n",
       "<style scoped>\n",
       "    .dataframe tbody tr th:only-of-type {\n",
       "        vertical-align: middle;\n",
       "    }\n",
       "\n",
       "    .dataframe tbody tr th {\n",
       "        vertical-align: top;\n",
       "    }\n",
       "\n",
       "    .dataframe thead th {\n",
       "        text-align: right;\n",
       "    }\n",
       "</style>\n",
       "<table border=\"1\" class=\"dataframe\">\n",
       "  <thead>\n",
       "    <tr style=\"text-align: right;\">\n",
       "      <th></th>\n",
       "      <th>artist</th>\n",
       "      <th>verse</th>\n",
       "      <th>seq</th>\n",
       "    </tr>\n",
       "  </thead>\n",
       "  <tbody>\n",
       "    <tr>\n",
       "      <th>0</th>\n",
       "      <td>Drake</td>\n",
       "      <td>Ayy, woah Ayy, ayy Yeah</td>\n",
       "      <td>[ayy, woah, ayy, ayy, yeah]</td>\n",
       "    </tr>\n",
       "    <tr>\n",
       "      <th>1</th>\n",
       "      <td>Drake</td>\n",
       "      <td>I'm makin' a change today The liquor been taki...</td>\n",
       "      <td>[i'm, makin', a, change, today, the, liquor, b...</td>\n",
       "    </tr>\n",
       "    <tr>\n",
       "      <th>2</th>\n",
       "      <td>Drake</td>\n",
       "      <td>I can't just be with you and only you Yeah, I ...</td>\n",
       "      <td>[i, can't, just, be, with, you, and, only, you...</td>\n",
       "    </tr>\n",
       "    <tr>\n",
       "      <th>3</th>\n",
       "      <td>Drake</td>\n",
       "      <td>Well, summer, all I did was rest, okay? And Ne...</td>\n",
       "      <td>[well, summer, all, i, did, was, rest, okay, a...</td>\n",
       "    </tr>\n",
       "    <tr>\n",
       "      <th>4</th>\n",
       "      <td>Drake</td>\n",
       "      <td>I'm makin' a change today The liquor been taki...</td>\n",
       "      <td>[i'm, makin', a, change, today, the, liquor, b...</td>\n",
       "    </tr>\n",
       "  </tbody>\n",
       "</table>\n",
       "</div>"
      ],
      "text/plain": [
       "  artist                                              verse  \\\n",
       "0  Drake                            Ayy, woah Ayy, ayy Yeah   \n",
       "1  Drake  I'm makin' a change today The liquor been taki...   \n",
       "2  Drake  I can't just be with you and only you Yeah, I ...   \n",
       "3  Drake  Well, summer, all I did was rest, okay? And Ne...   \n",
       "4  Drake  I'm makin' a change today The liquor been taki...   \n",
       "\n",
       "                                                 seq  \n",
       "0                        [ayy, woah, ayy, ayy, yeah]  \n",
       "1  [i'm, makin', a, change, today, the, liquor, b...  \n",
       "2  [i, can't, just, be, with, you, and, only, you...  \n",
       "3  [well, summer, all, i, did, was, rest, okay, a...  \n",
       "4  [i'm, makin', a, change, today, the, liquor, b...  "
      ]
     },
     "execution_count": 47,
     "metadata": {},
     "output_type": "execute_result"
    }
   ],
   "source": [
    "data.head()"
   ]
  },
  {
   "cell_type": "markdown",
   "metadata": {},
   "source": [
    "❓ **Let's check if we can cap the length of each sequences without losing too much information**\n",
    "- Plot the distribution of sequences lengths using the [`seaborn.kdeplot`](https://seaborn.pydata.org/generated/seaborn.displot.html#seaborn-displot) function\n",
    "- Does it seem reasonable to limit ourself to 300 words per verse later on? "
   ]
  },
  {
   "cell_type": "code",
   "execution_count": 56,
   "metadata": {
    "ExecuteTime": {
     "end_time": "2021-06-29T13:51:57.429230Z",
     "start_time": "2021-06-29T13:51:57.279628Z"
    },
    "tags": [
     "challengify"
    ]
   },
   "outputs": [
    {
     "data": {
      "image/png": "[encoded data removed]",
      "text/plain": [
       "<Figure size 432x288 with 1 Axes>"
      ]
     },
     "metadata": {
      "needs_background": "light"
     },
     "output_type": "display_data"
    }
   ],
   "source": [
    "sns.kdeplot(data.seq.apply(len))\n",
    "plt.axvline(x=300, c='red'); # yes, 300 is very reasonable"
   ]
  },
  {
   "cell_type": "markdown",
   "metadata": {},
   "source": [
    "❓ **Keep only the first `300` words of each sequences to reduce the useless long tail of long verses**"
   ]
  },
  {
   "cell_type": "code",
   "execution_count": 60,
   "metadata": {
    "ExecuteTime": {
     "end_time": "2021-06-29T13:54:30.143747Z",
     "start_time": "2021-06-29T13:54:30.127164Z"
    }
   },
   "outputs": [
    {
     "data": {
      "text/plain": [
       "0                             [ayy, woah, ayy, ayy, yeah]\n",
       "1       [i'm, makin', a, change, today, the, liquor, b...\n",
       "2       [i, can't, just, be, with, you, and, only, you...\n",
       "3       [well, summer, all, i, did, was, rest, okay, a...\n",
       "4       [i'm, makin', a, change, today, the, liquor, b...\n",
       "                              ...                        \n",
       "3970    [dame, was, like, yo, you, got, a, deal, with,...\n",
       "3971    [then, one, day, i, just, went, ahead, and, pl...\n",
       "3972           [i, ain't, gonna, front, it's, kinda, hot]\n",
       "3973    [like, they, still, weren't, looking, at, me, ...\n",
       "3974    [you, gotta, be, under, an, umbrella, you'll, ...\n",
       "Name: seq, Length: 3029, dtype: object"
      ]
     },
     "execution_count": 60,
     "metadata": {},
     "output_type": "execute_result"
    }
   ],
   "source": [
    "data.seq.apply(keep_300)"
   ]
  },
  {
   "cell_type": "code",
   "execution_count": 62,
   "metadata": {
    "ExecuteTime": {
     "end_time": "2021-06-29T13:54:57.093831Z",
     "start_time": "2021-06-29T13:54:56.938433Z"
    },
    "tags": [
     "challengify"
    ]
   },
   "outputs": [
    {
     "data": {
      "image/png": "[encoded data removed]",
      "text/plain": [
       "<Figure size 432x288 with 1 Axes>"
      ]
     },
     "metadata": {
      "needs_background": "light"
     },
     "output_type": "display_data"
    }
   ],
   "source": [
    "def keep_300(x: list) -> list:\n",
    "    return x[:300]\n",
    "\n",
    "sns.kdeplot(data.seq.apply(keep_300).apply(len));"
   ]
  },
  {
   "cell_type": "code",
   "execution_count": 70,
   "metadata": {
    "ExecuteTime": {
     "end_time": "2021-06-29T13:56:22.254229Z",
     "start_time": "2021-06-29T13:56:22.207898Z"
    }
   },
   "outputs": [
    {
     "name": "stdout",
     "output_type": "stream",
     "text": [
      "300\n"
     ]
    },
    {
     "data": {
      "text/html": [
       "<div>\n",
       "<style scoped>\n",
       "    .dataframe tbody tr th:only-of-type {\n",
       "        vertical-align: middle;\n",
       "    }\n",
       "\n",
       "    .dataframe tbody tr th {\n",
       "        vertical-align: top;\n",
       "    }\n",
       "\n",
       "    .dataframe thead th {\n",
       "        text-align: right;\n",
       "    }\n",
       "</style>\n",
       "<table border=\"1\" class=\"dataframe\">\n",
       "  <thead>\n",
       "    <tr style=\"text-align: right;\">\n",
       "      <th></th>\n",
       "      <th>artist</th>\n",
       "      <th>verse</th>\n",
       "      <th>seq</th>\n",
       "    </tr>\n",
       "  </thead>\n",
       "  <tbody>\n",
       "    <tr>\n",
       "      <th>0</th>\n",
       "      <td>Drake</td>\n",
       "      <td>Ayy, woah Ayy, ayy Yeah</td>\n",
       "      <td>[ayy, woah, ayy, ayy, yeah]</td>\n",
       "    </tr>\n",
       "    <tr>\n",
       "      <th>1</th>\n",
       "      <td>Drake</td>\n",
       "      <td>I'm makin' a change today The liquor been taki...</td>\n",
       "      <td>[i'm, makin', a, change, today, the, liquor, b...</td>\n",
       "    </tr>\n",
       "    <tr>\n",
       "      <th>2</th>\n",
       "      <td>Drake</td>\n",
       "      <td>I can't just be with you and only you Yeah, I ...</td>\n",
       "      <td>[i, can't, just, be, with, you, and, only, you...</td>\n",
       "    </tr>\n",
       "    <tr>\n",
       "      <th>3</th>\n",
       "      <td>Drake</td>\n",
       "      <td>Well, summer, all I did was rest, okay? And Ne...</td>\n",
       "      <td>[well, summer, all, i, did, was, rest, okay, a...</td>\n",
       "    </tr>\n",
       "    <tr>\n",
       "      <th>4</th>\n",
       "      <td>Drake</td>\n",
       "      <td>I'm makin' a change today The liquor been taki...</td>\n",
       "      <td>[i'm, makin', a, change, today, the, liquor, b...</td>\n",
       "    </tr>\n",
       "  </tbody>\n",
       "</table>\n",
       "</div>"
      ],
      "text/plain": [
       "  artist                                              verse  \\\n",
       "0  Drake                            Ayy, woah Ayy, ayy Yeah   \n",
       "1  Drake  I'm makin' a change today The liquor been taki...   \n",
       "2  Drake  I can't just be with you and only you Yeah, I ...   \n",
       "3  Drake  Well, summer, all I did was rest, okay? And Ne...   \n",
       "4  Drake  I'm makin' a change today The liquor been taki...   \n",
       "\n",
       "                                                 seq  \n",
       "0                        [ayy, woah, ayy, ayy, yeah]  \n",
       "1  [i'm, makin', a, change, today, the, liquor, b...  \n",
       "2  [i, can't, just, be, with, you, and, only, you...  \n",
       "3  [well, summer, all, i, did, was, rest, okay, a...  \n",
       "4  [i'm, makin', a, change, today, the, liquor, b...  "
      ]
     },
     "execution_count": 70,
     "metadata": {},
     "output_type": "execute_result"
    }
   ],
   "source": [
    "data.seq = data.seq.apply(keep_300)\n",
    "\n",
    "#check of max value\n",
    "print(data.seq.apply(keep_300).apply(len).max())\n",
    "\n",
    "data.head()"
   ]
  },
  {
   "cell_type": "markdown",
   "metadata": {},
   "source": [
    "❓ **Train a `gensim.models.Word2Vec` model on your dataset** \n",
    "- You want to embed each word into vectors of dimension `100`\n",
    "- No words should be excluded\n",
    "- Give Word2Vec at least 50 epochs to be sure it converges\n",
    "- Store these lists of vectors in a new column `data[\"embed\"]`"
   ]
  },
  {
   "cell_type": "code",
   "execution_count": 77,
   "metadata": {
    "ExecuteTime": {
     "end_time": "2021-06-29T14:02:06.471068Z",
     "start_time": "2021-06-29T14:02:00.799589Z"
    },
    "tags": [
     "challengify"
    ]
   },
   "outputs": [],
   "source": [
    "from gensim.models import Word2Vec\n",
    "word2vec = Word2Vec(sentences=data.seq, vector_size=100, epochs=50)"
   ]
  },
  {
   "cell_type": "code",
   "execution_count": 122,
   "metadata": {
    "ExecuteTime": {
     "end_time": "2021-06-29T14:28:19.507699Z",
     "start_time": "2021-06-29T14:28:19.503761Z"
    }
   },
   "outputs": [],
   "source": [
    "def embed_sentence(word2vec, sentence):\n",
    "    embedded_sentence = []\n",
    "    for word in sentence:\n",
    "        if word in word2vec.wv:\n",
    "            embedded_sentence.append(word2vec.wv[word])\n",
    "        \n",
    "    return np.array(embedded_sentence)"
   ]
  },
  {
   "cell_type": "code",
   "execution_count": 125,
   "metadata": {
    "ExecuteTime": {
     "end_time": "2021-06-29T14:28:41.133259Z",
     "start_time": "2021-06-29T14:28:41.129444Z"
    }
   },
   "outputs": [],
   "source": [
    "def embedding(word2vec, sentences):\n",
    "    embed = []\n",
    "    \n",
    "    for sentence in sentences:\n",
    "        embedded_sentence = embed_sentence(word2vec, sentence)\n",
    "        embed.append(embedded_sentence)\n",
    "        \n",
    "    return embed"
   ]
  },
  {
   "cell_type": "code",
   "execution_count": 126,
   "metadata": {
    "ExecuteTime": {
     "end_time": "2021-06-29T14:28:43.438740Z",
     "start_time": "2021-06-29T14:28:42.746362Z"
    }
   },
   "outputs": [],
   "source": [
    "data[\"embed\"] = embedding(word2vec, list(data.seq))"
   ]
  },
  {
   "cell_type": "code",
   "execution_count": 127,
   "metadata": {
    "ExecuteTime": {
     "end_time": "2021-06-29T14:28:45.011881Z",
     "start_time": "2021-06-29T14:28:45.004305Z"
    }
   },
   "outputs": [
    {
     "name": "stdout",
     "output_type": "stream",
     "text": [
      "5\n",
      "(5, 100)\n",
      "57\n",
      "(56, 100)\n",
      "137\n",
      "(128, 100)\n",
      "61\n",
      "(61, 100)\n"
     ]
    }
   ],
   "source": [
    "print(len(data.seq.loc[0]))\n",
    "print(data.embed.loc[0].shape)\n",
    "\n",
    "print(len(data.seq.loc[100]))\n",
    "print(data.embed.loc[100].shape)\n",
    "\n",
    "print(len(data.seq.loc[2500]))\n",
    "print(data.embed.loc[2500].shape)\n",
    "\n",
    "print(len(data.seq.loc[700]))\n",
    "print(data.embed.loc[700].shape)"
   ]
  },
  {
   "cell_type": "code",
   "execution_count": 128,
   "metadata": {
    "ExecuteTime": {
     "end_time": "2021-06-29T14:28:46.595917Z",
     "start_time": "2021-06-29T14:28:46.592541Z"
    }
   },
   "outputs": [],
   "source": [
    "# Check \n",
    "assert len(data['embed']) == len(data)"
   ]
  },
  {
   "cell_type": "markdown",
   "metadata": {},
   "source": [
    "### 3.2 Create (X,y)"
   ]
  },
  {
   "cell_type": "markdown",
   "metadata": {},
   "source": [
    "❓ **Create your numpy array `X` of shape (number_of_verses, 300, 100)**\n",
    "\n",
    "- 300 words per verse (pad verses shorter than 300 with zeros at the end) \n",
    "- each words being a vector of size 100\n",
    "\n",
    "<img src=\"https://raw.githubusercontent.com/lewagon/data-images/master/DL/padding.png\" width=400>"
   ]
  },
  {
   "cell_type": "code",
   "execution_count": 129,
   "metadata": {
    "ExecuteTime": {
     "end_time": "2021-06-29T14:28:48.322804Z",
     "start_time": "2021-06-29T14:28:48.314655Z"
    }
   },
   "outputs": [
    {
     "data": {
      "text/html": [
       "<div>\n",
       "<style scoped>\n",
       "    .dataframe tbody tr th:only-of-type {\n",
       "        vertical-align: middle;\n",
       "    }\n",
       "\n",
       "    .dataframe tbody tr th {\n",
       "        vertical-align: top;\n",
       "    }\n",
       "\n",
       "    .dataframe thead th {\n",
       "        text-align: right;\n",
       "    }\n",
       "</style>\n",
       "<table border=\"1\" class=\"dataframe\">\n",
       "  <thead>\n",
       "    <tr style=\"text-align: right;\">\n",
       "      <th></th>\n",
       "      <th>embed</th>\n",
       "    </tr>\n",
       "  </thead>\n",
       "  <tbody>\n",
       "    <tr>\n",
       "      <th>0</th>\n",
       "      <td>5</td>\n",
       "    </tr>\n",
       "    <tr>\n",
       "      <th>1</th>\n",
       "      <td>59</td>\n",
       "    </tr>\n",
       "    <tr>\n",
       "      <th>2</th>\n",
       "      <td>89</td>\n",
       "    </tr>\n",
       "    <tr>\n",
       "      <th>3</th>\n",
       "      <td>63</td>\n",
       "    </tr>\n",
       "    <tr>\n",
       "      <th>4</th>\n",
       "      <td>60</td>\n",
       "    </tr>\n",
       "  </tbody>\n",
       "</table>\n",
       "</div>"
      ],
      "text/plain": [
       "   embed\n",
       "0      5\n",
       "1     59\n",
       "2     89\n",
       "3     63\n",
       "4     60"
      ]
     },
     "execution_count": 129,
     "metadata": {},
     "output_type": "execute_result"
    }
   ],
   "source": [
    "data.embed.head().apply(len).to_frame()"
   ]
  },
  {
   "cell_type": "code",
   "execution_count": 135,
   "metadata": {
    "ExecuteTime": {
     "end_time": "2021-06-29T14:29:56.001173Z",
     "start_time": "2021-06-29T14:29:55.784367Z"
    },
    "tags": [
     "challengify"
    ]
   },
   "outputs": [
    {
     "data": {
      "text/plain": [
       "(3029, 299, 100)"
      ]
     },
     "execution_count": 135,
     "metadata": {},
     "output_type": "execute_result"
    }
   ],
   "source": [
    "X = pad_sequences(data.embed, dtype='float32', padding='post', value=0)\n",
    "X.shape"
   ]
  },
  {
   "cell_type": "markdown",
   "metadata": {},
   "source": [
    "❓ **Create the numpy array `y` of shape `(n_verses, 3)` that contains the one-hot-encoded list of labels, for the RNN**"
   ]
  },
  {
   "cell_type": "code",
   "execution_count": 153,
   "metadata": {
    "ExecuteTime": {
     "end_time": "2021-06-29T14:34:59.254820Z",
     "start_time": "2021-06-29T14:34:59.245882Z"
    }
   },
   "outputs": [
    {
     "data": {
      "text/plain": [
       "Index(['Drake', 'Ed Sheeran', 'Kanye West'], dtype='object')"
      ]
     },
     "execution_count": 153,
     "metadata": {},
     "output_type": "execute_result"
    }
   ],
   "source": [
    "artists_order = pd.get_dummies(data.artist).columns\n",
    "artists_order"
   ]
  },
  {
   "cell_type": "code",
   "execution_count": 148,
   "metadata": {
    "ExecuteTime": {
     "end_time": "2021-06-29T14:33:04.076789Z",
     "start_time": "2021-06-29T14:33:04.068216Z"
    },
    "tags": [
     "challengify"
    ]
   },
   "outputs": [
    {
     "name": "stdout",
     "output_type": "stream",
     "text": [
      "(3029, 3)\n"
     ]
    },
    {
     "data": {
      "text/plain": [
       "array([[1, 0, 0],\n",
       "       [1, 0, 0],\n",
       "       [1, 0, 0],\n",
       "       ...,\n",
       "       [0, 0, 1],\n",
       "       [0, 0, 1],\n",
       "       [0, 0, 1]], dtype=uint8)"
      ]
     },
     "execution_count": 148,
     "metadata": {},
     "output_type": "execute_result"
    }
   ],
   "source": [
    "y = pd.get_dummies(data.artist).to_numpy()\n",
    "print(y.shape)\n",
    "y"
   ]
  },
  {
   "cell_type": "markdown",
   "metadata": {},
   "source": [
    "👉 We train/test split the dataset below for you"
   ]
  },
  {
   "cell_type": "code",
   "execution_count": 149,
   "metadata": {
    "ExecuteTime": {
     "end_time": "2021-06-29T14:33:09.542359Z",
     "start_time": "2021-06-29T14:33:08.403788Z"
    }
   },
   "outputs": [],
   "source": [
    "from sklearn.model_selection import train_test_split\n",
    "\n",
    "X_train, X_test, y_train, y_test = train_test_split(X, y, test_size=0.2)"
   ]
  },
  {
   "cell_type": "code",
   "execution_count": 150,
   "metadata": {
    "ExecuteTime": {
     "end_time": "2021-06-29T14:33:11.358124Z",
     "start_time": "2021-06-29T14:33:11.175111Z"
    }
   },
   "outputs": [],
   "source": [
    "from nbresult import ChallengeResult\n",
    "result = ChallengeResult(\n",
    "    'data_preprocessing',\n",
    "    n_zeros = np.sum(X == 0),\n",
    "    X_shape = X.shape,\n",
    "    y_shape = y.shape,\n",
    ")\n",
    "\n",
    "result.write()"
   ]
  },
  {
   "cell_type": "markdown",
   "metadata": {},
   "source": [
    "## 4. Recurrent Neural Network"
   ]
  },
  {
   "cell_type": "markdown",
   "metadata": {},
   "source": [
    "👉 Run this code below if you haven't managed to build your own (X,Y) training sets. This will load them as solution\n",
    "\n",
    "```python\n",
    "! wget \\\n",
    "'https://wagon-public-datasets.s3.amazonaws.com/certification_france_2021_q2/data_lyrics_solution.pickle'\n",
    "\n",
    "import pickle\n",
    "with open(\"data_lyrics_solution.pickle\", \"rb\") as file:\n",
    "    (X_train, y_train, X_test, y_test) = pickle.load(file)\n",
    "    \n",
    "! rm data_lyrics_solution.pickle\n",
    "```"
   ]
  },
  {
   "cell_type": "markdown",
   "metadata": {},
   "source": [
    "❓ **First, store your baseline accuracy to beat as `score_baseline`**\n",
    "- Consider predicting always the most frequent artist"
   ]
  },
  {
   "cell_type": "code",
   "execution_count": 154,
   "metadata": {
    "ExecuteTime": {
     "end_time": "2021-06-29T14:35:08.186588Z",
     "start_time": "2021-06-29T14:35:08.178702Z"
    },
    "tags": [
     "challengify"
    ]
   },
   "outputs": [
    {
     "name": "stdout",
     "output_type": "stream",
     "text": [
      "Index(['Drake', 'Ed Sheeran', 'Kanye West'], dtype='object')\n"
     ]
    },
    {
     "data": {
      "text/plain": [
       "array([1391,  861,  777], dtype=uint64)"
      ]
     },
     "execution_count": 154,
     "metadata": {},
     "output_type": "execute_result"
    }
   ],
   "source": [
    "print(artists_order)\n",
    "y.sum(axis=0)"
   ]
  },
  {
   "cell_type": "code",
   "execution_count": 172,
   "metadata": {
    "ExecuteTime": {
     "end_time": "2021-06-29T14:43:33.842917Z",
     "start_time": "2021-06-29T14:43:33.839809Z"
    }
   },
   "outputs": [],
   "source": [
    "# Let's predict always Drake"
   ]
  },
  {
   "cell_type": "code",
   "execution_count": 173,
   "metadata": {
    "ExecuteTime": {
     "end_time": "2021-06-29T14:43:35.445618Z",
     "start_time": "2021-06-29T14:43:35.440312Z"
    },
    "collapsed": true
   },
   "outputs": [
    {
     "name": "stdout",
     "output_type": "stream",
     "text": [
      "(3029, 3)\n",
      "[[1 0 0]\n",
      " [1 0 0]\n",
      " [1 0 0]\n",
      " [1 0 0]\n",
      " [1 0 0]\n",
      " [1 0 0]\n",
      " [1 0 0]\n",
      " [1 0 0]\n",
      " [1 0 0]\n",
      " [1 0 0]]\n",
      "...\n"
     ]
    }
   ],
   "source": [
    "y_baseline = np.tile([1,0,0], reps=(3029,1))\n",
    "print(y_baseline.shape)\n",
    "print(y_baseline[:10])\n",
    "print('...')"
   ]
  },
  {
   "cell_type": "code",
   "execution_count": 174,
   "metadata": {
    "ExecuteTime": {
     "end_time": "2021-06-29T14:43:37.059375Z",
     "start_time": "2021-06-29T14:43:37.055090Z"
    }
   },
   "outputs": [],
   "source": [
    "score_baseline = y.sum(axis=0)[0] / y.sum(axis=0).sum()"
   ]
  },
  {
   "cell_type": "markdown",
   "metadata": {},
   "source": [
    "❓ **Create a RNN architecture to predict the artists `y`  given verses `X`** :\n",
    "\n",
    "- Keep it simple: use only one LSTM layer and one *hidden* dense layer between the input and output layers\n",
    "- Don't forget to take care of fake \"zeros\" added during preprocessing\n",
    "- Store it into the `model` variable."
   ]
  },
  {
   "cell_type": "code",
   "execution_count": 186,
   "metadata": {
    "ExecuteTime": {
     "end_time": "2021-06-29T14:57:22.509148Z",
     "start_time": "2021-06-29T14:57:22.501787Z"
    }
   },
   "outputs": [
    {
     "data": {
      "text/plain": [
       "(2423, 299, 100)"
      ]
     },
     "execution_count": 186,
     "metadata": {},
     "output_type": "execute_result"
    }
   ],
   "source": [
    "X_train.shape"
   ]
  },
  {
   "cell_type": "code",
   "execution_count": 187,
   "metadata": {
    "ExecuteTime": {
     "end_time": "2021-06-29T14:57:26.558970Z",
     "start_time": "2021-06-29T14:57:26.553472Z"
    }
   },
   "outputs": [
    {
     "data": {
      "text/plain": [
       "299"
      ]
     },
     "execution_count": 187,
     "metadata": {},
     "output_type": "execute_result"
    }
   ],
   "source": [
    "vocab_size = X_train.shape[1]\n",
    "vocab_size"
   ]
  },
  {
   "cell_type": "code",
   "execution_count": 188,
   "metadata": {
    "ExecuteTime": {
     "end_time": "2021-06-29T14:57:30.658772Z",
     "start_time": "2021-06-29T14:57:30.653658Z"
    }
   },
   "outputs": [
    {
     "data": {
      "text/plain": [
       "100"
      ]
     },
     "execution_count": 188,
     "metadata": {},
     "output_type": "execute_result"
    }
   ],
   "source": [
    "embedding_dimension = X_train.shape[2]\n",
    "embedding_dimension"
   ]
  },
  {
   "cell_type": "code",
   "execution_count": 201,
   "metadata": {
    "ExecuteTime": {
     "end_time": "2021-06-29T15:03:10.028195Z",
     "start_time": "2021-06-29T15:03:10.000976Z"
    },
    "tags": [
     "challengify"
    ]
   },
   "outputs": [],
   "source": [
    "model = Sequential()\n",
    "model.add(layers.Masking(mask_value=0))\n",
    "model.add(layers.LSTM(units=10, activation='tanh')) # tanh\n",
    "model.add(layers.Dense(1))\n",
    "model.add(layers.Dense(3, activation='softmax'))"
   ]
  },
  {
   "cell_type": "markdown",
   "metadata": {},
   "source": [
    "❓ **Train your `model` on the `(X_train, y_train)` training set**\n",
    "- Use an appropriate loss\n",
    "- Adapt the learning rate of your optimizer if convergence is too slow/fast\n",
    "- Make sure your model does not overfit with appropriate control techniques\n",
    "\n",
    "💡 You will not be judged by the computing power of your computer, you can reach decent performance in less than 3 minutes of training without GPUs."
   ]
  },
  {
   "cell_type": "code",
   "execution_count": 219,
   "metadata": {
    "ExecuteTime": {
     "end_time": "2021-06-29T15:23:09.006109Z",
     "start_time": "2021-06-29T15:20:56.204756Z"
    },
    "tags": [
     "challengify"
    ]
   },
   "outputs": [],
   "source": [
    "optimizer = tf.keras.optimizers.RMSprop(\n",
    "    learning_rate=0.01, rho=0.9, momentum=0.0, epsilon=1e-07, centered=False,\n",
    "    name='RMSprop')\n",
    "\n",
    "model.compile(loss='binary_crossentropy', optimizer=optimizer , metrics=['accuracy'])\n",
    "model.fit(X_train, y_train, batch_size=16, validation_split=0.2, epochs=10, verbose=0);"
   ]
  },
  {
   "cell_type": "markdown",
   "metadata": {},
   "source": [
    "❓ **Plot the training and validation losses through training**"
   ]
  },
  {
   "cell_type": "code",
   "execution_count": 220,
   "metadata": {
    "ExecuteTime": {
     "end_time": "2021-06-29T15:23:11.005340Z",
     "start_time": "2021-06-29T15:23:10.999211Z"
    },
    "collapsed": true
   },
   "outputs": [
    {
     "data": {
      "text/plain": [
       "{'loss': [0.48286664485931396,\n",
       "  0.42323824763298035,\n",
       "  0.39221152663230896,\n",
       "  0.3732449412345886,\n",
       "  0.35657837986946106,\n",
       "  0.34030240774154663,\n",
       "  0.32958874106407166,\n",
       "  0.3102766275405884,\n",
       "  0.31128740310668945,\n",
       "  0.2916257977485657],\n",
       " 'accuracy': [0.6455108523368835,\n",
       "  0.6888545155525208,\n",
       "  0.7115582823753357,\n",
       "  0.7162022590637207,\n",
       "  0.727554202079773,\n",
       "  0.7481940388679504,\n",
       "  0.7631579041481018,\n",
       "  0.7956656217575073,\n",
       "  0.806501567363739,\n",
       "  0.8359133005142212],\n",
       " 'val_loss': [0.5518283843994141,\n",
       "  0.48613297939300537,\n",
       "  0.5378615260124207,\n",
       "  0.5107419490814209,\n",
       "  0.5253013968467712,\n",
       "  0.5382227897644043,\n",
       "  0.5612010359764099,\n",
       "  0.5772908329963684,\n",
       "  0.6035664677619934,\n",
       "  0.6349676847457886],\n",
       " 'val_accuracy': [0.5835051536560059,\n",
       "  0.6309278607368469,\n",
       "  0.6082473993301392,\n",
       "  0.6144329905509949,\n",
       "  0.6288659572601318,\n",
       "  0.6474226713180542,\n",
       "  0.6371133923530579,\n",
       "  0.6288659572601318,\n",
       "  0.6515464186668396,\n",
       "  0.6350515484809875]}"
      ]
     },
     "execution_count": 220,
     "metadata": {},
     "output_type": "execute_result"
    }
   ],
   "source": [
    "model.history.history"
   ]
  },
  {
   "cell_type": "code",
   "execution_count": 222,
   "metadata": {
    "ExecuteTime": {
     "end_time": "2021-06-29T15:23:46.574227Z",
     "start_time": "2021-06-29T15:23:46.367499Z"
    }
   },
   "outputs": [
    {
     "data": {
      "image/png": "[encoded data removed]",
      "text/plain": [
       "<Figure size 432x288 with 1 Axes>"
      ]
     },
     "metadata": {
      "needs_background": "light"
     },
     "output_type": "display_data"
    }
   ],
   "source": [
    "# Plot below your train/val loss history ====> learning_rate=0.01 \n",
    "plt.plot(model.history.history['loss'], label='loss')\n",
    "plt.plot(model.history.history['val_loss'], label='val_loss')\n",
    "plt.legend();\n",
    "\n",
    "# Run also this code to save figure as jpg in path below (it's your job to ensure it works)\n",
    "fig = plt.gcf()\n",
    "plt.savefig(\"tests/history.png\")"
   ]
  },
  {
   "cell_type": "markdown",
   "metadata": {},
   "source": [
    "❓ **Save your accuracy on test set as `score_test`**"
   ]
  },
  {
   "cell_type": "code",
   "execution_count": 223,
   "metadata": {
    "ExecuteTime": {
     "end_time": "2021-06-29T15:24:43.331957Z",
     "start_time": "2021-06-29T15:24:42.766413Z"
    }
   },
   "outputs": [
    {
     "name": "stdout",
     "output_type": "stream",
     "text": [
      "19/19 [==============================] - 1s 26ms/step - loss: 0.7114 - accuracy: 0.6320\n"
     ]
    },
    {
     "data": {
      "text/plain": [
       "[0.71136075258255, 0.632013201713562]"
      ]
     },
     "execution_count": 223,
     "metadata": {},
     "output_type": "execute_result"
    }
   ],
   "source": [
    "model.evaluate(X_test, y_test, verbose=1)"
   ]
  },
  {
   "cell_type": "code",
   "execution_count": 225,
   "metadata": {
    "ExecuteTime": {
     "end_time": "2021-06-29T15:25:24.426713Z",
     "start_time": "2021-06-29T15:25:24.423502Z"
    },
    "tags": [
     "challengify"
    ]
   },
   "outputs": [],
   "source": [
    "score_test = 0.6320"
   ]
  },
  {
   "cell_type": "markdown",
   "metadata": {},
   "source": [
    "🧪 **Send your results below**"
   ]
  },
  {
   "cell_type": "code",
   "execution_count": 226,
   "metadata": {
    "ExecuteTime": {
     "end_time": "2021-06-29T15:25:32.313071Z",
     "start_time": "2021-06-29T15:25:32.303123Z"
    }
   },
   "outputs": [],
   "source": [
    "from nbresult import ChallengeResult\n",
    "\n",
    "result = ChallengeResult(\n",
    "    \"network\",\n",
    "    loss = model.loss,\n",
    "    input_shape = list(model.input.shape),\n",
    "    layer_names = [layer.name for layer in model.layers],\n",
    "    final_activation = model.layers[-1].activation.__wrapped__._keras_api_names[0],\n",
    "    score_baseline = score_baseline,\n",
    "    score_test = score_test,\n",
    ")\n",
    "result.write()"
   ]
  }
 ],
 "metadata": {
  "kernelspec": {
   "display_name": "Python 3",
   "language": "python",
   "name": "python3"
  },
  "language_info": {
   "codemirror_mode": {
    "name": "ipython",
    "version": 3
   },
   "file_extension": ".py",
   "mimetype": "text/x-python",
   "name": "python",
   "nbconvert_exporter": "python",
   "pygments_lexer": "ipython3",
   "version": "3.8.6"
  },
  "toc": {
   "base_numbering": 1,
   "nav_menu": {},
   "number_sections": false,
   "sideBar": true,
   "skip_h1_title": false,
   "title_cell": "Table of Contents",
   "title_sidebar": "Contents",
   "toc_cell": false,
   "toc_position": {
    "height": "calc(100% - 180px)",
    "left": "10px",
    "top": "150px",
    "width": "330.513px"
   },
   "toc_section_display": true,
   "toc_window_display": false
  },
  "varInspector": {
   "cols": {
    "lenName": 16,
    "lenType": 16,
    "lenVar": 40
   },
   "kernels_config": {
    "python": {
     "delete_cmd_postfix": "",
     "delete_cmd_prefix": "del ",
     "library": "var_list.py",
     "varRefreshCmd": "print(var_dic_list())"
    },
    "r": {
     "delete_cmd_postfix": ") ",
     "delete_cmd_prefix": "rm(",
     "library": "var_list.r",
     "varRefreshCmd": "cat(var_dic_list()) "
    }
   },
   "types_to_exclude": [
    "module",
    "function",
    "builtin_function_or_method",
    "instance",
    "_Feature"
   ],
   "window_display": false
  }
 },
 "nbformat": 4,
 "nbformat_minor": 2
}
