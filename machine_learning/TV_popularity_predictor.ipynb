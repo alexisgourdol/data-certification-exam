{
 "cells": [
  {
   "cell_type": "markdown",
   "metadata": {},
   "source": [
    "# TV shows Popularity Predictor (39%)\n",
    "\n",
    "The goal of this challenge is to create a model that predicts the `popularity` of a movie or TV show\n",
    "\n",
    "<img src=\"image.jpg\" width=300 />\n",
    "\n",
    "\n",
    "\n",
    "\n",
    "The dataset contains a list of movies and TV shows with the following characteristics:\n",
    "- `title`: title of the movie in english\n",
    "- `original_title`: original title of the movie \n",
    "- `duration_min`: duration of the movie in minutes\n",
    "- `popularity`: popularity of the movie in terms of review scores\n",
    "- `release_date`: release date\n",
    "- `description`: short summary of the movie\n",
    "- `budget`: budget spent to produce the movie in USD\n",
    "- `revenue`: movie revenue in USD \n",
    "- `original_language`: original language \n",
    "- `status`: is the movie already released or not\n",
    "- `number_of_awards_won`: number of awards won for the movie\n",
    "- `number_of_nominations`: number of nominations\n",
    "- `has_collection`: if the movie is part of a sequel or not\n",
    "- `all_genres`: genres that described the movie (can be zero, one or many!) \n",
    "- `top_countries`: countries where the movie was produced (can be zero, one or many!) \n",
    "- `number_of_top_productions`: number of top production companies that produced the film if any. \n",
    "Top production companies includes: Warner Bros, Universal Pictures, Paramount Pictures, Canal+, etc...\n",
    "- `available_in_english`: whether the movie is available in english or not"
   ]
  },
  {
   "cell_type": "markdown",
   "metadata": {},
   "source": [
    "## Imports\n",
    "\n",
    "Run the following cell to load the basic packages:"
   ]
  },
  {
   "cell_type": "code",
   "execution_count": 1,
   "metadata": {
    "ExecuteTime": {
     "end_time": "2021-06-30T11:27:56.756201Z",
     "start_time": "2021-06-30T11:27:55.133175Z"
    }
   },
   "outputs": [],
   "source": [
    "import numpy as np\n",
    "import pandas as pd\n",
    "import matplotlib.pyplot as plt\n",
    "import seaborn as sns\n",
    "from nbresult import ChallengeResult"
   ]
  },
  {
   "cell_type": "code",
   "execution_count": 2,
   "metadata": {
    "ExecuteTime": {
     "end_time": "2021-06-30T11:27:57.222911Z",
     "start_time": "2021-06-30T11:27:56.758667Z"
    }
   },
   "outputs": [],
   "source": [
    "from sklearn.preprocessing import OneHotEncoder\n",
    "from sklearn.preprocessing import RobustScaler\n",
    "from sklearn.pipeline import make_pipeline, Pipeline\n",
    "from sklearn.compose import ColumnTransformer\n",
    "from sklearn.linear_model import ElasticNet\n",
    "from sklearn.metrics import mean_squared_log_error\n",
    "from sklearn.model_selection import cross_validate\n",
    "\n",
    "# Execute this cell to enable a nice display for your pipelines\n",
    "from sklearn import set_config; set_config(display='diagram')\n",
    "import math"
   ]
  },
  {
   "cell_type": "markdown",
   "metadata": {
    "heading_collapsed": true
   },
   "source": [
    "## Data collection\n",
    "\n",
    "📝 **Load the `movie_popularity.csv` dataset from the provided this [URL](https://wagon-public-datasets.s3.amazonaws.com/certification_france_2021_q2/tv_movies_popularity.csv)**\n",
    "- First, check and remove the rows that may be complete duplicate from one another (we never know!)\n",
    "- Then, drop the columns that have too much missing values\n",
    "- Finally, drop the few remaining rows that have missing values\n",
    "- Store the result in a `DataFrame` named `data`"
   ]
  },
  {
   "cell_type": "code",
   "execution_count": 3,
   "metadata": {
    "ExecuteTime": {
     "end_time": "2021-06-30T11:27:57.301316Z",
     "start_time": "2021-06-30T11:27:57.224931Z"
    },
    "hidden": true,
    "slideshow": {
     "slide_type": "notes"
    },
    "tags": [
     "challengify"
    ]
   },
   "outputs": [
    {
     "name": "stdout",
     "output_type": "stream",
     "text": [
      "(6864, 17)\n"
     ]
    },
    {
     "data": {
      "text/html": [
       "<div>\n",
       "<style scoped>\n",
       "    .dataframe tbody tr th:only-of-type {\n",
       "        vertical-align: middle;\n",
       "    }\n",
       "\n",
       "    .dataframe tbody tr th {\n",
       "        vertical-align: top;\n",
       "    }\n",
       "\n",
       "    .dataframe thead th {\n",
       "        text-align: right;\n",
       "    }\n",
       "</style>\n",
       "<table border=\"1\" class=\"dataframe\">\n",
       "  <thead>\n",
       "    <tr style=\"text-align: right;\">\n",
       "      <th></th>\n",
       "      <th>original_title</th>\n",
       "      <th>title</th>\n",
       "      <th>popularity</th>\n",
       "      <th>release_date</th>\n",
       "      <th>duration_min</th>\n",
       "      <th>description</th>\n",
       "      <th>budget</th>\n",
       "      <th>revenue</th>\n",
       "      <th>original_language</th>\n",
       "      <th>status</th>\n",
       "      <th>number_of_awards_won</th>\n",
       "      <th>number_of_nominations</th>\n",
       "      <th>has_collection</th>\n",
       "      <th>all_genres</th>\n",
       "      <th>top_countries</th>\n",
       "      <th>number_of_top_productions</th>\n",
       "      <th>available_in_english</th>\n",
       "    </tr>\n",
       "  </thead>\n",
       "  <tbody>\n",
       "    <tr>\n",
       "      <th>0</th>\n",
       "      <td>Hot Tub Time Machine 2</td>\n",
       "      <td>Hot Tub Time Machine 2</td>\n",
       "      <td>6.575393</td>\n",
       "      <td>2015-02-20</td>\n",
       "      <td>93.0</td>\n",
       "      <td>When Lou's shot in the groin, Nick and Jacob d...</td>\n",
       "      <td>14000000</td>\n",
       "      <td>12314651.0</td>\n",
       "      <td>en</td>\n",
       "      <td>Released</td>\n",
       "      <td>0</td>\n",
       "      <td>2</td>\n",
       "      <td>1</td>\n",
       "      <td>Comedy</td>\n",
       "      <td>United States of America</td>\n",
       "      <td>3</td>\n",
       "      <td>True</td>\n",
       "    </tr>\n",
       "    <tr>\n",
       "      <th>1</th>\n",
       "      <td>The Princess Diaries 2: Royal Engagement</td>\n",
       "      <td>The Princess Diaries 2: Royal Engagement</td>\n",
       "      <td>8.248895</td>\n",
       "      <td>2004-08-06</td>\n",
       "      <td>113.0</td>\n",
       "      <td>Now settled in Genovia, Princess Mia faces a n...</td>\n",
       "      <td>40000000</td>\n",
       "      <td>95149435.0</td>\n",
       "      <td>en</td>\n",
       "      <td>Released</td>\n",
       "      <td>1</td>\n",
       "      <td>2</td>\n",
       "      <td>1</td>\n",
       "      <td>Comedy, Drama, Family, Romance</td>\n",
       "      <td>United States of America</td>\n",
       "      <td>1</td>\n",
       "      <td>True</td>\n",
       "    </tr>\n",
       "    <tr>\n",
       "      <th>2</th>\n",
       "      <td>Whiplash</td>\n",
       "      <td>Whiplash</td>\n",
       "      <td>64.299990</td>\n",
       "      <td>2014-10-10</td>\n",
       "      <td>105.0</td>\n",
       "      <td>A promising young drummer enrolls at a cut-thr...</td>\n",
       "      <td>3300000</td>\n",
       "      <td>13092000.0</td>\n",
       "      <td>en</td>\n",
       "      <td>Released</td>\n",
       "      <td>97</td>\n",
       "      <td>145</td>\n",
       "      <td>0</td>\n",
       "      <td>Drama</td>\n",
       "      <td>United States of America</td>\n",
       "      <td>0</td>\n",
       "      <td>True</td>\n",
       "    </tr>\n",
       "    <tr>\n",
       "      <th>3</th>\n",
       "      <td>Kahaani</td>\n",
       "      <td>Kahaani</td>\n",
       "      <td>3.174936</td>\n",
       "      <td>2012-03-09</td>\n",
       "      <td>122.0</td>\n",
       "      <td>A pregnant woman's search for her missing husb...</td>\n",
       "      <td>1200000</td>\n",
       "      <td>16000000.0</td>\n",
       "      <td>hi</td>\n",
       "      <td>Released</td>\n",
       "      <td>23</td>\n",
       "      <td>18</td>\n",
       "      <td>0</td>\n",
       "      <td>Drama, Thriller</td>\n",
       "      <td>India</td>\n",
       "      <td>0</td>\n",
       "      <td>True</td>\n",
       "    </tr>\n",
       "    <tr>\n",
       "      <th>4</th>\n",
       "      <td>The Possession</td>\n",
       "      <td>The Possession</td>\n",
       "      <td>7.286477</td>\n",
       "      <td>2012-08-30</td>\n",
       "      <td>92.0</td>\n",
       "      <td>A young girl buys an antique box at a yard sal...</td>\n",
       "      <td>14000000</td>\n",
       "      <td>85446075.0</td>\n",
       "      <td>en</td>\n",
       "      <td>Released</td>\n",
       "      <td>0</td>\n",
       "      <td>6</td>\n",
       "      <td>0</td>\n",
       "      <td>Horror, Thriller</td>\n",
       "      <td>Canada, United States of America</td>\n",
       "      <td>0</td>\n",
       "      <td>True</td>\n",
       "    </tr>\n",
       "  </tbody>\n",
       "</table>\n",
       "</div>"
      ],
      "text/plain": [
       "                             original_title  \\\n",
       "0                    Hot Tub Time Machine 2   \n",
       "1  The Princess Diaries 2: Royal Engagement   \n",
       "2                                  Whiplash   \n",
       "3                                   Kahaani   \n",
       "4                            The Possession   \n",
       "\n",
       "                                      title  popularity release_date  \\\n",
       "0                    Hot Tub Time Machine 2    6.575393   2015-02-20   \n",
       "1  The Princess Diaries 2: Royal Engagement    8.248895   2004-08-06   \n",
       "2                                  Whiplash   64.299990   2014-10-10   \n",
       "3                                   Kahaani    3.174936   2012-03-09   \n",
       "4                            The Possession    7.286477   2012-08-30   \n",
       "\n",
       "   duration_min                                        description    budget  \\\n",
       "0          93.0  When Lou's shot in the groin, Nick and Jacob d...  14000000   \n",
       "1         113.0  Now settled in Genovia, Princess Mia faces a n...  40000000   \n",
       "2         105.0  A promising young drummer enrolls at a cut-thr...   3300000   \n",
       "3         122.0  A pregnant woman's search for her missing husb...   1200000   \n",
       "4          92.0  A young girl buys an antique box at a yard sal...  14000000   \n",
       "\n",
       "      revenue original_language    status  number_of_awards_won  \\\n",
       "0  12314651.0                en  Released                     0   \n",
       "1  95149435.0                en  Released                     1   \n",
       "2  13092000.0                en  Released                    97   \n",
       "3  16000000.0                hi  Released                    23   \n",
       "4  85446075.0                en  Released                     0   \n",
       "\n",
       "   number_of_nominations  has_collection                      all_genres  \\\n",
       "0                      2               1                          Comedy   \n",
       "1                      2               1  Comedy, Drama, Family, Romance   \n",
       "2                    145               0                           Drama   \n",
       "3                     18               0                 Drama, Thriller   \n",
       "4                      6               0                Horror, Thriller   \n",
       "\n",
       "                      top_countries  number_of_top_productions  \\\n",
       "0          United States of America                          3   \n",
       "1          United States of America                          1   \n",
       "2          United States of America                          0   \n",
       "3                             India                          0   \n",
       "4  Canada, United States of America                          0   \n",
       "\n",
       "   available_in_english  \n",
       "0                  True  \n",
       "1                  True  \n",
       "2                  True  \n",
       "3                  True  \n",
       "4                  True  "
      ]
     },
     "execution_count": 3,
     "metadata": {},
     "output_type": "execute_result"
    }
   ],
   "source": [
    "data = pd.read_csv('tv_movies_popularity.csv')\n",
    "print(data.shape)\n",
    "data.head()"
   ]
  },
  {
   "cell_type": "code",
   "execution_count": 4,
   "metadata": {
    "ExecuteTime": {
     "end_time": "2021-06-30T11:27:57.360404Z",
     "start_time": "2021-06-30T11:27:57.318911Z"
    },
    "hidden": true
   },
   "outputs": [
    {
     "data": {
      "text/plain": [
       "(6464, 17)"
      ]
     },
     "execution_count": 4,
     "metadata": {},
     "output_type": "execute_result"
    }
   ],
   "source": [
    "data.drop_duplicates(inplace=True)\n",
    "data.shape #400 duplicate lines removed"
   ]
  },
  {
   "cell_type": "code",
   "execution_count": 5,
   "metadata": {
    "ExecuteTime": {
     "end_time": "2021-06-30T11:27:57.379512Z",
     "start_time": "2021-06-30T11:27:57.363185Z"
    },
    "hidden": true
   },
   "outputs": [
    {
     "name": "stdout",
     "output_type": "stream",
     "text": [
      "original_title has 0.0% missing values\n",
      "title has 0.01547029702970297% missing values\n",
      "popularity has 0.0% missing values\n",
      "release_date has 0.0% missing values\n",
      "duration_min has 0.0% missing values\n",
      "description has 0.0% missing values\n",
      "budget has 0.0% missing values\n",
      "revenue has 59.51423267326733% missing values\n",
      "original_language has 0.0% missing values\n",
      "status has 0.0% missing values\n",
      "number_of_awards_won has 0.0% missing values\n",
      "number_of_nominations has 0.0% missing values\n",
      "has_collection has 0.0% missing values\n",
      "all_genres has 0.0% missing values\n",
      "top_countries has 0.0% missing values\n",
      "number_of_top_productions has 0.0% missing values\n",
      "available_in_english has 0.0% missing values\n"
     ]
    }
   ],
   "source": [
    "for col in data.columns:\n",
    "    print(f'{col} has {data[col].isnull().sum() / data.shape[0] *100}% missing values')"
   ]
  },
  {
   "cell_type": "code",
   "execution_count": 6,
   "metadata": {
    "ExecuteTime": {
     "end_time": "2021-06-30T11:27:57.399556Z",
     "start_time": "2021-06-30T11:27:57.384440Z"
    },
    "hidden": true
   },
   "outputs": [
    {
     "name": "stdout",
     "output_type": "stream",
     "text": [
      "<class 'pandas.core.frame.DataFrame'>\n",
      "Int64Index: 6464 entries, 0 to 6463\n",
      "Data columns (total 17 columns):\n",
      " #   Column                     Non-Null Count  Dtype  \n",
      "---  ------                     --------------  -----  \n",
      " 0   original_title             6464 non-null   object \n",
      " 1   title                      6463 non-null   object \n",
      " 2   popularity                 6464 non-null   float64\n",
      " 3   release_date               6464 non-null   object \n",
      " 4   duration_min               6464 non-null   float64\n",
      " 5   description                6464 non-null   object \n",
      " 6   budget                     6464 non-null   int64  \n",
      " 7   revenue                    2617 non-null   float64\n",
      " 8   original_language          6464 non-null   object \n",
      " 9   status                     6464 non-null   object \n",
      " 10  number_of_awards_won       6464 non-null   int64  \n",
      " 11  number_of_nominations      6464 non-null   int64  \n",
      " 12  has_collection             6464 non-null   int64  \n",
      " 13  all_genres                 6464 non-null   object \n",
      " 14  top_countries              6464 non-null   object \n",
      " 15  number_of_top_productions  6464 non-null   int64  \n",
      " 16  available_in_english       6464 non-null   bool   \n",
      "dtypes: bool(1), float64(3), int64(5), object(8)\n",
      "memory usage: 864.8+ KB\n"
     ]
    }
   ],
   "source": [
    "data.info()"
   ]
  },
  {
   "cell_type": "code",
   "execution_count": 7,
   "metadata": {
    "ExecuteTime": {
     "end_time": "2021-06-30T11:27:57.413276Z",
     "start_time": "2021-06-30T11:27:57.407953Z"
    },
    "hidden": true
   },
   "outputs": [
    {
     "data": {
      "text/plain": [
       "(6464, 16)"
      ]
     },
     "execution_count": 7,
     "metadata": {},
     "output_type": "execute_result"
    }
   ],
   "source": [
    "data.drop(columns='revenue', inplace=True)\n",
    "data.shape #dropped 1 columns"
   ]
  },
  {
   "cell_type": "code",
   "execution_count": 8,
   "metadata": {
    "ExecuteTime": {
     "end_time": "2021-06-30T11:27:57.427265Z",
     "start_time": "2021-06-30T11:27:57.416041Z"
    },
    "hidden": true
   },
   "outputs": [
    {
     "data": {
      "text/plain": [
       "0    6463\n",
       "1       1\n",
       "dtype: int64"
      ]
     },
     "execution_count": 8,
     "metadata": {},
     "output_type": "execute_result"
    }
   ],
   "source": [
    "data.isnull().sum(axis=1).value_counts()"
   ]
  },
  {
   "cell_type": "code",
   "execution_count": 9,
   "metadata": {
    "ExecuteTime": {
     "end_time": "2021-06-30T11:27:57.442729Z",
     "start_time": "2021-06-30T11:27:57.430666Z"
    },
    "hidden": true
   },
   "outputs": [
    {
     "data": {
      "text/plain": [
       "(6463, 16)"
      ]
     },
     "execution_count": 9,
     "metadata": {},
     "output_type": "execute_result"
    }
   ],
   "source": [
    "data.dropna(axis=0, inplace=True)\n",
    "data.shape #dropped 1 line"
   ]
  },
  {
   "cell_type": "markdown",
   "metadata": {
    "hidden": true
   },
   "source": [
    "### 🧪 Run the following cell to save your results"
   ]
  },
  {
   "cell_type": "code",
   "execution_count": 10,
   "metadata": {
    "ExecuteTime": {
     "end_time": "2021-06-30T11:27:57.455706Z",
     "start_time": "2021-06-30T11:27:57.446073Z"
    },
    "hidden": true
   },
   "outputs": [],
   "source": [
    "from nbresult import ChallengeResult\n",
    "\n",
    "result = ChallengeResult(\n",
    "    \"data_cleaning\",\n",
    "    columns=data.columns,\n",
    "    cleaning=sum(data.isnull().sum()),\n",
    "    shape=data.shape)\n",
    "result.write()"
   ]
  },
  {
   "cell_type": "markdown",
   "metadata": {},
   "source": [
    "## Baseline model"
   ]
  },
  {
   "cell_type": "markdown",
   "metadata": {
    "heading_collapsed": true
   },
   "source": [
    "### The metric"
   ]
  },
  {
   "cell_type": "markdown",
   "metadata": {
    "hidden": true
   },
   "source": [
    "📝 **We want to predict `popularity`: Start by plotting a histogram of the target to visualize it**"
   ]
  },
  {
   "cell_type": "markdown",
   "metadata": {
    "hidden": true
   },
   "source": [
    "📝 **Which sklearn's scoring [metric](https://scikit-learn.org/stable/modules/model_evaluation.html) should we use if we want it to:**\n",
    "\n",
    "- Be better when greater (i.e. metric_good_model > metric_bad_model)\n",
    "- Penalize **more** an error between 10 and 20 compared with an error between 110 and 120\n",
    "- Said otherwise, what matter should be the **relative error ratio**, more than the absolute error difference\n",
    "\n",
    "Hint: the histogram plotted above should give you some intuition about it\n",
    "\n",
    "👉 Store its exact [sklearn scoring name](https://scikit-learn.org/stable/modules/model_evaluation.html) as `string` in the variable `scoring` below.\n",
    "\n",
    "🚨 You must use this metric for the rest of the challenge"
   ]
  },
  {
   "cell_type": "code",
   "execution_count": 11,
   "metadata": {
    "ExecuteTime": {
     "end_time": "2021-06-30T11:27:57.463084Z",
     "start_time": "2021-06-30T11:27:57.459220Z"
    },
    "hidden": true
   },
   "outputs": [],
   "source": [
    "# Distribution "
   ]
  },
  {
   "cell_type": "code",
   "execution_count": 12,
   "metadata": {
    "ExecuteTime": {
     "end_time": "2021-06-30T11:27:57.475001Z",
     "start_time": "2021-06-30T11:27:57.466734Z"
    },
    "hidden": true
   },
   "outputs": [
    {
     "data": {
      "text/plain": [
       "(0.096403, 547.488298)"
      ]
     },
     "execution_count": 12,
     "metadata": {},
     "output_type": "execute_result"
    }
   ],
   "source": [
    "data.popularity.min(),data.popularity.max()"
   ]
  },
  {
   "cell_type": "code",
   "execution_count": 13,
   "metadata": {
    "ExecuteTime": {
     "end_time": "2021-06-30T11:27:58.861063Z",
     "start_time": "2021-06-30T11:27:57.477285Z"
    },
    "hidden": true
   },
   "outputs": [
    {
     "data": {
      "image/png": "[encoded data removed]",
      "text/plain": [
       "<Figure size 432x288 with 1 Axes>"
      ]
     },
     "metadata": {
      "needs_background": "light"
     },
     "output_type": "display_data"
    }
   ],
   "source": [
    "sns.histplot(data.popularity, kde=False);"
   ]
  },
  {
   "cell_type": "code",
   "execution_count": 14,
   "metadata": {
    "ExecuteTime": {
     "end_time": "2021-06-30T11:27:58.960056Z",
     "start_time": "2021-06-30T11:27:58.863622Z"
    },
    "hidden": true
   },
   "outputs": [
    {
     "data": {
      "image/png": "[encoded data removed]",
      "text/plain": [
       "<Figure size 432x288 with 1 Axes>"
      ]
     },
     "metadata": {
      "needs_background": "light"
     },
     "output_type": "display_data"
    }
   ],
   "source": [
    "sns.boxplot(x=data.popularity);"
   ]
  },
  {
   "cell_type": "code",
   "execution_count": 15,
   "metadata": {
    "ExecuteTime": {
     "end_time": "2021-06-30T11:27:59.056289Z",
     "start_time": "2021-06-30T11:27:58.962691Z"
    },
    "hidden": true
   },
   "outputs": [
    {
     "data": {
      "image/png": "[encoded data removed]",
      "text/plain": [
       "<Figure size 432x288 with 1 Axes>"
      ]
     },
     "metadata": {
      "needs_background": "light"
     },
     "output_type": "display_data"
    }
   ],
   "source": [
    "sns.boxplot(x=data.popularity.sort_values()[:-30]);"
   ]
  },
  {
   "cell_type": "code",
   "execution_count": 16,
   "metadata": {
    "ExecuteTime": {
     "end_time": "2021-06-30T11:27:59.062211Z",
     "start_time": "2021-06-30T11:27:59.058781Z"
    },
    "hidden": true
   },
   "outputs": [],
   "source": [
    "# Metric for regression that penalizes more on the low range ==> mean-squared-log-error\n",
    "# https://scikit-learn.org/stable/modules/model_evaluation.html#mean-squared-log-error\n",
    "# 'Note that this metric penalizes an under-predicted estimate greater than an over-predicted estimate.'\n",
    "\n",
    "scoring = 'neg_mean_squared_log_error'"
   ]
  },
  {
   "cell_type": "markdown",
   "metadata": {
    "hidden": true
   },
   "source": [
    "<details>\n",
    "    <summary>💡 Hint</summary>\n",
    "It is around here!\n",
    "<img src=\"scores.jpg\" width=200 height=400 />\n",
    "</details>"
   ]
  },
  {
   "cell_type": "markdown",
   "metadata": {},
   "source": [
    "### X,y"
   ]
  },
  {
   "cell_type": "markdown",
   "metadata": {},
   "source": [
    "**📝 Define `X` as the features Dataframe (keep all features) and `y` as the target Series.**"
   ]
  },
  {
   "cell_type": "code",
   "execution_count": 17,
   "metadata": {
    "ExecuteTime": {
     "end_time": "2021-06-30T11:27:59.080098Z",
     "start_time": "2021-06-30T11:27:59.065223Z"
    },
    "tags": [
     "challengify"
    ]
   },
   "outputs": [
    {
     "name": "stdout",
     "output_type": "stream",
     "text": [
      "Index(['original_title', 'title', 'release_date', 'duration_min',\n",
      "       'description', 'budget', 'original_language', 'status',\n",
      "       'number_of_awards_won', 'number_of_nominations', 'has_collection',\n",
      "       'all_genres', 'top_countries', 'number_of_top_productions',\n",
      "       'available_in_english'],\n",
      "      dtype='object') \n",
      " popularity\n"
     ]
    },
    {
     "data": {
      "text/plain": [
       "((6463, 15), (6463,))"
      ]
     },
     "execution_count": 17,
     "metadata": {},
     "output_type": "execute_result"
    }
   ],
   "source": [
    "X = data.copy().drop(columns='popularity')\n",
    "y = data.popularity.copy()\n",
    "print(X.columns, '\\n', y.name)\n",
    "X.shape, y.shape"
   ]
  },
  {
   "cell_type": "markdown",
   "metadata": {},
   "source": [
    "### Basic pipeline"
   ]
  },
  {
   "cell_type": "markdown",
   "metadata": {},
   "source": [
    "📝 **Check unique values per features**"
   ]
  },
  {
   "cell_type": "code",
   "execution_count": 18,
   "metadata": {
    "ExecuteTime": {
     "end_time": "2021-06-30T11:27:59.129396Z",
     "start_time": "2021-06-30T11:27:59.083297Z"
    },
    "tags": [
     "challengify"
    ]
   },
   "outputs": [
    {
     "name": "stdout",
     "output_type": "stream",
     "text": [
      "original_title has 6350 unique values \n",
      " ['Hot Tub Time Machine 2' 'The Princess Diaries 2: Royal Engagement'\n",
      " 'Whiplash' ... 'The Verdict' 'It Follows'\n",
      " 'Vivre sa vie: film en douze tableaux']  \n",
      "\n",
      "\n",
      "title has 6337 unique values \n",
      " ['Hot Tub Time Machine 2' 'The Princess Diaries 2: Royal Engagement'\n",
      " 'Whiplash' ... 'The Verdict' 'It Follows' 'Vivre Sa Vie']  \n",
      "\n",
      "\n",
      "release_date has 4320 unique values \n",
      " ['2015-02-20' '2004-08-06' '2014-10-10' ... '2006-01-30' '2015-06-23'\n",
      " '1962-09-20']  \n",
      "\n",
      "\n",
      "duration_min has 152 unique values \n",
      " [ 93. 113. 105. 122.  92. 100.  91. 119.  98. 118. 145.  97.  85. 111.\n",
      "  96.  87. 130.  95. 116. 110.  84.  89. 112. 117. 106. 125.  94. 127.\n",
      " 123. 126. 108.  88. 167. 102. 160. 107. 144. 124. 115. 133. 129. 104.\n",
      " 103. 157. 109. 135. 147. 120. 121. 177. 189. 178.  86.  90.  79. 101.\n",
      "  72.  99. 141. 136. 143. 132. 139. 114. 140.  83. 148. 137. 168. 156.\n",
      " 154.  77.  76. 163. 155. 150. 149. 170.  80. 128. 131. 220. 181. 179.\n",
      "  81.  82. 161. 134. 193. 158. 188. 212. 142. 146. 151. 171. 165. 162.\n",
      " 185. 138.  78.  75. 153. 175. 219. 183. 186. 152. 199.  68. 214. 248.\n",
      " 159. 180. 187.  73. 197. 164. 169. 172.  66.  63. 213. 174.  69. 191.\n",
      " 182.  65. 194. 206. 201.  67.  71. 166.  59.  74.  70. 254. 207. 224.\n",
      " 190. 195. 320. 192. 208. 238.  64. 184. 176. 202. 200. 216.]  \n",
      "\n",
      "\n",
      "description has 6449 unique values \n",
      " [\"When Lou's shot in the groin, Nick and Jacob drag him in the Hot Tub Time Machine to go back in time and save Lou. The three end up 10 years in the future, where they need to go to find the shooter.\"\n",
      " 'Now settled in Genovia, Princess Mia faces a new revelation: she is being primed for an arranged marriage to an English suitor.'\n",
      " \"A promising young drummer enrolls at a cut-throat music conservatory where his dreams of greatness are mentored by an instructor who will stop at nothing to realize a student's potential.\"\n",
      " ...\n",
      " 'A lawyer sees the chance to salvage his career and self-respect by taking a medical malpractice case to trial rather than settling.'\n",
      " 'A young woman is followed by an unknown supernatural force after a sexual encounter.'\n",
      " 'Twelve episodic tales in the life of a Parisian woman and her slow descent into prostitution.']  \n",
      "\n",
      "\n",
      "budget has 636 unique values \n",
      " [ 14000000  40000000   3300000   1200000         0   6000000   1000000\n",
      "  15000000  53000000 102000000    500000  26000000   8000000  32000000\n",
      "  80000000   4000000  10000000  11000000  45000000  13000000  90000000\n",
      " 140000000  30000000  50000000   3800000   3000000  25000000   3906840\n",
      "  44000000  38000000    560000  12000000  20000000 125000000 150000000\n",
      "   5000000   1500000   2000000  85000000  29000000  17000000  10284523\n",
      "  43000000  28000000   7500000  35000000   2500000   7000000  60000000\n",
      "  10900000  31000000  72000000  75000000 100000000  93000000  12716953\n",
      "  18000000   2400000  65000000   9000000 110000000   3500000  39200000\n",
      "  63600000    125000  19000000  12468389  82500000 180000000   4500000\n",
      "  24000000  12600000  55000000   3200000  22000000   6700000  49000000\n",
      "   6244087    800000  70000000  23000000   7920000  12560000  98000000\n",
      "   8500000   9500000     27000  21000000  72500000   2915739  16000000\n",
      " 160000000    225000 108000000 175000000 115000000 135000000  71000000\n",
      "  27000000  36000000        12   7200000  20500000 130000000   2200000\n",
      "  15400000      7000  13100000  74500000   7075038  18500000  87000000\n",
      "   3750000   2900000    810000  57000000    762241  10300000   1288000\n",
      "  16500000  10500000  48000000  13500000    250000    590235   2800000\n",
      "     60000   6500000    910000    930000 149000000  62000000  78146652\n",
      "   4100000   6900000  79000000   5800000  14500000   2700000  10400000\n",
      "   5500000    100000   8575000         6  39000000     20000   2600000\n",
      "  11500000  54000000 250000000   6300000   2650000   6400000   4200000\n",
      "   1271000 113000000         1   9250000 103000000   8250000    967686\n",
      "     50000 200000000 105000000  22500000   1601792  94000000   1300000\n",
      "  42000000  33000000    886000   3860000  10721568    355000   2196531\n",
      "  59000000   9750000    151000  88000000   7700000  37000000 185000000\n",
      "   9600000    940000 195000000 163000000    558000  25530000    609000\n",
      "   6788000  73000000   9200000   1800000    280379  56000000  68000000\n",
      "  58000000  95000000   5600000 220000000    350000   4300000   3537415\n",
      "    878000    300000   3400000   1250000    747000         5     65000\n",
      "  52000000   1750000     15000  13800000  11800000 225000000    802000\n",
      " 260000000    120000    230000    700000   1700000  10700000  61000000\n",
      "   3900000    722083 120000000     25000   5700000    325000   2883848\n",
      " 116000000 165000000 190000000 270000000  46000000   5200000   4361898\n",
      "    950000    210000   3705538   1752000    650000    777000    850000\n",
      "   4798235 145000000  17500000  27220000  15800000   9100000    450000\n",
      "  44500000   4520000    662141   4600000   1400000  12500000    360000\n",
      "  16400000    180000  41000000    521873  34000000   3837625 152000000\n",
      "   3347850   4437508  63000000  17820000         2  14600000  97000000\n",
      "   2159280  10831173  13360000   3230939 170000000   3700000  19800000\n",
      " 210000000   2300000     12000       592  31115000  26400000  83000000\n",
      "    855000   5952000  11715578   1379375   1900000  67000000   3196621\n",
      "    440141         4 207000000   2627000    134000   1243000    550000\n",
      "    134005   9900000    531374 380000000   3500159    600000    658000\n",
      "   5300000  47000000     74050   1688000 300000000   8272296   8700000\n",
      "  19500000       130  12823507   2380000   1227401   1805000   8376800\n",
      "   1821052 132000000   1202007  23600000   6600000  32745300  97250400\n",
      "   3600000  21500000    103000   7400000   1350000    475000      5000\n",
      " 197471676    852510   1455000  41300000   4900000  12250000   8045760\n",
      " 245000000  92000000   1089360 280000000  82000000     17000  14734000\n",
      "    220000  11930000    150000  16800000      6000  49300000   5400000\n",
      "   3062000   3512454 127500000   1365000  64000000  31500000  37665000\n",
      "   1135654     88000   6800000  12516654   1600000  51000000 258000000\n",
      "    318000   5115000  92620000   6250000  26350000   1934000  13300000\n",
      "   4881000   4357373   3950000  78000000  15774948    900000     24500\n",
      "   8138338  66000000  22700000    343000  12305523   4550000   2033000\n",
      "  11097000   1746964    806948   4750000    200000   8200000  14700000\n",
      "   3100000  14400000    780000 137000000   4700000  21150000    860000\n",
      "   4180000   7800000    312000   4800000        25    823258   1816720\n",
      "    375000   5904067  12400000    130000 112000000    226408     31192\n",
      "   5641880 155000000   1530000    240000    994000   5210000  13200000\n",
      "    750000     17311  15050000   5773100  27563396   2840000   1488423\n",
      "     76000   5037000   1644736    725000    829000 215000000  80341000\n",
      "   2270000    730000  69000000   4090000    291000    970000   3716946\n",
      "   2962051  19250000   1987650  40600000  60720000 127000000  50200000\n",
      "   1180280  51500000  32350000  12300000   5750000  46630000    400000\n",
      "   9272437    864000   9400000   2777000     85000    818418   8900000\n",
      "   4653000   2224000         8  17010000   4531653   1950000    379000\n",
      "  76000000     10000  84000000   2540800   4638783        30   5990000\n",
      "       500    160000  19885552   3768785   1823152   3730500    786675\n",
      "  19100000   1880006  81000000  58800000  52500000  29500000        15\n",
      " 117000000  14200000   5940000    133000         3  12800000    270000\n",
      "   5900000    243000   1103000   2142000  15500000        28   2135161\n",
      "   9804690   1333333    620000    224056    114000  86000000    169000\n",
      " 178000000   1100000   1020000        75  30250000    916000   2723903\n",
      "   3550000     79000    839727   1453000   8256269  14350531   1380000\n",
      "  26500000   2479000 123000000  27500000  17080000  12806000   9285469\n",
      "   8820000   3180000   9700000     82000    884130   1052753   5980000\n",
      "   2280000  41677699   5510000 176000003 230000000   6200000  10800000\n",
      "   2100000   7100000  25697387   1978000  49900000    245000  74000000\n",
      " 107000000  23400000  50100000     18000     16000    923000    439000\n",
      "  32500000    281756 237000000   8169363  25500000   2515000 139000000\n",
      "  37931000    927262    110000   2090000  14800000  17900000  36500000\n",
      "   4141459     64200   1650000  12700000    812000 144000000     30000\n",
      "   5650000   2079000    373000  24500000         7  10200000     65700\n",
      "   7900000   1344000  12902809  25485000  11400000   3005000 255000000\n",
      "  34200000   1580000   5860000  10920000     70000   1152000  11700000\n",
      "        10  25100000  18700000   6100000   7300000 209000000   2238813\n",
      "   1884000      8000  17700000  60795000 133000000  17540562    672000\n",
      "   5069632   7275000   2686000       118  99000000  12899867    858000\n",
      " 126000000    106000    310000   3352254   8520000     64000]  \n",
      "\n",
      "\n",
      "original_language has 42 unique values \n",
      " ['en' 'hi' 'sr' 'fr' 'it' 'nl' 'zh' 'es' 'ta' 'cn' 'tr' 'ko' 'ja' 'fa'\n",
      " 'te' 'pt' 'ru' 'sv' 'da' 'de' 'fi' 'el' 'no' 'ar' 'nb' 'ro' 'pl' 'hu'\n",
      " 'bn' 'id' 'ml' 'he' 'ka' 'th' 'cs' 'ca' 'bm' 'af' 'ur' 'kn' 'xx' 'is']  \n",
      "\n",
      "\n",
      "status has 3 unique values \n",
      " ['Released' 'Rumored' 'Post Production']  \n",
      "\n",
      "\n",
      "number_of_awards_won has 124 unique values \n",
      " [  0   1  97  23  14  20 111   2   3   5  38  29   4   8  43  13  10  18\n",
      "  27  19  36  39  15  49  37  33 121  32  11  17   6  34  16  93   7  22\n",
      "   9  24  50  92  40  26  47  30  25  75 126  28  58  72  67 122  12  80\n",
      "  21  73  68 245  35  66  90  60  41  44 237  77  42  64  85  94  31  52\n",
      "  79 159  83  45  56  74  69 162  46  55  59 222  89  51 173 149 116  96\n",
      " 157  53  54 141 129  48  70 163 125 243 102 134  86 133  57 100  62 107\n",
      "  65 153 108  87  63  91  81 193  84 172 124 209  61 242 110 113]  \n",
      "\n",
      "\n",
      "number_of_nominations has 180 unique values \n",
      " [  2 145  18   6   5  28  21   0 102  13  91   9   7   1  17   3   8  40\n",
      "  37  10  16 116   4  14  22  44 168  12  49  11  25 103  38  61  69  32\n",
      "  34 126  23  58  41  46 105  15  95  20  96  31 106  73  24  33 135  54\n",
      " 188  26  35  71  53  45  47  19 124  72 187 138  93  63 112  29  60  30\n",
      "  90  74  57  36 151  84  79 231 144  42  27  43  39 134  70  83 161  50\n",
      "  80  52  55  48  64 254 131 170  81 132  62 155 180 163  66  65  77  92\n",
      " 154  87  51 200 227 204 129 179 104  59 158 173  89 101  78  94 114 292\n",
      "  99 218  75 133 279 203  56  97 177 220 111 115 263  76 140 130 160  86\n",
      " 336  68 226 172 136 120  67 137 162 107 264 109 186 252 148 169  85  98\n",
      " 166  82 206 171 291 141 121 230 150 174 143 122 100 287 149 147 123 192]  \n",
      "\n",
      "\n",
      "has_collection has 2 unique values \n",
      " [1 0]  \n",
      "\n",
      "\n",
      "all_genres has 745 unique values \n",
      " ['Comedy' 'Comedy, Drama, Family, Romance' 'Drama' 'Drama, Thriller'\n",
      " 'Horror, Thriller' 'Action, Adventure, Comedy, Family, Music'\n",
      " 'Comedy, Music' 'Comedy, Crime'\n",
      " 'Action, Mystery, Science Fiction, Thriller' 'Action, Crime, Drama'\n",
      " 'Drama, Romance' 'Comedy, Romance' 'Action, Crime, Thriller'\n",
      " 'Adventure, Family, Science Fiction' 'Comedy, Horror'\n",
      " 'Comedy, Horror, Mystery, Thriller' 'Crime, Drama, Mystery, Thriller'\n",
      " 'Comedy, Drama, Romance' 'Animation' 'Action, Adventure, Crime, Thriller'\n",
      " 'Comedy, Drama' 'Drama, Mystery, Thriller' 'Action, Adventure, Fantasy'\n",
      " 'Horror' 'Action, Comedy, Crime, Thriller'\n",
      " 'Action, Drama, Science Fiction, Thriller' 'War, Western' 'Crime, Drama'\n",
      " 'Crime, Drama, Mystery, Romance, Thriller'\n",
      " 'Adventure, Animation, Comedy, Family' 'Crime, Drama, Mystery, Western'\n",
      " 'Action, Adventure, Science Fiction, Thriller' 'Adventure, Comedy'\n",
      " 'Drama, Family, Romance' 'Action' 'Action, Crime, Fantasy'\n",
      " 'Music, Romance' 'Action, Adventure, Comedy'\n",
      " 'Action, Adventure, Thriller' 'Crime, Drama, Fantasy, Thriller'\n",
      " 'Adventure, Drama' 'Action, Crime, Drama, Thriller'\n",
      " 'Drama, Fantasy, Mystery, Thriller' 'Drama, Foreign, Romance'\n",
      " 'Drama, Horror, Mystery, Thriller' 'Science Fiction, Thriller'\n",
      " 'Horror, Mystery'\n",
      " 'Action, Adventure, Drama, Mystery, Science Fiction, Thriller'\n",
      " 'Drama, History' 'Drama, Mystery, Romance, Thriller' 'Action, Crime'\n",
      " 'Adventure, Drama, Romance, War' 'Action, Comedy, Romance, Thriller'\n",
      " 'Action, Crime, Horror, Science Fiction, Thriller'\n",
      " 'Action, Drama, History, War' 'Adventure, Drama, Romance'\n",
      " 'Action, Comedy, Crime, Romance'\n",
      " 'Action, Adventure, Drama, History, Thriller' 'Action, Comedy'\n",
      " 'Action, Comedy, Crime' 'Adventure, Animation, Drama, Family'\n",
      " 'Action, Comedy, Crime, Mystery, Thriller' 'Drama, War'\n",
      " 'Adventure, Comedy, Drama' 'Thriller' 'Crime, Horror, Thriller'\n",
      " 'Drama, Mystery, Romance' 'Action, Drama, Science Fiction'\n",
      " 'Comedy, Family' 'Adventure, Drama, Thriller' 'Drama, Fantasy, Horror'\n",
      " 'Adventure, Animation, Family, Fantasy' 'Action, Western'\n",
      " 'Action, Comedy, Fantasy, Romance, Science Fiction'\n",
      " 'Crime, Drama, Horror, Thriller' 'Comedy, Crime, Mystery'\n",
      " 'Action, Crime, Drama, Mystery, Thriller' 'Adventure'\n",
      " 'Horror, Science Fiction, Thriller' 'Action, Adventure, Thriller, War'\n",
      " 'Crime, Drama, Thriller' 'Action, Adventure, Drama'\n",
      " 'Comedy, Drama, Fantasy, Romance' 'Animation, Family'\n",
      " 'Action, Comedy, Drama' 'Comedy, Family, Fantasy'\n",
      " 'Comedy, Drama, Music, Romance, Science Fiction'\n",
      " 'Animation, Comedy, Family' 'Comedy, Horror, Romance'\n",
      " 'Action, Adventure, Family, Fantasy, Science Fiction'\n",
      " 'Fantasy, Horror, Science Fiction' 'Adventure, Western'\n",
      " 'Adventure, Horror, Thriller' 'Action, Comedy, Family'\n",
      " 'Animation, Family, Fantasy' 'Drama, History, War' 'Mystery, Thriller'\n",
      " 'Action, Adventure, Drama, History' 'Action, Crime, Fantasy, Thriller'\n",
      " 'Adventure, Family' 'Drama, Fantasy, Mystery, Romance, Thriller'\n",
      " 'Comedy, Drama, Music, Romance' 'Action, Drama'\n",
      " 'Animation, Family, Music' 'Adventure, Comedy, Romance'\n",
      " 'Comedy, Crime, Fantasy, Romance' 'Mystery' 'Action, Adventure'\n",
      " 'Action, Drama, Music, Romance, Western'\n",
      " 'Action, Animation, Science Fiction' 'Science Fiction'\n",
      " 'Action, Adventure, Family' 'Action, Thriller'\n",
      " 'Fantasy, Horror, Thriller' 'Action, Adventure, Comedy, Romance'\n",
      " 'Adventure, Comedy, Science Fiction, Thriller'\n",
      " 'Comedy, Crime, Romance, Thriller' 'Animation, Drama, Family, Fantasy'\n",
      " 'Action, Drama, Foreign, History, Thriller'\n",
      " 'Action, Adventure, Science Fiction' 'Action, Fantasy, Science Fiction'\n",
      " 'Action, Comedy, Fantasy, Science Fiction' 'Action, Horror'\n",
      " 'Comedy, Music, Romance' 'Action, War' 'Crime, Drama, History'\n",
      " 'Family, Fantasy' 'Crime, Drama, Mystery' 'Fantasy, Mystery, Thriller'\n",
      " 'Crime, Drama, Romance, Thriller'\n",
      " 'Adventure, Comedy, Drama, Family, Fantasy, Science Fiction'\n",
      " 'Adventure, Drama, Thriller, Western' 'Action, Comedy, Romance'\n",
      " 'Animation, Comedy' 'Adventure, Romance' 'Action, Drama, War'\n",
      " 'Crime, Thriller' 'Action, Drama, Thriller'\n",
      " 'Adventure, Comedy, Drama, Family, Fantasy'\n",
      " 'Adventure, Animation, Fantasy'\n",
      " 'Action, Adventure, Comedy, Drama, Mystery' 'Animation, Drama, Family'\n",
      " 'Action, Science Fiction, War' 'Drama, Fantasy'\n",
      " 'Drama, Science Fiction, Thriller' 'Adventure, Comedy, Family, Fantasy'\n",
      " 'Comedy, Drama, Foreign, Romance' 'Action, Drama, Thriller, War'\n",
      " 'Comedy, Drama, Thriller' 'Horror, Science Fiction'\n",
      " 'Adventure, Animation, Family' 'Drama, Music' 'Adventure, Drama, Family'\n",
      " 'Adventure, Drama, History' 'Drama, Horror, Science Fiction, Thriller'\n",
      " 'Action, Adventure, Drama, History, Romance, War'\n",
      " 'Comedy, Crime, Horror, Thriller'\n",
      " 'Action, Horror, Science Fiction, Thriller' 'Horror, Mystery, Thriller'\n",
      " 'Animation, Comedy, Fantasy' 'Adventure, Comedy, Science Fiction'\n",
      " 'Romance' 'Comedy, Foreign' 'Comedy, Fantasy, Romance'\n",
      " 'Crime, Mystery, Thriller' 'Adventure, Comedy, Drama, Science Fiction'\n",
      " 'Comedy, Drama, Family, Fantasy' 'Horror, Thriller, War' 'Drama, Mystery'\n",
      " 'Comedy, Family, Romance' 'Drama, Mystery, Science Fiction'\n",
      " 'Comedy, Drama, Family' 'Comedy, Family, Science Fiction'\n",
      " 'Action, Adventure, Drama, Family, Romance'\n",
      " 'Action, Comedy, Drama, History' 'Action, Adventure, Drama, Thriller'\n",
      " 'Comedy, Drama, Fantasy, Romance, Science Fiction'\n",
      " 'Action, Adventure, Comedy, Drama' 'Drama, Horror, Science Fiction'\n",
      " 'Animation, Comedy, Drama' 'Horror, Mystery, Science Fiction' 'Western'\n",
      " 'Action, Crime, Science Fiction, Thriller' 'Drama, Music, Romance'\n",
      " 'Comedy, Crime, Romance' 'Comedy, Drama, Family, Fantasy, Romance'\n",
      " 'Adventure, Family, Fantasy' 'Comedy, Fantasy, Horror, Thriller'\n",
      " 'Action, Crime, Science Fiction' 'Comedy, Crime, Drama, Romance'\n",
      " 'Animation, Science Fiction' 'Action, Adventure, Crime, Drama, Thriller'\n",
      " 'Comedy, Drama, History' 'Action, Adventure, Drama, History, Western'\n",
      " 'Action, Drama, Western' 'Comedy, Horror, Music'\n",
      " 'Action, Crime, Horror, Thriller' 'Action, Horror, Science Fiction'\n",
      " 'Comedy, Fantasy, Horror' 'Action, Romance, War'\n",
      " 'Action, Adventure, Drama, Romance' 'Adventure, Thriller, War'\n",
      " 'Action, Comedy, Fantasy, Horror, Science Fiction'\n",
      " 'Drama, Romance, Thriller' 'Action, Adventure, Drama, War'\n",
      " 'Drama, Fantasy, Mystery' 'Action, Adventure, Comedy, Family, Fantasy'\n",
      " 'Adventure, Comedy, Crime, Mystery, Romance, Thriller'\n",
      " 'Action, Adventure, Fantasy, Science Fiction'\n",
      " 'Adventure, Drama, Family, Fantasy'\n",
      " 'Adventure, Animation, Comedy, Family, Fantasy, Romance'\n",
      " 'Comedy, Drama, Music' 'Action, Crime, Drama, Romance, Thriller, Western'\n",
      " 'Crime, Horror, Mystery, Thriller' 'Action, Comedy, Science Fiction'\n",
      " 'Action, Fantasy, Thriller' 'Adventure, Fantasy' 'Comedy, Crime, Drama'\n",
      " 'Action, Animation, Family' 'Action, Adventure, Crime'\n",
      " 'Action, Adventure, Comedy, Fantasy' 'Action, Adventure, Comedy, Family'\n",
      " 'Family, Fantasy, Romance' 'Crime, Drama, Western'\n",
      " 'Drama, Fantasy, Horror, Mystery, Romance, Thriller'\n",
      " 'Horror, Romance, Thriller' 'Romance, Thriller'\n",
      " 'Drama, History, Thriller' 'Action, History, War'\n",
      " 'Animation, Family, Fantasy, Science Fiction'\n",
      " 'Action, Comedy, Crime, Drama, Thriller'\n",
      " 'Adventure, Drama, Fantasy, Romance'\n",
      " 'Adventure, Comedy, Family, Science Fiction' 'Drama, History, Romance'\n",
      " 'Animation, Music' 'Crime, Drama, History, Mystery, Thriller'\n",
      " 'Action, Drama, Horror, Science Fiction, Thriller'\n",
      " 'Action, Drama, History, Thriller, War' 'Action, Horror, Thriller'\n",
      " 'Comedy, Drama, History, War'\n",
      " 'Action, Adventure, Comedy, Crime, Thriller' 'Drama, Horror, Mystery'\n",
      " 'Action, Drama, History' 'Drama, Horror, Thriller'\n",
      " 'Action, Adventure, Animation, Science Fiction'\n",
      " 'Comedy, Fantasy, Science Fiction' 'Adventure, Drama, History, Thriller'\n",
      " 'Crime, Drama, Music, Romance'\n",
      " 'Action, Adventure, Animation, Comedy, Drama, Family'\n",
      " 'Action, Adventure, Comedy, Drama, Thriller' 'History, Thriller, War'\n",
      " 'Comedy, Crime, Thriller' 'Action, Drama, Romance'\n",
      " 'Adventure, Animation, Comedy, Family, Romance' 'Action, Family, Fantasy'\n",
      " 'Action, Adventure, History'\n",
      " 'Adventure, Comedy, Family, Fantasy, Science Fiction'\n",
      " 'Action, Science Fiction, Thriller, Western'\n",
      " 'Crime, Drama, Family, Thriller' 'Action, Drama, Romance, Thriller'\n",
      " 'Action, Adventure, Family, Fantasy, Romance'\n",
      " 'Adventure, Animation, Family, Fantasy, Science Fiction'\n",
      " 'Action, Romance, Thriller' 'Comedy, Family, Fantasy, Science Fiction'\n",
      " 'Action, Romance' 'Drama, History, Mystery, Thriller'\n",
      " 'Action, Adventure, Drama, History, War'\n",
      " 'Fantasy, Horror, Mystery, Thriller'\n",
      " 'Action, Adventure, Romance, Science Fiction'\n",
      " 'Action, Adventure, Drama, Horror, Science Fiction'\n",
      " 'Crime, Horror, Mystery' 'Drama, Western'\n",
      " 'Comedy, Drama, Fantasy, Thriller' 'Romance, Western'\n",
      " 'Action, Science Fiction, Thriller'\n",
      " 'Action, Comedy, Drama, Family, Thriller'\n",
      " 'Action, Adventure, Mystery, Thriller'\n",
      " 'Drama, Horror, Mystery, Romance, Thriller'\n",
      " 'Action, Crime, Drama, History, Thriller'\n",
      " 'Action, Adventure, Comedy, Fantasy, Science Fiction'\n",
      " 'Fantasy, Music, Romance'\n",
      " 'Action, Adventure, Animation, Comedy, Family, Fantasy, Science Fiction'\n",
      " 'Action, Comedy, Crime, Horror' 'Drama, Science Fiction'\n",
      " 'Action, Adventure, War' 'Comedy, Crime, Drama, Romance, Thriller'\n",
      " 'Adventure, Drama, Family, Fantasy, Mystery'\n",
      " 'Comedy, Drama, History, Mystery'\n",
      " 'Animation, Drama, Family, Fantasy, Romance' 'Comedy, Mystery'\n",
      " 'Action, Adventure, Romance, Science Fiction, Thriller'\n",
      " 'Action, Crime, Mystery, Thriller' 'Drama, Foreign'\n",
      " 'Action, Comedy, Horror' 'Adventure, Comedy, Family'\n",
      " 'Mystery, Science Fiction, Thriller' 'Action, History'\n",
      " 'Adventure, Animation, Family, Fantasy, Music' 'Drama, Fantasy, Thriller'\n",
      " 'Adventure, Fantasy, Science Fiction'\n",
      " 'Action, Adventure, Fantasy, Science Fiction, Thriller'\n",
      " 'Comedy, Horror, Thriller' 'Action, Adventure, Drama, Thriller, War'\n",
      " 'Action, Adventure, Drama, Mystery' 'Action, Science Fiction'\n",
      " 'Adventure, Thriller' 'Action, Adventure, Comedy, Thriller'\n",
      " 'Action, Adventure, Comedy, Drama, Fantasy'\n",
      " 'Adventure, Family, Science Fiction, Thriller' 'Action, Comedy, Thriller'\n",
      " 'Comedy, Drama, Mystery, Thriller'\n",
      " 'Drama, Mystery, Science Fiction, Thriller'\n",
      " 'Action, Adventure, Animation, Family, Fantasy' 'Animation, Drama'\n",
      " 'Action, Drama, Mystery, Thriller' 'Adventure, Horror, Science Fiction'\n",
      " 'Action, Adventure, Horror, Science Fiction'\n",
      " 'Adventure, Family, Fantasy, Music' 'Action, Drama, History, Western'\n",
      " 'Animation, Drama, Fantasy' 'Fantasy, Romance'\n",
      " 'Action, Adventure, Fantasy, Horror, Science Fiction, Thriller'\n",
      " 'Adventure, Drama, Family, Fantasy, Romance, Science Fiction'\n",
      " 'Action, Adventure, Comedy, Crime, Drama' 'Adventure, Drama, Horror'\n",
      " 'Comedy, Drama, Family, Music, Romance' 'Comedy, Mystery, Thriller'\n",
      " 'Action, Drama, History, Thriller'\n",
      " 'Crime, Drama, Science Fiction, Thriller'\n",
      " 'Adventure, Family, Mystery, Science Fiction'\n",
      " 'Adventure, Comedy, Drama, Family'\n",
      " 'Adventure, Animation, Drama, Family, Music' 'Family, Science Fiction'\n",
      " 'Action, Fantasy, Horror, Science Fiction, Thriller'\n",
      " 'Action, Animation, Crime, Drama'\n",
      " 'Comedy, Fantasy, Romance, Science Fiction' 'Fantasy, Horror'\n",
      " 'Comedy, Crime, Drama, Thriller' 'Action, Fantasy, Horror'\n",
      " 'Drama, Romance, War' 'Crime, Drama, History, Western'\n",
      " 'Action, Comedy, Horror, Mystery, Science Fiction, Thriller'\n",
      " 'Comedy, Fantasy' 'Action, Thriller, War'\n",
      " 'Comedy, Horror, Romance, Thriller' 'Drama, Fantasy, Horror, Thriller'\n",
      " 'Comedy, History' 'Comedy, Family, Fantasy, Mystery, Thriller'\n",
      " 'Action, Adventure, Animation, Comedy, Family, Fantasy'\n",
      " 'Animation, Fantasy, Science Fiction' 'Drama, Horror'\n",
      " 'Adventure, Romance, War' 'Drama, Family' 'Comedy, War'\n",
      " 'Crime, Drama, Romance, Western' 'Action, Drama, Fantasy, Horror, War'\n",
      " 'Crime, Mystery' 'Fantasy, Music'\n",
      " 'Action, Fantasy, Mystery, Science Fiction, Thriller'\n",
      " 'Action, Adventure, Comedy, Crime, Drama, Thriller'\n",
      " 'Comedy, Crime, Music' 'Drama, Fantasy, Science Fiction'\n",
      " 'Action, Comedy, Drama, War' 'Drama, Science Fiction, War'\n",
      " 'Comedy, Drama, Science Fiction' 'Action, Adventure, Fantasy, Mystery'\n",
      " 'Adventure, Science Fiction' 'Action, Horror, Mystery, Thriller'\n",
      " 'Foreign, Thriller' 'Comedy, Western' 'Action, Adventure, Drama, Western'\n",
      " 'Comedy, Drama, Family, Fantasy, Science Fiction'\n",
      " 'Comedy, Drama, Foreign' 'Action, Adventure, Drama, History, Romance'\n",
      " 'Drama, Family, Music, Romance'\n",
      " 'Adventure, Comedy, Family, Fantasy, Romance'\n",
      " 'Adventure, Comedy, Fantasy, Mystery' 'Adventure, Crime, Mystery'\n",
      " 'Adventure, Drama, Science Fiction' 'Action, Adventure, Crime, Fantasy'\n",
      " 'Comedy, Crime, Horror' 'Action, Adventure, Drama, Fantasy'\n",
      " 'Action, Drama, Horror, Mystery, Thriller'\n",
      " 'Action, Comedy, Drama, Romance, Science Fiction'\n",
      " 'Comedy, Family, Romance, Science Fiction' 'Action, Comedy, Crime, Music'\n",
      " 'Thriller, War' 'Action, Comedy, Drama, Romance, Thriller'\n",
      " 'Action, Adventure, Drama, Family' 'Mystery, Science Fiction'\n",
      " 'Comedy, Horror, Music, Science Fiction'\n",
      " 'Drama, Fantasy, Romance, Science Fiction' 'Crime, Drama, Music'\n",
      " 'Comedy, Drama, Mystery' 'Adventure, Animation, Mystery'\n",
      " 'Action, Comedy, Fantasy' 'Animation, Comedy, Family, Fantasy'\n",
      " 'Action, Adventure, Horror, Science Fiction, Thriller'\n",
      " 'Adventure, Crime, Drama, Mystery, Western'\n",
      " 'Action, Adventure, Fantasy, War' 'Crime, Drama, Romance'\n",
      " 'Crime, Drama, Mystery, Romance' 'Comedy, Drama, Horror, Romance'\n",
      " 'Comedy, Drama, Mystery, Romance'\n",
      " 'Action, Adventure, Comedy, Science Fiction'\n",
      " 'Action, Adventure, Fantasy, Thriller, Western'\n",
      " 'Action, Adventure, Horror' 'Action, Adventure, Comedy, Crime'\n",
      " 'Comedy, Drama, Romance, Science Fiction, Thriller'\n",
      " 'Action, Adventure, Comedy, Drama, Family, Music, Romance'\n",
      " 'Comedy, Crime, Mystery, Thriller' 'Action, Fantasy' 'Thriller, Western'\n",
      " 'Action, Adventure, Fantasy, Thriller'\n",
      " 'Animation, Comedy, Drama, Romance'\n",
      " 'Animation, Science Fiction, Thriller'\n",
      " 'Crime, Drama, Horror, Mystery, Thriller'\n",
      " 'Action, Comedy, Drama, Romance' 'Action, Comedy, Mystery, Thriller'\n",
      " 'Adventure, Animation, Fantasy, Science Fiction'\n",
      " 'Adventure, Comedy, Drama, Fantasy'\n",
      " 'Adventure, Animation, Comedy, Family, Fantasy'\n",
      " 'Action, Animation, Drama, Science Fiction'\n",
      " 'Animation, Drama, Science Fiction' 'Comedy, Family, Music, Romance'\n",
      " 'Action, Drama, Horror' 'Comedy, Romance, Science Fiction'\n",
      " 'Horror, Romance' 'Action, Science Fiction, Thriller, War'\n",
      " 'Drama, History, Music' 'Crime, Mystery, Science Fiction, Thriller'\n",
      " 'Drama, Family, Fantasy, Romance, Science Fiction'\n",
      " 'Comedy, Horror, Science Fiction'\n",
      " 'Action, Adventure, Family, Fantasy, Science Fiction, Thriller'\n",
      " 'Crime, Science Fiction, Thriller' 'Adventure, Drama, Western'\n",
      " 'Comedy, Drama, War' 'Drama, Horror, Romance, Thriller'\n",
      " 'Adventure, Comedy, Crime' 'Action, Family, Science Fiction'\n",
      " 'Drama, Fantasy, Romance' 'Comedy, Drama, Romance, War'\n",
      " 'Drama, Mystery, Romance, Science Fiction'\n",
      " 'Action, Adventure, Crime, Drama, Mystery, Thriller'\n",
      " 'Animation, Comedy, Drama, Family, Fantasy'\n",
      " 'Action, Adventure, Animation, Science Fiction, Thriller'\n",
      " 'Fantasy, Thriller' 'Action, Adventure, Crime, Drama'\n",
      " 'Drama, Family, Music' 'Action, Comedy, Drama, Horror'\n",
      " 'Action, Adventure, History, Thriller' 'Action, Mystery, Thriller'\n",
      " 'Adventure, Comedy, Drama, Fantasy, Music' 'Animation, Drama, Romance'\n",
      " 'Adventure, Animation, Drama, Fantasy' 'Family, Horror'\n",
      " 'History, Thriller' 'Music' 'Comedy, Drama, Family, Music'\n",
      " 'Animation, Comedy, Family, Music' 'Comedy, Science Fiction'\n",
      " 'Comedy, Drama, Family, Fantasy, Romance, Science Fiction'\n",
      " 'Animation, Comedy, Family, Fantasy, Music'\n",
      " 'Adventure, Animation, Family, Science Fiction'\n",
      " 'Action, Adventure, Animation, Family' 'Action, Adventure, Western'\n",
      " 'Action, Adventure, Comedy, Thriller, Western'\n",
      " 'Action, Comedy, Crime, Fantasy' 'Drama, Thriller, War'\n",
      " 'Crime, Drama, History, Thriller' 'Crime, Horror'\n",
      " 'Adventure, Fantasy, Thriller' 'Action, Drama, History, Romance'\n",
      " 'Animation, Family, Science Fiction' 'Drama, Family, Fantasy'\n",
      " 'History, Romance, War' 'Comedy, Drama, Fantasy'\n",
      " 'Action, Adventure, Drama, Fantasy, Mystery, Romance'\n",
      " 'Animation, Comedy, Family, Science Fiction'\n",
      " 'Adventure, Mystery, Science Fiction'\n",
      " 'Horror, Mystery, Science Fiction, Thriller'\n",
      " 'Drama, Horror, Thriller, War'\n",
      " 'Action, Adventure, Animation, Comedy, Music'\n",
      " 'Action, Adventure, Animation, Family, Science Fiction'\n",
      " 'Action, Adventure, Drama, Romance, War'\n",
      " 'Adventure, Comedy, History, Romance' 'Action, Crime, Romance, Thriller'\n",
      " 'Action, Adventure, Fantasy, Horror'\n",
      " 'Action, Drama, Music, Romance, Thriller'\n",
      " 'Action, Fantasy, Horror, Thriller'\n",
      " 'Action, Adventure, Drama, Family, Fantasy' 'Drama, Mystery, War'\n",
      " 'Adventure, Comedy, Drama, Romance' 'Family, Music, Romance'\n",
      " 'Animation, Comedy, Drama, Family' 'Animation, Comedy, Drama, War'\n",
      " 'Action, Adventure, Drama, Romance, Thriller, War'\n",
      " 'Comedy, Drama, Family, Science Fiction'\n",
      " 'Action, Mystery, Romance, Thriller' 'Adventure, Drama, Fantasy'\n",
      " 'Adventure, Animation, Comedy, Family, Western'\n",
      " 'Action, Adventure, Mystery, Science Fiction, Thriller'\n",
      " 'Action, Animation, Comedy, Family' 'War'\n",
      " 'Action, Adventure, Comedy, Drama, Western'\n",
      " 'Drama, Fantasy, Science Fiction, Thriller'\n",
      " 'Action, Adventure, Animation, Fantasy, Science Fiction'\n",
      " 'Action, Drama, Fantasy, Thriller, Western' 'Animation, Fantasy, Mystery'\n",
      " 'Action, Crime, Fantasy, Science Fiction, Thriller'\n",
      " 'Drama, Family, Fantasy, Science Fiction' 'Adventure, Fantasy, Romance'\n",
      " 'Adventure, Fantasy, Mystery, Thriller'\n",
      " 'Action, Comedy, Drama, Music, Western'\n",
      " 'Action, Adventure, Animation, Fantasy' 'Action, Drama, Fantasy, Horror'\n",
      " 'Drama, Horror, Music' 'Action, Animation, Family, Science Fiction'\n",
      " 'Action, Adventure, Romance'\n",
      " 'Animation, Drama, Mystery, Science Fiction, Thriller'\n",
      " 'Action, Adventure, Crime, Mystery, Thriller'\n",
      " 'Drama, Family, Fantasy, Romance' 'Horror, Music' 'Adventure, War'\n",
      " 'Action, Adventure, History, Horror' 'Drama, Romance, Science Fiction'\n",
      " 'Action, Animation, Comedy, Family, Science Fiction'\n",
      " 'Action, Adventure, Comedy, Family, Fantasy, Science Fiction'\n",
      " 'Animation, Fantasy, Music, Romance'\n",
      " 'Action, Adventure, Animation, Fantasy, Science Fiction, Thriller'\n",
      " 'Adventure, Drama, War' 'Mystery, Romance, Science Fiction, Thriller'\n",
      " 'Adventure, Animation, Comedy, Family, Science Fiction'\n",
      " 'Animation, Comedy, Crime, Family, Fantasy'\n",
      " 'Action, Adventure, Animation, Comedy, Family, Fantasy, Science Fiction, Thriller'\n",
      " 'History, War, Western' 'Comedy, Family, Fantasy, Romance'\n",
      " 'Action, Comedy, Drama, Family'\n",
      " 'Action, Adventure, Comedy, Family, Science Fiction'\n",
      " 'Crime, Drama, Fantasy, Mystery, Thriller' 'Drama, History, Mystery'\n",
      " 'Action, Comedy, Crime, Drama, Fantasy, Science Fiction'\n",
      " 'Adventure, Drama, Fantasy, Romance, Science Fiction'\n",
      " 'Drama, Fantasy, Romance, Thriller'\n",
      " 'Action, Adventure, Drama, Science Fiction, Thriller'\n",
      " 'Foreign, Horror, Mystery' 'Romance, Thriller, Western'\n",
      " 'Action, Crime, Horror, Romance, Science Fiction'\n",
      " 'Adventure, Science Fiction, Thriller'\n",
      " 'Documentary, Drama, Science Fiction'\n",
      " 'Comedy, Drama, Romance, Science Fiction'\n",
      " 'Adventure, Drama, History, Romance'\n",
      " 'Adventure, Family, Fantasy, Romance' 'Drama, Mystery, Thriller, War'\n",
      " 'Action, Drama, Fantasy, Horror, Science Fiction, Thriller'\n",
      " 'Adventure, Animation, Family, Fantasy, Romance'\n",
      " 'Action, Adventure, Crime, Fantasy, Science Fiction'\n",
      " 'Action, Adventure, Crime, Drama, Romance'\n",
      " 'Action, Drama, Music, Romance'\n",
      " 'Action, Adventure, Crime, Science Fiction, Thriller'\n",
      " 'Adventure, Animation, Comedy, Family, Fantasy, Music'\n",
      " 'Comedy, Music, War' 'Action, Adventure, Comedy, Western'\n",
      " 'Action, Crime, Drama, Foreign' 'Fantasy'\n",
      " 'Adventure, Comedy, Crime, Thriller' 'Comedy, Mystery, Romance, Thriller'\n",
      " 'Action, Comedy, Foreign' 'Action, Comedy, Western'\n",
      " 'Action, Comedy, Crime, Mystery'\n",
      " 'Adventure, Family, Fantasy, Science Fiction'\n",
      " 'Adventure, Drama, History, War' 'Comedy, Drama, Romance, Thriller'\n",
      " 'Action, Comedy, War'\n",
      " 'Action, Adventure, Comedy, Science Fiction, Western'\n",
      " 'Drama, Fantasy, Horror, Science Fiction, Thriller'\n",
      " 'Romance, Science Fiction, Thriller' 'Drama, Foreign, History'\n",
      " 'Fantasy, Horror, Science Fiction, Thriller'\n",
      " 'Animation, Family, Music, Romance'\n",
      " 'Action, Adventure, Comedy, Family, Thriller'\n",
      " 'Drama, Fantasy, Horror, Mystery, Science Fiction, Thriller'\n",
      " 'Adventure, Comedy, Horror' 'Drama, Horror, Romance'\n",
      " 'Drama, History, Romance, War' 'Action, Drama, Fantasy'\n",
      " 'Adventure, Animation, Comedy, Drama'\n",
      " 'Action, Animation, Horror, Science Fiction'\n",
      " 'Drama, History, Thriller, War' 'Adventure, Drama, Romance, Thriller'\n",
      " 'Adventure, Drama, Romance, Western'\n",
      " 'Action, Horror, Mystery, Science Fiction, Thriller'\n",
      " 'Action, Fantasy, Horror, Mystery'\n",
      " 'Action, Comedy, Drama, Fantasy, Science Fiction'\n",
      " 'Action, Horror, Mystery' 'Action, Adventure, Animation, Comedy, Fantasy'\n",
      " 'Action, Drama, Family' 'Family, Fantasy, Science Fiction'\n",
      " 'Adventure, Animation, Fantasy, Romance'\n",
      " 'Adventure, Animation, Comedy, Fantasy' 'Comedy, Crime, Drama, War'\n",
      " 'Comedy, Thriller' 'Adventure, Comedy, Mystery'\n",
      " 'Action, Drama, Romance, Thriller, War' 'Crime, Romance, Thriller'\n",
      " 'Comedy, Drama, Family, History' 'Romance, Science Fiction'\n",
      " 'Action, Adventure, Crime, Drama, Thriller, Western'\n",
      " 'Action, Comedy, Crime, Drama'\n",
      " 'Action, Adventure, Animation, Comedy, Family'\n",
      " 'Action, Comedy, Horror, Science Fiction, Thriller'\n",
      " 'Action, Comedy, Music, Romance, Western'\n",
      " 'Adventure, Comedy, Drama, Fantasy, Romance'\n",
      " 'Adventure, Comedy, Drama, Family, Romance'\n",
      " 'Action, Adventure, Horror, Thriller'\n",
      " 'Comedy, Drama, Fantasy, Horror, Mystery' 'Adventure, Animation'\n",
      " 'Action, Comedy, Drama, Thriller' 'Action, Crime, Drama, Thriller, War'\n",
      " 'Action, Foreign, Thriller' 'Animation, Drama, Fantasy, Science Fiction'\n",
      " 'Animation, Family, Fantasy, Romance'\n",
      " 'Animation, Family, Fantasy, Music, Romance'\n",
      " 'Drama, Foreign, Music, Romance'\n",
      " 'Crime, Drama, Mystery, Romance, Thriller, War'\n",
      " 'Action, Crime, Drama, Science Fiction, Thriller' 'Animation, Fantasy'\n",
      " 'Drama, Family, Fantasy, Mystery' 'Action, Crime, Mystery'\n",
      " 'Horror, Romance, Science Fiction' 'History'\n",
      " 'Comedy, Crime, Drama, Music, Romance'\n",
      " 'Action, Adventure, Comedy, Fantasy, Thriller'\n",
      " 'Animation, Comedy, Drama, Fantasy' 'Action, Adventure, Crime, Mystery'\n",
      " 'Adventure, Comedy, Fantasy' 'Action, Adventure, Crime, Drama, Western'\n",
      " 'Crime, Drama, History, Romance' 'Adventure, Drama, Music, Romance'\n",
      " 'Comedy, Crime, Drama, Mystery, Romance' 'History, Western'\n",
      " 'Adventure, Comedy, Family, Romance' 'Drama, History, Western'\n",
      " 'Drama, Fantasy, History, Mystery'\n",
      " 'Action, Adventure, Family, Science Fiction'\n",
      " 'Drama, Fantasy, Horror, Science Fiction'\n",
      " 'Adventure, Drama, History, Thriller, War' 'Crime, Drama, Fantasy'\n",
      " 'Comedy, Fantasy, Horror, Science Fiction'\n",
      " 'Action, Comedy, Crime, Drama, Music'\n",
      " 'Action, Adventure, Drama, Horror, Thriller' 'Comedy, Family, Music'\n",
      " 'Action, Animation, Comedy, Family, Fantasy' 'Comedy, Romance, War'\n",
      " 'Mystery, Romance, Thriller'\n",
      " 'Adventure, Family, Fantasy, Romance, Science Fiction'\n",
      " 'Action, Fantasy, Science Fiction, Thriller'\n",
      " 'Drama, Fantasy, Mystery, Romance' 'Adventure, Comedy, Crime, Family'\n",
      " 'Adventure, Animation, Comedy'\n",
      " 'Action, Adventure, Drama, Science Fiction' 'Adventure, Animation, Drama'\n",
      " 'Comedy, Horror, Science Fiction, Thriller'\n",
      " 'Crime, Drama, Thriller, Western' 'Action, Mystery, Science Fiction'\n",
      " 'Comedy, Horror, Romance, Science Fiction' 'Fantasy, Horror, Mystery'\n",
      " 'Adventure, History, Western' 'Action, Adventure, Family, Fantasy'\n",
      " 'Adventure, Family, Fantasy, Mystery' 'Action, Adventure, History, War'\n",
      " 'Comedy, Fantasy, Music' 'Adventure, Drama, Romance, Science Fiction'\n",
      " 'Action, Adventure, Comedy, Crime, Mystery, Thriller'\n",
      " 'Drama, Mystery, Romance, Science Fiction, Thriller'\n",
      " 'Animation, Family, Fantasy, Music' 'Action, Comedy, Crime, Western'\n",
      " 'Adventure, Fantasy, Mystery' 'Action, Drama, Fantasy, Horror, Thriller'\n",
      " 'Adventure, Horror, Science Fiction, Thriller'\n",
      " 'Action, Crime, Thriller, Western'\n",
      " 'Drama, Music, Mystery, Romance, Thriller'\n",
      " 'Animation, Comedy, Family, Fantasy, Science Fiction'\n",
      " 'Comedy, Crime, Drama, Science Fiction' 'Music, Romance, War'\n",
      " 'Action, Comedy, Crime, Science Fiction, Thriller'\n",
      " 'Action, Drama, Family, Romance, Western'\n",
      " 'Action, Adventure, Fantasy, Romance' 'Action, Music, Thriller'\n",
      " 'Action, Drama, Horror, Thriller'\n",
      " 'Action, Comedy, Crime, Drama, Mystery, Romance'\n",
      " 'Action, Adventure, Mystery, Science Fiction'\n",
      " 'Crime, Drama, Horror, Mystery, Science Fiction, Thriller'\n",
      " 'Adventure, Comedy, Family, Fantasy, Music, Romance'\n",
      " 'Action, Crime, Drama, Romance' 'Action, Adventure, Animation'\n",
      " 'Action, Adventure, Animation, Comedy' 'Action, Drama, Foreign'\n",
      " 'Action, Comedy, Family, Thriller'\n",
      " 'Adventure, Animation, Crime, Family, Fantasy'\n",
      " 'Adventure, Animation, Comedy, Family, Music'\n",
      " 'Adventure, Animation, Romance' 'Comedy, Drama, Fantasy, Music, Romance'\n",
      " 'Comedy, Drama, Horror' 'Action, Crime, Drama, Romance, Western'\n",
      " 'Comedy, Crime, Science Fiction, Thriller'\n",
      " 'Comedy, Drama, Music, Western' 'Drama, Music, Romance, Thriller'\n",
      " 'Adventure, Comedy, Crime, Science Fiction'\n",
      " 'Comedy, Mystery, Science Fiction'\n",
      " 'Action, Fantasy, Horror, Science Fiction, Western'\n",
      " 'Comedy, Crime, Science Fiction' 'Action, Adventure, Comedy, Foreign'\n",
      " 'Crime, Drama, Family' 'Animation, Comedy, Drama, Family, Music'\n",
      " 'Adventure, Fantasy, Horror' 'Adventure, Crime, Drama, Mystery, Thriller'\n",
      " 'Action, Adventure, Animation, Drama, Fantasy, Science Fiction'\n",
      " 'Adventure, Mystery, Thriller' 'Fantasy, Romance, Thriller'\n",
      " 'Drama, Horror, Romance, Science Fiction' 'Adventure, History, War'\n",
      " 'Adventure, Animation, Drama, Family, Fantasy'\n",
      " 'Comedy, Science Fiction, Thriller'\n",
      " 'Action, Drama, Horror, Science Fiction'\n",
      " 'Action, Comedy, Drama, Music, Romance'\n",
      " 'Action, Animation, Drama, Science Fiction, Thriller'\n",
      " 'Drama, Fantasy, War' 'Adventure, Comedy, Drama, Mystery, Romance'\n",
      " 'Action, Family, Fantasy, Science Fiction' 'Action, Animation'\n",
      " 'Action, Adventure, Drama, Horror' 'Action, Crime, Horror'\n",
      " 'Drama, History, Music, Romance, War' 'History, Romance'\n",
      " 'Adventure, Drama, Horror, Thriller'\n",
      " 'Action, Comedy, Crime, Family, Thriller'\n",
      " 'Drama, Fantasy, Horror, Mystery, Thriller'\n",
      " 'Action, Adventure, Comedy, Mystery' 'Drama, Music, Mystery, Romance'\n",
      " 'Drama, Mystery, Romance, Thriller, War' 'Drama, Romance, War, Western'\n",
      " 'Action, Adventure, Crime, Drama, Romance, Thriller'\n",
      " 'Adventure, Crime, Drama, Thriller' 'Adventure, Comedy, War']  \n",
      "\n",
      "\n",
      "top_countries has 320 unique values \n",
      " ['United States of America' 'India' 'Canada, United States of America'\n",
      " 'other countries' 'United Kingdom' 'Germany, United Kingdom' 'France'\n",
      " 'New Zealand' 'Japan, United States of America' 'Canada, Ireland'\n",
      " 'France, Germany, Italy, United States of America'\n",
      " 'Canada, Japan, New Zealand, United States of America'\n",
      " 'Ireland, United Kingdom, United States of America' 'Italy' 'Belgium'\n",
      " 'France, Germany' 'United Kingdom, United States of America'\n",
      " 'Czech Republic, Germany, Italy, United Kingdom, United States of America'\n",
      " 'China, France, Japan' 'Germany, United States of America'\n",
      " 'France, Germany, United Kingdom, United States of America'\n",
      " 'Germany, United Kingdom, United States of America'\n",
      " 'France, United States of America' 'Hong Kong'\n",
      " 'Czech Republic, United Kingdom, United States of America'\n",
      " 'New Zealand, United States of America' 'China' 'Australia, Hong Kong'\n",
      " 'Australia, China, Germany' 'Canada' 'Australia'\n",
      " 'Czech Republic, France, South Korea, United States of America'\n",
      " 'South Africa, United States of America'\n",
      " 'Australia, Canada, United States of America' 'Australia, United Kingdom'\n",
      " 'Switzerland, United States of America' 'Ireland, United Kingdom'\n",
      " 'Japan, United Kingdom'\n",
      " 'Canada, United Kingdom, United States of America'\n",
      " 'France, Netherlands, United Kingdom, United States of America' 'Japan'\n",
      " 'China, Hong Kong'\n",
      " 'Australia, France, United Kingdom, United States of America'\n",
      " 'Germany, Ireland, United Kingdom, United States of America'\n",
      " 'France, United Kingdom' 'India, United States of America'\n",
      " 'Australia, United States of America' 'Ireland, United States of America'\n",
      " 'Russia' 'Italy, United States of America'\n",
      " 'Canada, France, United States of America' 'Canada, France'\n",
      " 'Denmark, Sweden, United States of America'\n",
      " 'Canada, Hong Kong, United States of America'\n",
      " 'Russia, United States of America' 'Hong Kong, United States of America'\n",
      " 'Canada, Germany, United States of America'\n",
      " 'Germany, Spain, United Kingdom, United States of America'\n",
      " 'New Zealand, United Kingdom, United States of America' 'Belgium, France'\n",
      " 'Canada, United Kingdom' 'Spain, United States of America'\n",
      " 'Mexico, United States of America' 'Belgium, Canada, France'\n",
      " 'Czech Republic, Germany, United Kingdom, United States of America'\n",
      " 'Denmark, Ireland, United Kingdom' 'Netherlands' 'Australia, France'\n",
      " 'France, Italy' 'Australia, United Kingdom, United States of America'\n",
      " 'Mexico, South Africa, United States of America'\n",
      " 'France, Ireland, United Kingdom, United States of America'\n",
      " 'France, United Kingdom, United States of America'\n",
      " 'Australia, Canada, France, Germany' 'South Korea'\n",
      " 'France, Germany, Sweden' 'Spain' 'Canada, France, Germany, Italy'\n",
      " 'Australia, Germany' 'Denmark, France, Germany, Italy, Sweden'\n",
      " 'Germany, Italy' 'France, Germany, Switzerland, United Kingdom' 'Germany'\n",
      " 'France, Norway' 'China, Germany, United States of America'\n",
      " 'Australia, Canada, China, Hong Kong, United States of America'\n",
      " 'Belgium, France, Germany, Mexico, Netherlands'\n",
      " 'France, Ireland, Netherlands, United Kingdom, United States of America'\n",
      " 'South Africa' 'Ireland' 'Czech Republic, Germany, United Kingdom'\n",
      " 'Canada, Spain' 'China, Hong Kong, United States of America'\n",
      " 'Czech Republic, France, United Kingdom'\n",
      " 'France, Italy, United Kingdom, United States of America'\n",
      " 'Spain, United Kingdom, United States of America'\n",
      " 'Italy, Spain, United States of America' 'France, Spain'\n",
      " 'France, India, United States of America'\n",
      " 'Belgium, Denmark, South Africa, Sweden, United Kingdom'\n",
      " 'France, Germany, India' 'China, United States of America'\n",
      " 'Italy, United Kingdom' 'China, France, Italy, United Kingdom' 'Norway'\n",
      " 'Belgium, France, Italy' 'Italy, Spain' 'Norway, Russia, Sweden'\n",
      " 'Canada, China, United Kingdom, United States of America'\n",
      " 'France, Germany, Japan, United Kingdom, United States of America'\n",
      " 'Canada, France, United Kingdom'\n",
      " 'Italy, Spain, United Kingdom, United States of America'\n",
      " 'Germany, South Africa, United States of America'\n",
      " 'France, Spain, United Kingdom, United States of America'\n",
      " 'Czech Republic, United States of America' 'Mexico' 'France, Japan'\n",
      " 'Germany, Netherlands, United States of America'\n",
      " 'Australia, France, New Zealand, United Kingdom, United States of America'\n",
      " 'Denmark' 'Belgium, Netherlands' 'Ireland, Japan, United Kingdom'\n",
      " 'Canada, France, Germany, United States of America'\n",
      " 'Denmark, France, Germany, Norway, United States of America'\n",
      " 'Canada, New Zealand, South Africa, United States of America'\n",
      " 'Australia, Hong Kong, Russia, United States of America'\n",
      " 'Netherlands, United States of America'\n",
      " 'Germany, Russia, United Kingdom, United States of America'\n",
      " 'Czech Republic, United Kingdom'\n",
      " 'Belgium, Germany, Sweden, United Kingdom, United States of America'\n",
      " 'Denmark, France, United Kingdom'\n",
      " 'Germany, Japan, United States of America'\n",
      " 'France, Italy, Switzerland, United Kingdom' 'Denmark, Germany, Sweden'\n",
      " 'Sweden' 'France, Spain, United States of America'\n",
      " 'France, Japan, United Kingdom, United States of America'\n",
      " 'India, Switzerland' 'Canada, Russia, United States of America'\n",
      " 'Mexico, Spain' 'Switzerland, United Kingdom, United States of America'\n",
      " 'Belgium, Germany, United Kingdom, United States of America'\n",
      " 'Czech Republic, France' 'Belgium, France, United Kingdom'\n",
      " 'Germany, New Zealand, United States of America'\n",
      " 'Germany, Japan, United Kingdom, United States of America'\n",
      " 'France, Germany, Spain, United Kingdom, United States of America'\n",
      " 'Belgium, United States of America' 'Denmark, United Kingdom'\n",
      " 'France, Germany, United States of America'\n",
      " 'France, Italy, United Kingdom' 'India, United Kingdom'\n",
      " 'New Zealand, South Korea'\n",
      " 'France, South Africa, United Kingdom, United States of America'\n",
      " 'Germany, India, United Kingdom, United States of America'\n",
      " 'France, Ireland, Netherlands, United Kingdom'\n",
      " 'Netherlands, United Kingdom' 'Canada, Mexico, United States of America'\n",
      " 'Ireland, Russia, United Kingdom, United States of America'\n",
      " 'China, France, Hong Kong' 'France, Switzerland'\n",
      " 'Belgium, France, Germany'\n",
      " 'Italy, United Kingdom, United States of America'\n",
      " 'China, Germany, United Kingdom, United States of America'\n",
      " 'Australia, Germany, United States of America'\n",
      " 'France, Germany, Switzerland' 'Belgium, France, Germany, Italy, Spain'\n",
      " 'Italy, Russia' 'China, Germany, United Kingdom'\n",
      " 'France, Germany, United Kingdom'\n",
      " 'Germany, Hong Kong, United States of America'\n",
      " 'France, Sweden, United Kingdom'\n",
      " 'Belgium, Germany, United States of America'\n",
      " 'Australia, France, New Zealand'\n",
      " 'Canada, France, Germany, Norway, Sweden' 'Germany, Sweden'\n",
      " 'France, India, Italy' 'Canada, Germany, South Africa, United Kingdom'\n",
      " 'Germany, India, United States of America' 'France, Russia'\n",
      " 'Canada, Italy, United States of America' 'Denmark, Sweden'\n",
      " 'China, United Kingdom, United States of America'\n",
      " 'Sweden, United States of America'\n",
      " 'Canada, China, United States of America'\n",
      " 'France, Netherlands, United States of America'\n",
      " 'Australia, India, United Kingdom, United States of America'\n",
      " 'Canada, India, Japan, United States of America'\n",
      " 'Canada, Germany, Switzerland, United Kingdom'\n",
      " 'Canada, Sweden, United Kingdom' 'Belgium, United Kingdom'\n",
      " 'Spain, United Kingdom'\n",
      " 'France, Germany, Italy, Japan, Spain, United States of America'\n",
      " 'France, Italy, Spain' 'Czech Republic, Russia'\n",
      " 'Belgium, United Kingdom, United States of America'\n",
      " 'France, Germany, Italy, United Kingdom, United States of America'\n",
      " 'France, Japan, United States of America'\n",
      " 'Hong Kong, Japan, United States of America'\n",
      " 'Canada, Japan, United States of America' 'Canada, Italy'\n",
      " 'Germany, Italy, Spain'\n",
      " 'Australia, Japan, United Kingdom, United States of America'\n",
      " 'France, Germany, Spain' 'China, France'\n",
      " 'Australia, France, United States of America'\n",
      " 'Netherlands, United Kingdom, United States of America'\n",
      " 'China, Hong Kong, United Kingdom'\n",
      " 'France, Italy, United States of America' 'France, Norway, Sweden'\n",
      " 'Australia, India, Italy'\n",
      " 'Canada, France, Germany, United Kingdom, United States of America'\n",
      " 'Norway, United Kingdom' 'Canada, China, Japan, United States of America'\n",
      " 'Canada, Czech Republic, Germany, United Kingdom, United States of America'\n",
      " 'Hong Kong, South Korea' 'Canada, Japan' 'New Zealand, United Kingdom'\n",
      " 'Japan, South Korea' 'France, Netherlands, United Kingdom'\n",
      " 'Australia, Canada, China, Hong Kong, India, Japan, New Zealand, United Kingdom, United States of America'\n",
      " 'Belgium, Netherlands, United Kingdom, United States of America'\n",
      " 'Denmark, France, Germany, Italy, Netherlands, Sweden'\n",
      " 'Japan, United Kingdom, United States of America'\n",
      " 'Belgium, France, Spain'\n",
      " 'New Zealand, Switzerland, United States of America'\n",
      " 'France, Japan, Mexico, United States of America' 'Germany, South Korea'\n",
      " 'Canada, Germany, United Kingdom, United States of America'\n",
      " 'Belgium, France, Italy, United Kingdom' 'Canada, Germany'\n",
      " 'Germany, Switzerland' 'Belgium, Canada, France, United Kingdom'\n",
      " 'Australia, Canada, United Kingdom, United States of America'\n",
      " 'Australia, Canada, New Zealand, United Kingdom, United States of America'\n",
      " 'South Korea, United Kingdom'\n",
      " 'Russia, United Kingdom, United States of America'\n",
      " 'India, South Africa, United Kingdom, United States of America'\n",
      " 'Germany, Italy, Spain, United Kingdom'\n",
      " 'France, Germany, Mexico, United Kingdom, United States of America'\n",
      " 'Denmark, Germany, Sweden, United Kingdom'\n",
      " 'India, United Kingdom, United States of America'\n",
      " 'Belgium, Canada, France, Germany' 'Czech Republic, France, Germany'\n",
      " 'France, Mexico, United States of America'\n",
      " 'China, Japan, United States of America' 'Germany, Russia'\n",
      " 'Germany, Netherlands, United Kingdom'\n",
      " 'Denmark, France, Germany, Italy, Netherlands, Sweden, United Kingdom'\n",
      " 'Denmark, France, Germany, Italy, Netherlands, Norway, Sweden, United Kingdom, United States of America'\n",
      " 'Norway, Sweden, United States of America'\n",
      " 'Denmark, France, New Zealand, United Kingdom, United States of America'\n",
      " 'Czech Republic, France, United States of America'\n",
      " 'Germany, Italy, United States of America'\n",
      " 'Mexico, Spain, United States of America'\n",
      " 'Hong Kong, United Kingdom, United States of America'\n",
      " 'France, Netherlands' 'Germany, Italy, Spain, United States of America'\n",
      " 'Canada, Denmark, United Kingdom' 'France, Japan, Switzerland'\n",
      " 'Australia, France, United Kingdom'\n",
      " 'Canada, Italy, South Africa, United Kingdom, United States of America'\n",
      " 'Denmark, France, United States of America'\n",
      " 'Denmark, United States of America' 'Australia, Germany, United Kingdom'\n",
      " 'Germany, Spain, United Kingdom' 'France, Germany, Netherlands'\n",
      " 'Ireland, South Africa, United Kingdom' 'Canada, France, Italy'\n",
      " 'Germany, Japan, New Zealand, United Kingdom, United States of America'\n",
      " 'Germany, Italy, United Kingdom, United States of America'\n",
      " 'Czech Republic, Denmark, Germany, Sweden' 'Germany, Norway'\n",
      " 'Australia, France, Germany, United Kingdom, United States of America'\n",
      " 'France, Germany, Italy' 'Belgium, Czech Republic, France'\n",
      " 'Canada, Italy, United Kingdom'\n",
      " 'Australia, Mexico, United States of America'\n",
      " 'Belgium, Denmark, Germany, United Kingdom, United States of America'\n",
      " 'Belgium, Denmark, France, Germany, United Kingdom'\n",
      " 'France, Spain, United Kingdom' 'Denmark, France, Germany, Sweden'\n",
      " 'Japan, New Zealand, United States of America'\n",
      " 'Germany, Sweden, United States of America'\n",
      " 'France, Hong Kong, United Kingdom, United States of America'\n",
      " 'Denmark, France, Sweden, United States of America'\n",
      " 'France, Germany, Italy, Netherlands, United Kingdom, United States of America'\n",
      " 'Belgium, France, Germany, Ireland, Italy, Spain, Switzerland, United Kingdom'\n",
      " 'Belgium, China, France'\n",
      " 'Denmark, France, Germany, Italy, Netherlands, Norway, Sweden, United Kingdom'\n",
      " 'Italy, Japan, United States of America' 'France, Sweden'\n",
      " 'Germany, Ireland, United Kingdom'\n",
      " 'Belgium, France, Netherlands, Switzerland'\n",
      " 'Germany, India, Japan, United Kingdom, United States of America'\n",
      " 'France, India, United Kingdom' 'Germany, South Africa'\n",
      " 'China, Hong Kong, Japan' 'Belgium, France, Sweden, United Kingdom'\n",
      " 'Denmark, Spain' 'Belgium, Denmark, France, Ireland'\n",
      " 'Canada, Germany, United Kingdom'\n",
      " 'Czech Republic, France, Italy, United Kingdom'\n",
      " 'South Africa, United Kingdom' 'Norway, Sweden' 'Canada, India'\n",
      " 'France, Germany, Ireland, United Kingdom, United States of America'\n",
      " 'Italy, Mexico, United States of America'\n",
      " 'Belgium, Spain, United Kingdom'\n",
      " 'China, France, Germany, Hong Kong, Italy'\n",
      " 'Belgium, France, Germany, Japan, Norway, United Kingdom, United States of America'\n",
      " 'Denmark, France, Netherlands, Norway, Sweden' 'France, Ireland, Italy'\n",
      " 'China, India' 'Czech Republic, Germany, United States of America'\n",
      " 'Germany, Netherlands, United Kingdom, United States of America'\n",
      " 'Canada, France, Japan, United States of America'\n",
      " 'France, Ireland, United Kingdom' 'Australia, Canada'\n",
      " 'Germany, South Africa, United Kingdom, United States of America']  \n",
      "\n",
      "\n",
      "number_of_top_productions has 5 unique values \n",
      " [3 1 0 2 4]  \n",
      "\n",
      "\n",
      "available_in_english has 2 unique values \n",
      " [ True False]  \n",
      "\n",
      "\n"
     ]
    }
   ],
   "source": [
    "for col in X.columns:\n",
    "    print(f'{col} has {X[col].nunique()} unique values \\n {X[col].unique()}  \\n\\n')"
   ]
  },
  {
   "cell_type": "markdown",
   "metadata": {},
   "source": [
    "In this baseline, let's forget about the columns below that are difficult to process"
   ]
  },
  {
   "cell_type": "code",
   "execution_count": 19,
   "metadata": {
    "ExecuteTime": {
     "end_time": "2021-06-30T11:27:59.136258Z",
     "start_time": "2021-06-30T11:27:59.131648Z"
    }
   },
   "outputs": [],
   "source": [
    "text = ['description', 'original_title', 'title']\n",
    "dates = ['release_date'] "
   ]
  },
  {
   "cell_type": "markdown",
   "metadata": {},
   "source": [
    "We will simply scale the numerical features and one-hot-encode the categorical ones remaining\n",
    "\n",
    "📝 **Prepare 2 `list`s of features names as `str`**:\n",
    "- `numerical` which contains **only** numerical features\n",
    "- `categorical` which contains **only** categorical features (exept text and dates above)"
   ]
  },
  {
   "cell_type": "code",
   "execution_count": 20,
   "metadata": {
    "ExecuteTime": {
     "end_time": "2021-06-30T11:27:59.152095Z",
     "start_time": "2021-06-30T11:27:59.138952Z"
    }
   },
   "outputs": [
    {
     "data": {
      "text/plain": [
       "Index(['original_title', 'title', 'release_date', 'duration_min',\n",
       "       'description', 'budget', 'original_language', 'status',\n",
       "       'number_of_awards_won', 'number_of_nominations', 'has_collection',\n",
       "       'all_genres', 'top_countries', 'number_of_top_productions',\n",
       "       'available_in_english'],\n",
       "      dtype='object')"
      ]
     },
     "execution_count": 20,
     "metadata": {},
     "output_type": "execute_result"
    }
   ],
   "source": [
    "X.columns"
   ]
  },
  {
   "cell_type": "code",
   "execution_count": 21,
   "metadata": {
    "ExecuteTime": {
     "end_time": "2021-06-30T11:27:59.174140Z",
     "start_time": "2021-06-30T11:27:59.161774Z"
    },
    "tags": [
     "challengify"
    ]
   },
   "outputs": [
    {
     "data": {
      "text/plain": [
       "duration_min                 float64\n",
       "budget                         int64\n",
       "original_language             object\n",
       "status                        object\n",
       "number_of_awards_won           int64\n",
       "number_of_nominations          int64\n",
       "has_collection                 int64\n",
       "all_genres                    object\n",
       "top_countries                 object\n",
       "number_of_top_productions      int64\n",
       "available_in_english            bool\n",
       "dtype: object"
      ]
     },
     "execution_count": 21,
     "metadata": {},
     "output_type": "execute_result"
    }
   ],
   "source": [
    "X_baseline = X.drop(columns=['description', 'original_title', 'title', 'release_date'])\n",
    "X_baseline.dtypes"
   ]
  },
  {
   "cell_type": "code",
   "execution_count": 22,
   "metadata": {
    "ExecuteTime": {
     "end_time": "2021-06-30T11:27:59.184016Z",
     "start_time": "2021-06-30T11:27:59.179932Z"
    }
   },
   "outputs": [
    {
     "name": "stdout",
     "output_type": "stream",
     "text": [
      "11\n"
     ]
    }
   ],
   "source": [
    "numerical   = ['duration_min', 'budget', 'number_of_awards_won', 'number_of_nominations', \\\n",
    "               'number_of_top_productions']\n",
    "categorical = ['original_language','status', 'has_collection', 'available_in_english', 'all_genres',\\\n",
    "               'available_in_english']\n",
    "\n",
    "print(len(numerical + categorical))\n",
    "assert len(numerical + categorical) == len(X_baseline.columns)"
   ]
  },
  {
   "cell_type": "code",
   "execution_count": 23,
   "metadata": {
    "ExecuteTime": {
     "end_time": "2021-06-30T11:27:59.215615Z",
     "start_time": "2021-06-30T11:27:59.186640Z"
    }
   },
   "outputs": [
    {
     "data": {
      "text/html": [
       "<div>\n",
       "<style scoped>\n",
       "    .dataframe tbody tr th:only-of-type {\n",
       "        vertical-align: middle;\n",
       "    }\n",
       "\n",
       "    .dataframe tbody tr th {\n",
       "        vertical-align: top;\n",
       "    }\n",
       "\n",
       "    .dataframe thead th {\n",
       "        text-align: right;\n",
       "    }\n",
       "</style>\n",
       "<table border=\"1\" class=\"dataframe\">\n",
       "  <thead>\n",
       "    <tr style=\"text-align: right;\">\n",
       "      <th></th>\n",
       "      <th>duration_min</th>\n",
       "      <th>budget</th>\n",
       "      <th>original_language</th>\n",
       "      <th>status</th>\n",
       "      <th>number_of_awards_won</th>\n",
       "      <th>number_of_nominations</th>\n",
       "      <th>has_collection</th>\n",
       "      <th>all_genres</th>\n",
       "      <th>top_countries</th>\n",
       "      <th>number_of_top_productions</th>\n",
       "      <th>available_in_english</th>\n",
       "    </tr>\n",
       "  </thead>\n",
       "  <tbody>\n",
       "    <tr>\n",
       "      <th>0</th>\n",
       "      <td>93.0</td>\n",
       "      <td>14000000</td>\n",
       "      <td>en</td>\n",
       "      <td>Released</td>\n",
       "      <td>0</td>\n",
       "      <td>2</td>\n",
       "      <td>1</td>\n",
       "      <td>Comedy</td>\n",
       "      <td>United States of America</td>\n",
       "      <td>3</td>\n",
       "      <td>True</td>\n",
       "    </tr>\n",
       "    <tr>\n",
       "      <th>1</th>\n",
       "      <td>113.0</td>\n",
       "      <td>40000000</td>\n",
       "      <td>en</td>\n",
       "      <td>Released</td>\n",
       "      <td>1</td>\n",
       "      <td>2</td>\n",
       "      <td>1</td>\n",
       "      <td>Comedy, Drama, Family, Romance</td>\n",
       "      <td>United States of America</td>\n",
       "      <td>1</td>\n",
       "      <td>True</td>\n",
       "    </tr>\n",
       "    <tr>\n",
       "      <th>2</th>\n",
       "      <td>105.0</td>\n",
       "      <td>3300000</td>\n",
       "      <td>en</td>\n",
       "      <td>Released</td>\n",
       "      <td>97</td>\n",
       "      <td>145</td>\n",
       "      <td>0</td>\n",
       "      <td>Drama</td>\n",
       "      <td>United States of America</td>\n",
       "      <td>0</td>\n",
       "      <td>True</td>\n",
       "    </tr>\n",
       "    <tr>\n",
       "      <th>3</th>\n",
       "      <td>122.0</td>\n",
       "      <td>1200000</td>\n",
       "      <td>hi</td>\n",
       "      <td>Released</td>\n",
       "      <td>23</td>\n",
       "      <td>18</td>\n",
       "      <td>0</td>\n",
       "      <td>Drama, Thriller</td>\n",
       "      <td>India</td>\n",
       "      <td>0</td>\n",
       "      <td>True</td>\n",
       "    </tr>\n",
       "    <tr>\n",
       "      <th>4</th>\n",
       "      <td>92.0</td>\n",
       "      <td>14000000</td>\n",
       "      <td>en</td>\n",
       "      <td>Released</td>\n",
       "      <td>0</td>\n",
       "      <td>6</td>\n",
       "      <td>0</td>\n",
       "      <td>Horror, Thriller</td>\n",
       "      <td>Canada, United States of America</td>\n",
       "      <td>0</td>\n",
       "      <td>True</td>\n",
       "    </tr>\n",
       "    <tr>\n",
       "      <th>...</th>\n",
       "      <td>...</td>\n",
       "      <td>...</td>\n",
       "      <td>...</td>\n",
       "      <td>...</td>\n",
       "      <td>...</td>\n",
       "      <td>...</td>\n",
       "      <td>...</td>\n",
       "      <td>...</td>\n",
       "      <td>...</td>\n",
       "      <td>...</td>\n",
       "      <td>...</td>\n",
       "    </tr>\n",
       "    <tr>\n",
       "      <th>6459</th>\n",
       "      <td>118.0</td>\n",
       "      <td>42000000</td>\n",
       "      <td>en</td>\n",
       "      <td>Released</td>\n",
       "      <td>0</td>\n",
       "      <td>2</td>\n",
       "      <td>0</td>\n",
       "      <td>Thriller</td>\n",
       "      <td>France, United States of America</td>\n",
       "      <td>1</td>\n",
       "      <td>True</td>\n",
       "    </tr>\n",
       "    <tr>\n",
       "      <th>6460</th>\n",
       "      <td>95.0</td>\n",
       "      <td>19000000</td>\n",
       "      <td>en</td>\n",
       "      <td>Released</td>\n",
       "      <td>0</td>\n",
       "      <td>0</td>\n",
       "      <td>1</td>\n",
       "      <td>Action, Adventure, Comedy, Thriller</td>\n",
       "      <td>United States of America</td>\n",
       "      <td>1</td>\n",
       "      <td>True</td>\n",
       "    </tr>\n",
       "    <tr>\n",
       "      <th>6461</th>\n",
       "      <td>129.0</td>\n",
       "      <td>16000000</td>\n",
       "      <td>en</td>\n",
       "      <td>Released</td>\n",
       "      <td>3</td>\n",
       "      <td>14</td>\n",
       "      <td>0</td>\n",
       "      <td>Drama</td>\n",
       "      <td>United States of America</td>\n",
       "      <td>1</td>\n",
       "      <td>True</td>\n",
       "    </tr>\n",
       "    <tr>\n",
       "      <th>6462</th>\n",
       "      <td>100.0</td>\n",
       "      <td>2000000</td>\n",
       "      <td>en</td>\n",
       "      <td>Released</td>\n",
       "      <td>25</td>\n",
       "      <td>43</td>\n",
       "      <td>0</td>\n",
       "      <td>Horror, Thriller</td>\n",
       "      <td>United States of America</td>\n",
       "      <td>0</td>\n",
       "      <td>True</td>\n",
       "    </tr>\n",
       "    <tr>\n",
       "      <th>6463</th>\n",
       "      <td>85.0</td>\n",
       "      <td>64000</td>\n",
       "      <td>fr</td>\n",
       "      <td>Released</td>\n",
       "      <td>3</td>\n",
       "      <td>1</td>\n",
       "      <td>0</td>\n",
       "      <td>Drama</td>\n",
       "      <td>France</td>\n",
       "      <td>0</td>\n",
       "      <td>False</td>\n",
       "    </tr>\n",
       "  </tbody>\n",
       "</table>\n",
       "<p>6463 rows × 11 columns</p>\n",
       "</div>"
      ],
      "text/plain": [
       "      duration_min    budget original_language    status  \\\n",
       "0             93.0  14000000                en  Released   \n",
       "1            113.0  40000000                en  Released   \n",
       "2            105.0   3300000                en  Released   \n",
       "3            122.0   1200000                hi  Released   \n",
       "4             92.0  14000000                en  Released   \n",
       "...            ...       ...               ...       ...   \n",
       "6459         118.0  42000000                en  Released   \n",
       "6460          95.0  19000000                en  Released   \n",
       "6461         129.0  16000000                en  Released   \n",
       "6462         100.0   2000000                en  Released   \n",
       "6463          85.0     64000                fr  Released   \n",
       "\n",
       "      number_of_awards_won  number_of_nominations  has_collection  \\\n",
       "0                        0                      2               1   \n",
       "1                        1                      2               1   \n",
       "2                       97                    145               0   \n",
       "3                       23                     18               0   \n",
       "4                        0                      6               0   \n",
       "...                    ...                    ...             ...   \n",
       "6459                     0                      2               0   \n",
       "6460                     0                      0               1   \n",
       "6461                     3                     14               0   \n",
       "6462                    25                     43               0   \n",
       "6463                     3                      1               0   \n",
       "\n",
       "                               all_genres                     top_countries  \\\n",
       "0                                  Comedy          United States of America   \n",
       "1          Comedy, Drama, Family, Romance          United States of America   \n",
       "2                                   Drama          United States of America   \n",
       "3                         Drama, Thriller                             India   \n",
       "4                        Horror, Thriller  Canada, United States of America   \n",
       "...                                   ...                               ...   \n",
       "6459                             Thriller  France, United States of America   \n",
       "6460  Action, Adventure, Comedy, Thriller          United States of America   \n",
       "6461                                Drama          United States of America   \n",
       "6462                     Horror, Thriller          United States of America   \n",
       "6463                                Drama                            France   \n",
       "\n",
       "      number_of_top_productions  available_in_english  \n",
       "0                             3                  True  \n",
       "1                             1                  True  \n",
       "2                             0                  True  \n",
       "3                             0                  True  \n",
       "4                             0                  True  \n",
       "...                         ...                   ...  \n",
       "6459                          1                  True  \n",
       "6460                          1                  True  \n",
       "6461                          1                  True  \n",
       "6462                          0                  True  \n",
       "6463                          0                 False  \n",
       "\n",
       "[6463 rows x 11 columns]"
      ]
     },
     "execution_count": 23,
     "metadata": {},
     "output_type": "execute_result"
    }
   ],
   "source": [
    "X_baseline"
   ]
  },
  {
   "cell_type": "markdown",
   "metadata": {},
   "source": [
    "### Pipelining\n",
    "\n",
    "You are going to build a basic pipeline made of a basic preprocessing and a trees-based model of your choice."
   ]
  },
  {
   "cell_type": "markdown",
   "metadata": {},
   "source": [
    "#### Preprocessing pipeline\n",
    "\n",
    "**📝 Create a basic preprocessing pipeline for the 2 types of features above:**\n",
    "- It should scale the `numerical` features\n",
    "- one-hot-encode the `categorical` and `boolean` features\n",
    "- drop the others\n",
    "- Store your pipeline in a `basic_preprocessing` variable"
   ]
  },
  {
   "cell_type": "markdown",
   "metadata": {},
   "source": [
    "**📝 Encode the features and store the result in the variable `X_basic_preprocessing`.**"
   ]
  },
  {
   "cell_type": "code",
   "execution_count": 24,
   "metadata": {
    "ExecuteTime": {
     "end_time": "2021-06-30T11:27:59.225535Z",
     "start_time": "2021-06-30T11:27:59.219000Z"
    },
    "tags": [
     "challengify"
    ]
   },
   "outputs": [],
   "source": [
    "num_transformer = RobustScaler()\n",
    "cat_transformer = OneHotEncoder(handle_unknown='ignore')\n",
    "\n",
    "# Paralellize \"num_transformer\" and \"One hot encoder\"\n",
    "preprocessor = ColumnTransformer([\n",
    "    ('num_transformer', num_transformer, numerical),\n",
    "    ('cat_transformer', cat_transformer, categorical)])"
   ]
  },
  {
   "cell_type": "code",
   "execution_count": 25,
   "metadata": {
    "ExecuteTime": {
     "end_time": "2021-06-30T11:27:59.252349Z",
     "start_time": "2021-06-30T11:27:59.227973Z"
    }
   },
   "outputs": [
    {
     "name": "stdout",
     "output_type": "stream",
     "text": [
      "<class 'sklearn.pipeline.Pipeline'>\n"
     ]
    },
    {
     "data": {
      "text/html": [
       "<style>#sk-64b6213b-87ce-4ad1-b335-936708a79e85 {color: black;background-color: white;}#sk-64b6213b-87ce-4ad1-b335-936708a79e85 pre{padding: 0;}#sk-64b6213b-87ce-4ad1-b335-936708a79e85 div.sk-toggleable {background-color: white;}#sk-64b6213b-87ce-4ad1-b335-936708a79e85 label.sk-toggleable__label {cursor: pointer;display: block;width: 100%;margin-bottom: 0;padding: 0.2em 0.3em;box-sizing: border-box;text-align: center;}#sk-64b6213b-87ce-4ad1-b335-936708a79e85 div.sk-toggleable__content {max-height: 0;max-width: 0;overflow: hidden;text-align: left;background-color: #f0f8ff;}#sk-64b6213b-87ce-4ad1-b335-936708a79e85 div.sk-toggleable__content pre {margin: 0.2em;color: black;border-radius: 0.25em;background-color: #f0f8ff;}#sk-64b6213b-87ce-4ad1-b335-936708a79e85 input.sk-toggleable__control:checked~div.sk-toggleable__content {max-height: 200px;max-width: 100%;overflow: auto;}#sk-64b6213b-87ce-4ad1-b335-936708a79e85 div.sk-estimator input.sk-toggleable__control:checked~label.sk-toggleable__label {background-color: #d4ebff;}#sk-64b6213b-87ce-4ad1-b335-936708a79e85 div.sk-label input.sk-toggleable__control:checked~label.sk-toggleable__label {background-color: #d4ebff;}#sk-64b6213b-87ce-4ad1-b335-936708a79e85 input.sk-hidden--visually {border: 0;clip: rect(1px 1px 1px 1px);clip: rect(1px, 1px, 1px, 1px);height: 1px;margin: -1px;overflow: hidden;padding: 0;position: absolute;width: 1px;}#sk-64b6213b-87ce-4ad1-b335-936708a79e85 div.sk-estimator {font-family: monospace;background-color: #f0f8ff;margin: 0.25em 0.25em;border: 1px dotted black;border-radius: 0.25em;box-sizing: border-box;}#sk-64b6213b-87ce-4ad1-b335-936708a79e85 div.sk-estimator:hover {background-color: #d4ebff;}#sk-64b6213b-87ce-4ad1-b335-936708a79e85 div.sk-parallel-item::after {content: \"\";width: 100%;border-bottom: 1px solid gray;flex-grow: 1;}#sk-64b6213b-87ce-4ad1-b335-936708a79e85 div.sk-label:hover label.sk-toggleable__label {background-color: #d4ebff;}#sk-64b6213b-87ce-4ad1-b335-936708a79e85 div.sk-serial::before {content: \"\";position: absolute;border-left: 1px solid gray;box-sizing: border-box;top: 2em;bottom: 0;left: 50%;}#sk-64b6213b-87ce-4ad1-b335-936708a79e85 div.sk-serial {display: flex;flex-direction: column;align-items: center;background-color: white;}#sk-64b6213b-87ce-4ad1-b335-936708a79e85 div.sk-item {z-index: 1;}#sk-64b6213b-87ce-4ad1-b335-936708a79e85 div.sk-parallel {display: flex;align-items: stretch;justify-content: center;background-color: white;}#sk-64b6213b-87ce-4ad1-b335-936708a79e85 div.sk-parallel-item {display: flex;flex-direction: column;position: relative;background-color: white;}#sk-64b6213b-87ce-4ad1-b335-936708a79e85 div.sk-parallel-item:first-child::after {align-self: flex-end;width: 50%;}#sk-64b6213b-87ce-4ad1-b335-936708a79e85 div.sk-parallel-item:last-child::after {align-self: flex-start;width: 50%;}#sk-64b6213b-87ce-4ad1-b335-936708a79e85 div.sk-parallel-item:only-child::after {width: 0;}#sk-64b6213b-87ce-4ad1-b335-936708a79e85 div.sk-dashed-wrapped {border: 1px dashed gray;margin: 0.2em;box-sizing: border-box;padding-bottom: 0.1em;background-color: white;position: relative;}#sk-64b6213b-87ce-4ad1-b335-936708a79e85 div.sk-label label {font-family: monospace;font-weight: bold;background-color: white;display: inline-block;line-height: 1.2em;}#sk-64b6213b-87ce-4ad1-b335-936708a79e85 div.sk-label-container {position: relative;z-index: 2;text-align: center;}#sk-64b6213b-87ce-4ad1-b335-936708a79e85 div.sk-container {display: inline-block;position: relative;}</style><div id=\"sk-64b6213b-87ce-4ad1-b335-936708a79e85\" class\"sk-top-container\"><div class=\"sk-container\"><div class=\"sk-item sk-dashed-wrapped\"><div class=\"sk-label-container\"><div class=\"sk-label sk-toggleable\"><input class=\"sk-toggleable__control sk-hidden--visually\" id=\"9137a3b5-8279-4fa2-937a-377e46ccbc03\" type=\"checkbox\" ><label class=\"sk-toggleable__label\" for=\"9137a3b5-8279-4fa2-937a-377e46ccbc03\">Pipeline</label><div class=\"sk-toggleable__content\"><pre>Pipeline(steps=[('columntransformer',\n",
       "                 ColumnTransformer(transformers=[('num_transformer',\n",
       "                                                  RobustScaler(),\n",
       "                                                  ['duration_min', 'budget',\n",
       "                                                   'number_of_awards_won',\n",
       "                                                   'number_of_nominations',\n",
       "                                                   'number_of_top_productions']),\n",
       "                                                 ('cat_transformer',\n",
       "                                                  OneHotEncoder(handle_unknown='ignore'),\n",
       "                                                  ['original_language',\n",
       "                                                   'status', 'has_collection',\n",
       "                                                   'available_in_english',\n",
       "                                                   'all_genres',\n",
       "                                                   'available_in_english'])]))])</pre></div></div></div><div class=\"sk-serial\"><div class=\"sk-item sk-dashed-wrapped\"><div class=\"sk-label-container\"><div class=\"sk-label sk-toggleable\"><input class=\"sk-toggleable__control sk-hidden--visually\" id=\"d04c4c0b-42f4-434b-9187-b19c18703db8\" type=\"checkbox\" ><label class=\"sk-toggleable__label\" for=\"d04c4c0b-42f4-434b-9187-b19c18703db8\">columntransformer: ColumnTransformer</label><div class=\"sk-toggleable__content\"><pre>ColumnTransformer(transformers=[('num_transformer', RobustScaler(),\n",
       "                                 ['duration_min', 'budget',\n",
       "                                  'number_of_awards_won',\n",
       "                                  'number_of_nominations',\n",
       "                                  'number_of_top_productions']),\n",
       "                                ('cat_transformer',\n",
       "                                 OneHotEncoder(handle_unknown='ignore'),\n",
       "                                 ['original_language', 'status',\n",
       "                                  'has_collection', 'available_in_english',\n",
       "                                  'all_genres', 'available_in_english'])])</pre></div></div></div><div class=\"sk-parallel\"><div class=\"sk-parallel-item\"><div class=\"sk-item\"><div class=\"sk-label-container\"><div class=\"sk-label sk-toggleable\"><input class=\"sk-toggleable__control sk-hidden--visually\" id=\"85d375eb-c8a6-4869-8433-460ad86069ed\" type=\"checkbox\" ><label class=\"sk-toggleable__label\" for=\"85d375eb-c8a6-4869-8433-460ad86069ed\">num_transformer</label><div class=\"sk-toggleable__content\"><pre>['duration_min', 'budget', 'number_of_awards_won', 'number_of_nominations', 'number_of_top_productions']</pre></div></div></div><div class=\"sk-serial\"><div class=\"sk-item\"><div class=\"sk-estimator sk-toggleable\"><input class=\"sk-toggleable__control sk-hidden--visually\" id=\"933d3575-f924-4680-baf5-3dd7d58412b4\" type=\"checkbox\" ><label class=\"sk-toggleable__label\" for=\"933d3575-f924-4680-baf5-3dd7d58412b4\">RobustScaler</label><div class=\"sk-toggleable__content\"><pre>RobustScaler()</pre></div></div></div></div></div></div><div class=\"sk-parallel-item\"><div class=\"sk-item\"><div class=\"sk-label-container\"><div class=\"sk-label sk-toggleable\"><input class=\"sk-toggleable__control sk-hidden--visually\" id=\"bfdeebe7-508b-465a-881e-e1a337276f70\" type=\"checkbox\" ><label class=\"sk-toggleable__label\" for=\"bfdeebe7-508b-465a-881e-e1a337276f70\">cat_transformer</label><div class=\"sk-toggleable__content\"><pre>['original_language', 'status', 'has_collection', 'available_in_english', 'all_genres', 'available_in_english']</pre></div></div></div><div class=\"sk-serial\"><div class=\"sk-item\"><div class=\"sk-estimator sk-toggleable\"><input class=\"sk-toggleable__control sk-hidden--visually\" id=\"78c703af-8821-4015-8759-5cc1738c5cf1\" type=\"checkbox\" ><label class=\"sk-toggleable__label\" for=\"78c703af-8821-4015-8759-5cc1738c5cf1\">OneHotEncoder</label><div class=\"sk-toggleable__content\"><pre>OneHotEncoder(handle_unknown='ignore')</pre></div></div></div></div></div></div></div></div></div></div></div></div>"
      ],
      "text/plain": [
       "Pipeline(steps=[('columntransformer',\n",
       "                 ColumnTransformer(transformers=[('num_transformer',\n",
       "                                                  RobustScaler(),\n",
       "                                                  ['duration_min', 'budget',\n",
       "                                                   'number_of_awards_won',\n",
       "                                                   'number_of_nominations',\n",
       "                                                   'number_of_top_productions']),\n",
       "                                                 ('cat_transformer',\n",
       "                                                  OneHotEncoder(handle_unknown='ignore'),\n",
       "                                                  ['original_language',\n",
       "                                                   'status', 'has_collection',\n",
       "                                                   'available_in_english',\n",
       "                                                   'all_genres',\n",
       "                                                   'available_in_english'])]))])"
      ]
     },
     "execution_count": 25,
     "metadata": {},
     "output_type": "execute_result"
    }
   ],
   "source": [
    "basic_preprocessing = make_pipeline(preprocessor)\n",
    "print(type(basic_preprocessing))\n",
    "basic_preprocessing"
   ]
  },
  {
   "cell_type": "code",
   "execution_count": 26,
   "metadata": {
    "ExecuteTime": {
     "end_time": "2021-06-30T11:27:59.281955Z",
     "start_time": "2021-06-30T11:27:59.255740Z"
    }
   },
   "outputs": [
    {
     "data": {
      "text/plain": [
       "<6463x801 sparse matrix of type '<class 'numpy.float64'>'\n",
       "\twith 66852 stored elements in Compressed Sparse Row format>"
      ]
     },
     "execution_count": 26,
     "metadata": {},
     "output_type": "execute_result"
    }
   ],
   "source": [
    "X_basic_preprocessing = basic_preprocessing.fit_transform(X)\n",
    "X_basic_preprocessing"
   ]
  },
  {
   "cell_type": "code",
   "execution_count": 27,
   "metadata": {
    "ExecuteTime": {
     "end_time": "2021-06-30T11:27:59.291478Z",
     "start_time": "2021-06-30T11:27:59.284122Z"
    }
   },
   "outputs": [
    {
     "data": {
      "text/plain": [
       "(6463, 801)"
      ]
     },
     "execution_count": 27,
     "metadata": {},
     "output_type": "execute_result"
    }
   ],
   "source": [
    "X_basic_preprocessing.shape"
   ]
  },
  {
   "cell_type": "markdown",
   "metadata": {},
   "source": [
    "**❓ How many features has been generated by the preprocessing? What do you think about this number?**"
   ]
  },
  {
   "cell_type": "markdown",
   "metadata": {
    "tags": [
     "challengify"
    ]
   },
   "source": [
    "There are 801 features generated by the preprocessing. We might want to reduce it with PCA for instance, or reduce even further the features selected from the original dataframe"
   ]
  },
  {
   "cell_type": "markdown",
   "metadata": {},
   "source": [
    "#### Modeling pipeline\n",
    "\n",
    "Let's add a model to our pipe. With so many features one-hot-encoded, we **need a model which can act as a feature selector**\n",
    "\n",
    "👉 A linear model regularized with L1 penalty is a good starting point.\n",
    "\n",
    "\n",
    "**📝 Create a `basic_pipeline` which encapsulate the `basic_preprocessing` pipeline + a linear model with a L1 penalty**\n",
    "\n",
    "- store the resulting pipeline as `basic_pipeline`\n",
    "- don't fine-tune it\n",
    "\n",
    "\n",
    "<details>\n",
    "    <summary>Hints</summary>\n",
    "\n",
    "Choose your model from the list [here](https://scikit-learn.org/stable/modules/classes.html#module-sklearn.linear_model)\n",
    "\n",
    "</details>"
   ]
  },
  {
   "cell_type": "code",
   "execution_count": 28,
   "metadata": {
    "ExecuteTime": {
     "end_time": "2021-06-30T11:27:59.355167Z",
     "start_time": "2021-06-30T11:27:59.295868Z"
    },
    "tags": [
     "challengify"
    ]
   },
   "outputs": [
    {
     "data": {
      "text/html": [
       "<style>#sk-c4b016ed-6146-4750-a8ab-8c78a68190d3 {color: black;background-color: white;}#sk-c4b016ed-6146-4750-a8ab-8c78a68190d3 pre{padding: 0;}#sk-c4b016ed-6146-4750-a8ab-8c78a68190d3 div.sk-toggleable {background-color: white;}#sk-c4b016ed-6146-4750-a8ab-8c78a68190d3 label.sk-toggleable__label {cursor: pointer;display: block;width: 100%;margin-bottom: 0;padding: 0.2em 0.3em;box-sizing: border-box;text-align: center;}#sk-c4b016ed-6146-4750-a8ab-8c78a68190d3 div.sk-toggleable__content {max-height: 0;max-width: 0;overflow: hidden;text-align: left;background-color: #f0f8ff;}#sk-c4b016ed-6146-4750-a8ab-8c78a68190d3 div.sk-toggleable__content pre {margin: 0.2em;color: black;border-radius: 0.25em;background-color: #f0f8ff;}#sk-c4b016ed-6146-4750-a8ab-8c78a68190d3 input.sk-toggleable__control:checked~div.sk-toggleable__content {max-height: 200px;max-width: 100%;overflow: auto;}#sk-c4b016ed-6146-4750-a8ab-8c78a68190d3 div.sk-estimator input.sk-toggleable__control:checked~label.sk-toggleable__label {background-color: #d4ebff;}#sk-c4b016ed-6146-4750-a8ab-8c78a68190d3 div.sk-label input.sk-toggleable__control:checked~label.sk-toggleable__label {background-color: #d4ebff;}#sk-c4b016ed-6146-4750-a8ab-8c78a68190d3 input.sk-hidden--visually {border: 0;clip: rect(1px 1px 1px 1px);clip: rect(1px, 1px, 1px, 1px);height: 1px;margin: -1px;overflow: hidden;padding: 0;position: absolute;width: 1px;}#sk-c4b016ed-6146-4750-a8ab-8c78a68190d3 div.sk-estimator {font-family: monospace;background-color: #f0f8ff;margin: 0.25em 0.25em;border: 1px dotted black;border-radius: 0.25em;box-sizing: border-box;}#sk-c4b016ed-6146-4750-a8ab-8c78a68190d3 div.sk-estimator:hover {background-color: #d4ebff;}#sk-c4b016ed-6146-4750-a8ab-8c78a68190d3 div.sk-parallel-item::after {content: \"\";width: 100%;border-bottom: 1px solid gray;flex-grow: 1;}#sk-c4b016ed-6146-4750-a8ab-8c78a68190d3 div.sk-label:hover label.sk-toggleable__label {background-color: #d4ebff;}#sk-c4b016ed-6146-4750-a8ab-8c78a68190d3 div.sk-serial::before {content: \"\";position: absolute;border-left: 1px solid gray;box-sizing: border-box;top: 2em;bottom: 0;left: 50%;}#sk-c4b016ed-6146-4750-a8ab-8c78a68190d3 div.sk-serial {display: flex;flex-direction: column;align-items: center;background-color: white;}#sk-c4b016ed-6146-4750-a8ab-8c78a68190d3 div.sk-item {z-index: 1;}#sk-c4b016ed-6146-4750-a8ab-8c78a68190d3 div.sk-parallel {display: flex;align-items: stretch;justify-content: center;background-color: white;}#sk-c4b016ed-6146-4750-a8ab-8c78a68190d3 div.sk-parallel-item {display: flex;flex-direction: column;position: relative;background-color: white;}#sk-c4b016ed-6146-4750-a8ab-8c78a68190d3 div.sk-parallel-item:first-child::after {align-self: flex-end;width: 50%;}#sk-c4b016ed-6146-4750-a8ab-8c78a68190d3 div.sk-parallel-item:last-child::after {align-self: flex-start;width: 50%;}#sk-c4b016ed-6146-4750-a8ab-8c78a68190d3 div.sk-parallel-item:only-child::after {width: 0;}#sk-c4b016ed-6146-4750-a8ab-8c78a68190d3 div.sk-dashed-wrapped {border: 1px dashed gray;margin: 0.2em;box-sizing: border-box;padding-bottom: 0.1em;background-color: white;position: relative;}#sk-c4b016ed-6146-4750-a8ab-8c78a68190d3 div.sk-label label {font-family: monospace;font-weight: bold;background-color: white;display: inline-block;line-height: 1.2em;}#sk-c4b016ed-6146-4750-a8ab-8c78a68190d3 div.sk-label-container {position: relative;z-index: 2;text-align: center;}#sk-c4b016ed-6146-4750-a8ab-8c78a68190d3 div.sk-container {display: inline-block;position: relative;}</style><div id=\"sk-c4b016ed-6146-4750-a8ab-8c78a68190d3\" class\"sk-top-container\"><div class=\"sk-container\"><div class=\"sk-item sk-dashed-wrapped\"><div class=\"sk-label-container\"><div class=\"sk-label sk-toggleable\"><input class=\"sk-toggleable__control sk-hidden--visually\" id=\"c333fb46-f251-4089-b584-814e35c2005a\" type=\"checkbox\" ><label class=\"sk-toggleable__label\" for=\"c333fb46-f251-4089-b584-814e35c2005a\">Pipeline</label><div class=\"sk-toggleable__content\"><pre>Pipeline(steps=[('pipeline',\n",
       "                 Pipeline(steps=[('columntransformer',\n",
       "                                  ColumnTransformer(transformers=[('num_transformer',\n",
       "                                                                   RobustScaler(),\n",
       "                                                                   ['duration_min',\n",
       "                                                                    'budget',\n",
       "                                                                    'number_of_awards_won',\n",
       "                                                                    'number_of_nominations',\n",
       "                                                                    'number_of_top_productions']),\n",
       "                                                                  ('cat_transformer',\n",
       "                                                                   OneHotEncoder(handle_unknown='ignore'),\n",
       "                                                                   ['original_language',\n",
       "                                                                    'status',\n",
       "                                                                    'has_collection',\n",
       "                                                                    'available_in_english',\n",
       "                                                                    'all_genres',\n",
       "                                                                    'available_in_english'])]))])),\n",
       "                ('elasticnet', ElasticNet())])</pre></div></div></div><div class=\"sk-serial\"><div class=\"sk-item\"><div class=\"sk-label-container\"><div class=\"sk-label sk-toggleable\"><input class=\"sk-toggleable__control sk-hidden--visually\" id=\"090ebbae-6d2e-4561-b905-fad2ac8c7901\" type=\"checkbox\" ><label class=\"sk-toggleable__label\" for=\"090ebbae-6d2e-4561-b905-fad2ac8c7901\">pipeline: Pipeline</label><div class=\"sk-toggleable__content\"><pre>Pipeline(steps=[('columntransformer',\n",
       "                 ColumnTransformer(transformers=[('num_transformer',\n",
       "                                                  RobustScaler(),\n",
       "                                                  ['duration_min', 'budget',\n",
       "                                                   'number_of_awards_won',\n",
       "                                                   'number_of_nominations',\n",
       "                                                   'number_of_top_productions']),\n",
       "                                                 ('cat_transformer',\n",
       "                                                  OneHotEncoder(handle_unknown='ignore'),\n",
       "                                                  ['original_language',\n",
       "                                                   'status', 'has_collection',\n",
       "                                                   'available_in_english',\n",
       "                                                   'all_genres',\n",
       "                                                   'available_in_english'])]))])</pre></div></div></div><div class=\"sk-serial\"><div class=\"sk-item sk-dashed-wrapped\"><div class=\"sk-label-container\"><div class=\"sk-label sk-toggleable\"><input class=\"sk-toggleable__control sk-hidden--visually\" id=\"3573eb2b-ed6b-41f3-906f-90d88f61966d\" type=\"checkbox\" ><label class=\"sk-toggleable__label\" for=\"3573eb2b-ed6b-41f3-906f-90d88f61966d\">columntransformer: ColumnTransformer</label><div class=\"sk-toggleable__content\"><pre>ColumnTransformer(transformers=[('num_transformer', RobustScaler(),\n",
       "                                 ['duration_min', 'budget',\n",
       "                                  'number_of_awards_won',\n",
       "                                  'number_of_nominations',\n",
       "                                  'number_of_top_productions']),\n",
       "                                ('cat_transformer',\n",
       "                                 OneHotEncoder(handle_unknown='ignore'),\n",
       "                                 ['original_language', 'status',\n",
       "                                  'has_collection', 'available_in_english',\n",
       "                                  'all_genres', 'available_in_english'])])</pre></div></div></div><div class=\"sk-parallel\"><div class=\"sk-parallel-item\"><div class=\"sk-item\"><div class=\"sk-label-container\"><div class=\"sk-label sk-toggleable\"><input class=\"sk-toggleable__control sk-hidden--visually\" id=\"16d04c55-73d1-4bb5-bbef-95a0002aaff0\" type=\"checkbox\" ><label class=\"sk-toggleable__label\" for=\"16d04c55-73d1-4bb5-bbef-95a0002aaff0\">num_transformer</label><div class=\"sk-toggleable__content\"><pre>['duration_min', 'budget', 'number_of_awards_won', 'number_of_nominations', 'number_of_top_productions']</pre></div></div></div><div class=\"sk-serial\"><div class=\"sk-item\"><div class=\"sk-estimator sk-toggleable\"><input class=\"sk-toggleable__control sk-hidden--visually\" id=\"a678e915-16d5-494e-8727-694612183146\" type=\"checkbox\" ><label class=\"sk-toggleable__label\" for=\"a678e915-16d5-494e-8727-694612183146\">RobustScaler</label><div class=\"sk-toggleable__content\"><pre>RobustScaler()</pre></div></div></div></div></div></div><div class=\"sk-parallel-item\"><div class=\"sk-item\"><div class=\"sk-label-container\"><div class=\"sk-label sk-toggleable\"><input class=\"sk-toggleable__control sk-hidden--visually\" id=\"a3abd3d2-c4ee-40cb-97c6-47f62bc70b49\" type=\"checkbox\" ><label class=\"sk-toggleable__label\" for=\"a3abd3d2-c4ee-40cb-97c6-47f62bc70b49\">cat_transformer</label><div class=\"sk-toggleable__content\"><pre>['original_language', 'status', 'has_collection', 'available_in_english', 'all_genres', 'available_in_english']</pre></div></div></div><div class=\"sk-serial\"><div class=\"sk-item\"><div class=\"sk-estimator sk-toggleable\"><input class=\"sk-toggleable__control sk-hidden--visually\" id=\"642e720b-747a-4f88-b29b-26c0955d4943\" type=\"checkbox\" ><label class=\"sk-toggleable__label\" for=\"642e720b-747a-4f88-b29b-26c0955d4943\">OneHotEncoder</label><div class=\"sk-toggleable__content\"><pre>OneHotEncoder(handle_unknown='ignore')</pre></div></div></div></div></div></div></div></div></div></div><div class=\"sk-item\"><div class=\"sk-estimator sk-toggleable\"><input class=\"sk-toggleable__control sk-hidden--visually\" id=\"fe348d3a-b779-498f-9110-7825905a917a\" type=\"checkbox\" ><label class=\"sk-toggleable__label\" for=\"fe348d3a-b779-498f-9110-7825905a917a\">ElasticNet</label><div class=\"sk-toggleable__content\"><pre>ElasticNet()</pre></div></div></div></div></div></div></div>"
      ],
      "text/plain": [
       "Pipeline(steps=[('pipeline',\n",
       "                 Pipeline(steps=[('columntransformer',\n",
       "                                  ColumnTransformer(transformers=[('num_transformer',\n",
       "                                                                   RobustScaler(),\n",
       "                                                                   ['duration_min',\n",
       "                                                                    'budget',\n",
       "                                                                    'number_of_awards_won',\n",
       "                                                                    'number_of_nominations',\n",
       "                                                                    'number_of_top_productions']),\n",
       "                                                                  ('cat_transformer',\n",
       "                                                                   OneHotEncoder(handle_unknown='ignore'),\n",
       "                                                                   ['original_language',\n",
       "                                                                    'status',\n",
       "                                                                    'has_collection',\n",
       "                                                                    'available_in_english',\n",
       "                                                                    'all_genres',\n",
       "                                                                    'available_in_english'])]))])),\n",
       "                ('elasticnet', ElasticNet())])"
      ]
     },
     "execution_count": 28,
     "metadata": {},
     "output_type": "execute_result"
    }
   ],
   "source": [
    "basic_pipeline = make_pipeline(\n",
    "    basic_preprocessing,\n",
    "    ElasticNet()\n",
    ")\n",
    "basic_pipeline"
   ]
  },
  {
   "cell_type": "markdown",
   "metadata": {},
   "source": [
    "### Cross-validated baseline\n",
    "\n",
    "**📝 Perform a cross-validated evaluation of your baseline model using the metric you defined above. Store the results of this evaluation as an `array` of floating scores in the `basic_scores` variable.**"
   ]
  },
  {
   "cell_type": "code",
   "execution_count": 29,
   "metadata": {
    "ExecuteTime": {
     "end_time": "2021-06-30T11:27:59.366015Z",
     "start_time": "2021-06-30T11:27:59.357917Z"
    }
   },
   "outputs": [
    {
     "data": {
      "text/plain": [
       "['accuracy',\n",
       " 'adjusted_mutual_info_score',\n",
       " 'adjusted_rand_score',\n",
       " 'average_precision',\n",
       " 'balanced_accuracy',\n",
       " 'completeness_score',\n",
       " 'explained_variance',\n",
       " 'f1',\n",
       " 'f1_macro',\n",
       " 'f1_micro',\n",
       " 'f1_samples',\n",
       " 'f1_weighted',\n",
       " 'fowlkes_mallows_score',\n",
       " 'homogeneity_score',\n",
       " 'jaccard',\n",
       " 'jaccard_macro',\n",
       " 'jaccard_micro',\n",
       " 'jaccard_samples',\n",
       " 'jaccard_weighted',\n",
       " 'max_error',\n",
       " 'mutual_info_score',\n",
       " 'neg_brier_score',\n",
       " 'neg_log_loss',\n",
       " 'neg_mean_absolute_error',\n",
       " 'neg_mean_absolute_percentage_error',\n",
       " 'neg_mean_gamma_deviance',\n",
       " 'neg_mean_poisson_deviance',\n",
       " 'neg_mean_squared_error',\n",
       " 'neg_mean_squared_log_error',\n",
       " 'neg_median_absolute_error',\n",
       " 'neg_root_mean_squared_error',\n",
       " 'normalized_mutual_info_score',\n",
       " 'precision',\n",
       " 'precision_macro',\n",
       " 'precision_micro',\n",
       " 'precision_samples',\n",
       " 'precision_weighted',\n",
       " 'r2',\n",
       " 'rand_score',\n",
       " 'recall',\n",
       " 'recall_macro',\n",
       " 'recall_micro',\n",
       " 'recall_samples',\n",
       " 'recall_weighted',\n",
       " 'roc_auc',\n",
       " 'roc_auc_ovo',\n",
       " 'roc_auc_ovo_weighted',\n",
       " 'roc_auc_ovr',\n",
       " 'roc_auc_ovr_weighted',\n",
       " 'top_k_accuracy',\n",
       " 'v_measure_score']"
      ]
     },
     "execution_count": 29,
     "metadata": {},
     "output_type": "execute_result"
    }
   ],
   "source": [
    "from sklearn.metrics import SCORERS\n",
    "sorted(SCORERS.keys())"
   ]
  },
  {
   "cell_type": "code",
   "execution_count": 30,
   "metadata": {
    "ExecuteTime": {
     "end_time": "2021-06-30T11:27:59.947522Z",
     "start_time": "2021-06-30T11:27:59.368499Z"
    },
    "scrolled": true,
    "tags": [
     "challengify"
    ]
   },
   "outputs": [
    {
     "data": {
      "text/plain": [
       "{'fit_time': array([0.09690213, 0.09496188, 0.09042192, 0.0896759 , 0.09129691]),\n",
       " 'score_time': array([0.00943494, 0.00905108, 0.00971127, 0.00831079, 0.00804114]),\n",
       " 'test_score': array([-0.30234149, -0.32444264, -0.31509574, -0.30351371, -0.33587408]),\n",
       " 'train_score': array([-0.32138831, -0.31534091, -0.31510538, -0.31746235, -0.310437  ])}"
      ]
     },
     "execution_count": 30,
     "metadata": {},
     "output_type": "execute_result"
    }
   ],
   "source": [
    "basic_scores_all = cross_validate(basic_pipeline, X, y, cv=5,\n",
    "                              scoring=(scoring),\n",
    "                              return_train_score=True)\n",
    "basic_scores_all"
   ]
  },
  {
   "cell_type": "code",
   "execution_count": 31,
   "metadata": {
    "ExecuteTime": {
     "end_time": "2021-06-30T11:27:59.957194Z",
     "start_time": "2021-06-30T11:27:59.950450Z"
    }
   },
   "outputs": [
    {
     "data": {
      "text/plain": [
       "array([-0.30234149, -0.32444264, -0.31509574, -0.30351371, -0.33587408])"
      ]
     },
     "execution_count": 31,
     "metadata": {},
     "output_type": "execute_result"
    }
   ],
   "source": [
    "basic_scores = basic_scores_all['test_score']\n",
    "basic_scores"
   ]
  },
  {
   "cell_type": "markdown",
   "metadata": {
    "heading_collapsed": true
   },
   "source": [
    "### 🧪 Save your results\n",
    "\n",
    "Run the following cell to save your results"
   ]
  },
  {
   "cell_type": "code",
   "execution_count": 32,
   "metadata": {
    "ExecuteTime": {
     "end_time": "2021-06-30T11:27:59.964595Z",
     "start_time": "2021-06-30T11:27:59.959127Z"
    },
    "hidden": true
   },
   "outputs": [],
   "source": [
    "ChallengeResult(\n",
    "    'baseline',\n",
    "    metric=scoring,\n",
    "    features=[categorical,numerical],\n",
    "    preproc=basic_preprocessing,\n",
    "    preproc_shape=X_basic_preprocessing.shape,\n",
    "    pipe=basic_pipeline,\n",
    "    scores=basic_scores\n",
    ").write()"
   ]
  },
  {
   "cell_type": "markdown",
   "metadata": {},
   "source": [
    "## Feature engineering"
   ]
  },
  {
   "cell_type": "markdown",
   "metadata": {},
   "source": [
    "### Time Features\n",
    "\n",
    "\n",
    "👉 Let's try to improve performance using the feature `release_date`, and especially its `month` and `year`.\n",
    "\n",
    "ℹ️ If you want to skip this section, you can move directly to the next one: _Advanced categorical features_."
   ]
  },
  {
   "cell_type": "markdown",
   "metadata": {},
   "source": [
    "**📝 Complete the custom transformer `TimeFeaturesExtractor` below**\n",
    "\n",
    "Running\n",
    "```python\n",
    "TimeFeaturesExtractor().fit_transform(X[['release_date']])\n",
    "``` \n",
    "should return something like\n",
    "\n",
    "|    |   month |   year |\n",
    "|---:|--------:|-------:|\n",
    "|  0 |       2 |   2015 |\n",
    "|  1 |       8 |   2004 |\n",
    "|  2 |      10 |   2014 |\n",
    "|  3 |       3 |   2012 |\n",
    "|  4 |       8 |   2012 |\n"
   ]
  },
  {
   "cell_type": "code",
   "execution_count": 33,
   "metadata": {
    "ExecuteTime": {
     "end_time": "2021-06-30T11:27:59.979486Z",
     "start_time": "2021-06-30T11:27:59.967116Z"
    }
   },
   "outputs": [],
   "source": [
    "from sklearn.base import BaseEstimator, TransformerMixin\n",
    "\n",
    "class TimeFeaturesExtractor(BaseEstimator, TransformerMixin):\n",
    "    \"\"\"Extract the 2 time features from a date\"\"\"\n",
    "    \n",
    "    def fit(self, X, y=None):\n",
    "        return self\n",
    "    \n",
    "    def transform(self, X, y=None):\n",
    "        \"\"\"\n",
    "        Params:\n",
    "        X: DataFrame\n",
    "        y: Series\n",
    "        \n",
    "        Returns a DataFrame with 2 columns containing the time features as integers extracted from the release_date.\n",
    "        \"\"\"\n",
    "        df = pd.concat((pd.to_datetime(X['release_date']).dt.month, pd.to_datetime(X['release_date']).dt.year), axis = 1)\n",
    "        df.columns = ['month', 'year']\n",
    "        return df"
   ]
  },
  {
   "cell_type": "code",
   "execution_count": 34,
   "metadata": {
    "ExecuteTime": {
     "end_time": "2021-06-30T11:28:00.006073Z",
     "start_time": "2021-06-30T11:27:59.989212Z"
    }
   },
   "outputs": [
    {
     "data": {
      "text/html": [
       "<div>\n",
       "<style scoped>\n",
       "    .dataframe tbody tr th:only-of-type {\n",
       "        vertical-align: middle;\n",
       "    }\n",
       "\n",
       "    .dataframe tbody tr th {\n",
       "        vertical-align: top;\n",
       "    }\n",
       "\n",
       "    .dataframe thead th {\n",
       "        text-align: right;\n",
       "    }\n",
       "</style>\n",
       "<table border=\"1\" class=\"dataframe\">\n",
       "  <thead>\n",
       "    <tr style=\"text-align: right;\">\n",
       "      <th></th>\n",
       "      <th>month</th>\n",
       "      <th>year</th>\n",
       "    </tr>\n",
       "  </thead>\n",
       "  <tbody>\n",
       "    <tr>\n",
       "      <th>0</th>\n",
       "      <td>2</td>\n",
       "      <td>2015</td>\n",
       "    </tr>\n",
       "    <tr>\n",
       "      <th>1</th>\n",
       "      <td>8</td>\n",
       "      <td>2004</td>\n",
       "    </tr>\n",
       "    <tr>\n",
       "      <th>2</th>\n",
       "      <td>10</td>\n",
       "      <td>2014</td>\n",
       "    </tr>\n",
       "    <tr>\n",
       "      <th>3</th>\n",
       "      <td>3</td>\n",
       "      <td>2012</td>\n",
       "    </tr>\n",
       "    <tr>\n",
       "      <th>4</th>\n",
       "      <td>8</td>\n",
       "      <td>2012</td>\n",
       "    </tr>\n",
       "  </tbody>\n",
       "</table>\n",
       "</div>"
      ],
      "text/plain": [
       "   month  year\n",
       "0      2  2015\n",
       "1      8  2004\n",
       "2     10  2014\n",
       "3      3  2012\n",
       "4      8  2012"
      ]
     },
     "execution_count": 34,
     "metadata": {},
     "output_type": "execute_result"
    }
   ],
   "source": [
    "# Try your transformer and save your new features here\n",
    "X_time_features = TimeFeaturesExtractor().fit_transform(X[['release_date']])\n",
    "X_time_features.head()"
   ]
  },
  {
   "cell_type": "markdown",
   "metadata": {},
   "source": [
    "We still have 2 problems to solve\n",
    "- `month` is cyclical: 12 should be a close to 1 as to 11, right? \n",
    "- `year` is not scaled\n",
    "\n",
    "**📝 Build a final custom transformer `CyclicalEncoder` so that**\n",
    "\n",
    "Running\n",
    "```python\n",
    "CyclicalEncoder().fit_transform(X_time_features)\n",
    "``` \n",
    "should return something like this\n",
    "\n",
    "|    |    month_cos |   month_sin |      year |\n",
    "|---:|-------------:|------------:|----------:|\n",
    "|  0 |  0.5         |    0.866025 | 0.0466039 |\n",
    "|  1 | -0.5         |   -0.866025 | 0.0411502 |\n",
    "|  2 |  0.5         |   -0.866025 | 0.0461081 |\n",
    "|  3 |  6.12323e-17 |    1        | 0.0451165 |\n",
    "|  4 | -0.5         |   -0.866025 | 0.0451165 |\n",
    "\n",
    "With the cyclical encoding is done as below\n",
    "- `month_cos = 2 * math.pi / 12 * X[['month']] `\n",
    "- `month_sin = 2 * math.pi / 12 * X[['month']] `\n",
    "\n",
    "And the `year` begin min-max scaled"
   ]
  },
  {
   "cell_type": "code",
   "execution_count": 35,
   "metadata": {
    "ExecuteTime": {
     "end_time": "2021-06-30T11:28:00.013626Z",
     "start_time": "2021-06-30T11:28:00.008751Z"
    }
   },
   "outputs": [],
   "source": [
    "from sklearn.base import BaseEstimator, TransformerMixin\n",
    "\n",
    "\n",
    "class CyclicalEncoder(BaseEstimator, TransformerMixin):\n",
    "    \"\"\"\n",
    "    Encode a cyclical feature\n",
    "    \"\"\"\n",
    "    \n",
    "    def __init__(self):\n",
    "        pass\n",
    "\n",
    "    def fit(self, X, y=None):\n",
    "        \"\"\"\n",
    "        Compute here what you need for the transform phase and store it as instance variable\n",
    "        \"\"\"\n",
    "        #self.month_cos = np.cos(2 * math.pi / 12 * X[['month']])\n",
    "        #self.month_sin = np.sin(2 * math.pi / 12 * X[['month']])\n",
    "        #self.year = RobustScaler().fit_transform(X[['year']])\n",
    "        \n",
    "        return self\n",
    "\n",
    "    def transform(self, X, y=None):\n",
    "        \"\"\"\n",
    "        Compute and returns the final DataFrame\n",
    "        \"\"\"\n",
    "                \n",
    "        month_cos = np.cos(2 * math.pi / 12 * X[['month']])\n",
    "        month_sin = np.sin(2 * math.pi / 12 * X[['month']])\n",
    "        year = pd.DataFrame(RobustScaler().fit_transform(TimeFeaturesExtractor().fit_transform(X)[['year']]))\n",
    "        \n",
    "        X_transformed = pd.concat([month_cos, month_sin, year], axis=1)\n",
    "        X_transformed.columns = ['month_cos', 'month_sin', 'year']\n",
    "        return  X_transformed"
   ]
  },
  {
   "cell_type": "code",
   "execution_count": 36,
   "metadata": {
    "ExecuteTime": {
     "end_time": "2021-06-30T11:28:00.058094Z",
     "start_time": "2021-06-30T11:28:00.015709Z"
    }
   },
   "outputs": [
    {
     "data": {
      "text/html": [
       "<div>\n",
       "<style scoped>\n",
       "    .dataframe tbody tr th:only-of-type {\n",
       "        vertical-align: middle;\n",
       "    }\n",
       "\n",
       "    .dataframe tbody tr th {\n",
       "        vertical-align: top;\n",
       "    }\n",
       "\n",
       "    .dataframe thead th {\n",
       "        text-align: right;\n",
       "    }\n",
       "</style>\n",
       "<table border=\"1\" class=\"dataframe\">\n",
       "  <thead>\n",
       "    <tr style=\"text-align: right;\">\n",
       "      <th></th>\n",
       "      <th>month_cos</th>\n",
       "      <th>month_sin</th>\n",
       "      <th>year</th>\n",
       "    </tr>\n",
       "  </thead>\n",
       "  <tbody>\n",
       "    <tr>\n",
       "      <th>0</th>\n",
       "      <td>5.000000e-01</td>\n",
       "      <td>8.660254e-01</td>\n",
       "      <td>0.578947</td>\n",
       "    </tr>\n",
       "    <tr>\n",
       "      <th>1</th>\n",
       "      <td>-5.000000e-01</td>\n",
       "      <td>-8.660254e-01</td>\n",
       "      <td>0.000000</td>\n",
       "    </tr>\n",
       "    <tr>\n",
       "      <th>2</th>\n",
       "      <td>5.000000e-01</td>\n",
       "      <td>-8.660254e-01</td>\n",
       "      <td>0.526316</td>\n",
       "    </tr>\n",
       "    <tr>\n",
       "      <th>3</th>\n",
       "      <td>6.123234e-17</td>\n",
       "      <td>1.000000e+00</td>\n",
       "      <td>0.421053</td>\n",
       "    </tr>\n",
       "    <tr>\n",
       "      <th>4</th>\n",
       "      <td>-5.000000e-01</td>\n",
       "      <td>-8.660254e-01</td>\n",
       "      <td>0.421053</td>\n",
       "    </tr>\n",
       "    <tr>\n",
       "      <th>...</th>\n",
       "      <td>...</td>\n",
       "      <td>...</td>\n",
       "      <td>...</td>\n",
       "    </tr>\n",
       "    <tr>\n",
       "      <th>6459</th>\n",
       "      <td>-5.000000e-01</td>\n",
       "      <td>-8.660254e-01</td>\n",
       "      <td>0.000000</td>\n",
       "    </tr>\n",
       "    <tr>\n",
       "      <th>6460</th>\n",
       "      <td>-5.000000e-01</td>\n",
       "      <td>-8.660254e-01</td>\n",
       "      <td>-1.157895</td>\n",
       "    </tr>\n",
       "    <tr>\n",
       "      <th>6461</th>\n",
       "      <td>1.000000e+00</td>\n",
       "      <td>-2.449294e-16</td>\n",
       "      <td>0.578947</td>\n",
       "    </tr>\n",
       "    <tr>\n",
       "      <th>6462</th>\n",
       "      <td>5.000000e-01</td>\n",
       "      <td>8.660254e-01</td>\n",
       "      <td>-2.210526</td>\n",
       "    </tr>\n",
       "    <tr>\n",
       "      <th>6463</th>\n",
       "      <td>-1.836970e-16</td>\n",
       "      <td>-1.000000e+00</td>\n",
       "      <td>NaN</td>\n",
       "    </tr>\n",
       "  </tbody>\n",
       "</table>\n",
       "<p>6464 rows × 3 columns</p>\n",
       "</div>"
      ],
      "text/plain": [
       "         month_cos     month_sin      year\n",
       "0     5.000000e-01  8.660254e-01  0.578947\n",
       "1    -5.000000e-01 -8.660254e-01  0.000000\n",
       "2     5.000000e-01 -8.660254e-01  0.526316\n",
       "3     6.123234e-17  1.000000e+00  0.421053\n",
       "4    -5.000000e-01 -8.660254e-01  0.421053\n",
       "...            ...           ...       ...\n",
       "6459 -5.000000e-01 -8.660254e-01  0.000000\n",
       "6460 -5.000000e-01 -8.660254e-01 -1.157895\n",
       "6461  1.000000e+00 -2.449294e-16  0.578947\n",
       "6462  5.000000e-01  8.660254e-01 -2.210526\n",
       "6463 -1.836970e-16 -1.000000e+00       NaN\n",
       "\n",
       "[6464 rows x 3 columns]"
      ]
     },
     "execution_count": 36,
     "metadata": {},
     "output_type": "execute_result"
    }
   ],
   "source": [
    "m = TimeFeaturesExtractor().fit_transform(X)[['month']]\n",
    "c = np.cos(2 * math.pi / 12 * m)\n",
    "s = np.sin(2 * math.pi / 12 * m)\n",
    "year = pd.DataFrame(RobustScaler().fit_transform(TimeFeaturesExtractor().fit_transform(X)[['year']]))\n",
    "d = pd.concat([c, s, year], axis=1)\n",
    "d.columns = ['month_cos', 'month_sin', 'year']\n",
    "d"
   ]
  },
  {
   "cell_type": "code",
   "execution_count": 37,
   "metadata": {
    "ExecuteTime": {
     "end_time": "2021-06-30T11:28:00.075612Z",
     "start_time": "2021-06-30T11:28:00.060725Z"
    }
   },
   "outputs": [
    {
     "data": {
      "text/html": [
       "<div>\n",
       "<style scoped>\n",
       "    .dataframe tbody tr th:only-of-type {\n",
       "        vertical-align: middle;\n",
       "    }\n",
       "\n",
       "    .dataframe tbody tr th {\n",
       "        vertical-align: top;\n",
       "    }\n",
       "\n",
       "    .dataframe thead th {\n",
       "        text-align: right;\n",
       "    }\n",
       "</style>\n",
       "<table border=\"1\" class=\"dataframe\">\n",
       "  <thead>\n",
       "    <tr style=\"text-align: right;\">\n",
       "      <th></th>\n",
       "      <th>month_cos</th>\n",
       "      <th>month_sin</th>\n",
       "      <th>year</th>\n",
       "    </tr>\n",
       "  </thead>\n",
       "  <tbody>\n",
       "    <tr>\n",
       "      <th>0</th>\n",
       "      <td>5.000000e-01</td>\n",
       "      <td>0.866025</td>\n",
       "      <td>0.578947</td>\n",
       "    </tr>\n",
       "    <tr>\n",
       "      <th>1</th>\n",
       "      <td>-5.000000e-01</td>\n",
       "      <td>-0.866025</td>\n",
       "      <td>0.000000</td>\n",
       "    </tr>\n",
       "    <tr>\n",
       "      <th>2</th>\n",
       "      <td>5.000000e-01</td>\n",
       "      <td>-0.866025</td>\n",
       "      <td>0.526316</td>\n",
       "    </tr>\n",
       "    <tr>\n",
       "      <th>3</th>\n",
       "      <td>6.123234e-17</td>\n",
       "      <td>1.000000</td>\n",
       "      <td>0.421053</td>\n",
       "    </tr>\n",
       "    <tr>\n",
       "      <th>4</th>\n",
       "      <td>-5.000000e-01</td>\n",
       "      <td>-0.866025</td>\n",
       "      <td>0.421053</td>\n",
       "    </tr>\n",
       "  </tbody>\n",
       "</table>\n",
       "</div>"
      ],
      "text/plain": [
       "      month_cos  month_sin      year\n",
       "0  5.000000e-01   0.866025  0.578947\n",
       "1 -5.000000e-01  -0.866025  0.000000\n",
       "2  5.000000e-01  -0.866025  0.526316\n",
       "3  6.123234e-17   1.000000  0.421053\n",
       "4 -5.000000e-01  -0.866025  0.421053"
      ]
     },
     "execution_count": 37,
     "metadata": {},
     "output_type": "execute_result"
    }
   ],
   "source": [
    "# Try your transformer and save your new features here\n",
    "X_time_cyclical = d.dropna()\n",
    "#ValueError: The truth value of a DataFrame is ambiguous. Use a.empty, a.bool(), a.item(), a.any() or a.all().\n",
    "X_time_cyclical.head() "
   ]
  },
  {
   "cell_type": "code",
   "execution_count": 38,
   "metadata": {
    "ExecuteTime": {
     "end_time": "2021-06-30T11:28:00.258676Z",
     "start_time": "2021-06-30T11:28:00.079162Z"
    }
   },
   "outputs": [
    {
     "data": {
      "image/png": "[encoded data removed]",
      "text/plain": [
       "<Figure size 432x288 with 1 Axes>"
      ]
     },
     "metadata": {
      "needs_background": "light"
     },
     "output_type": "display_data"
    }
   ],
   "source": [
    "# Check that this form a circle with 12 points\n",
    "plt.scatter(X_time_cyclical['month_cos'],\n",
    "            X_time_cyclical['month_sin'])\n",
    "plt.xlabel(\"month_cos\"); plt.ylabel(\"month_sin\");"
   ]
  },
  {
   "cell_type": "markdown",
   "metadata": {},
   "source": [
    "**📝 Enhance your `basic_pipeline` with a new preprocessing including both `TimeFeaturesExtractor` and `CyclicalFeatureExtractor`:**\n",
    "\n",
    "- Just use `TimeFeatureExtractor` if you haven't had time to do the `Cyclical` one\n",
    "- Store this new pipeline as `time_pipeline`\n",
    "- Keep same estimator for now"
   ]
  },
  {
   "cell_type": "code",
   "execution_count": 39,
   "metadata": {
    "ExecuteTime": {
     "end_time": "2021-06-30T11:28:00.320103Z",
     "start_time": "2021-06-30T11:28:00.260850Z"
    },
    "tags": [
     "challengify"
    ]
   },
   "outputs": [
    {
     "data": {
      "text/html": [
       "<style>#sk-2e2918f2-ddde-452b-87ec-f70810f7d324 {color: black;background-color: white;}#sk-2e2918f2-ddde-452b-87ec-f70810f7d324 pre{padding: 0;}#sk-2e2918f2-ddde-452b-87ec-f70810f7d324 div.sk-toggleable {background-color: white;}#sk-2e2918f2-ddde-452b-87ec-f70810f7d324 label.sk-toggleable__label {cursor: pointer;display: block;width: 100%;margin-bottom: 0;padding: 0.2em 0.3em;box-sizing: border-box;text-align: center;}#sk-2e2918f2-ddde-452b-87ec-f70810f7d324 div.sk-toggleable__content {max-height: 0;max-width: 0;overflow: hidden;text-align: left;background-color: #f0f8ff;}#sk-2e2918f2-ddde-452b-87ec-f70810f7d324 div.sk-toggleable__content pre {margin: 0.2em;color: black;border-radius: 0.25em;background-color: #f0f8ff;}#sk-2e2918f2-ddde-452b-87ec-f70810f7d324 input.sk-toggleable__control:checked~div.sk-toggleable__content {max-height: 200px;max-width: 100%;overflow: auto;}#sk-2e2918f2-ddde-452b-87ec-f70810f7d324 div.sk-estimator input.sk-toggleable__control:checked~label.sk-toggleable__label {background-color: #d4ebff;}#sk-2e2918f2-ddde-452b-87ec-f70810f7d324 div.sk-label input.sk-toggleable__control:checked~label.sk-toggleable__label {background-color: #d4ebff;}#sk-2e2918f2-ddde-452b-87ec-f70810f7d324 input.sk-hidden--visually {border: 0;clip: rect(1px 1px 1px 1px);clip: rect(1px, 1px, 1px, 1px);height: 1px;margin: -1px;overflow: hidden;padding: 0;position: absolute;width: 1px;}#sk-2e2918f2-ddde-452b-87ec-f70810f7d324 div.sk-estimator {font-family: monospace;background-color: #f0f8ff;margin: 0.25em 0.25em;border: 1px dotted black;border-radius: 0.25em;box-sizing: border-box;}#sk-2e2918f2-ddde-452b-87ec-f70810f7d324 div.sk-estimator:hover {background-color: #d4ebff;}#sk-2e2918f2-ddde-452b-87ec-f70810f7d324 div.sk-parallel-item::after {content: \"\";width: 100%;border-bottom: 1px solid gray;flex-grow: 1;}#sk-2e2918f2-ddde-452b-87ec-f70810f7d324 div.sk-label:hover label.sk-toggleable__label {background-color: #d4ebff;}#sk-2e2918f2-ddde-452b-87ec-f70810f7d324 div.sk-serial::before {content: \"\";position: absolute;border-left: 1px solid gray;box-sizing: border-box;top: 2em;bottom: 0;left: 50%;}#sk-2e2918f2-ddde-452b-87ec-f70810f7d324 div.sk-serial {display: flex;flex-direction: column;align-items: center;background-color: white;}#sk-2e2918f2-ddde-452b-87ec-f70810f7d324 div.sk-item {z-index: 1;}#sk-2e2918f2-ddde-452b-87ec-f70810f7d324 div.sk-parallel {display: flex;align-items: stretch;justify-content: center;background-color: white;}#sk-2e2918f2-ddde-452b-87ec-f70810f7d324 div.sk-parallel-item {display: flex;flex-direction: column;position: relative;background-color: white;}#sk-2e2918f2-ddde-452b-87ec-f70810f7d324 div.sk-parallel-item:first-child::after {align-self: flex-end;width: 50%;}#sk-2e2918f2-ddde-452b-87ec-f70810f7d324 div.sk-parallel-item:last-child::after {align-self: flex-start;width: 50%;}#sk-2e2918f2-ddde-452b-87ec-f70810f7d324 div.sk-parallel-item:only-child::after {width: 0;}#sk-2e2918f2-ddde-452b-87ec-f70810f7d324 div.sk-dashed-wrapped {border: 1px dashed gray;margin: 0.2em;box-sizing: border-box;padding-bottom: 0.1em;background-color: white;position: relative;}#sk-2e2918f2-ddde-452b-87ec-f70810f7d324 div.sk-label label {font-family: monospace;font-weight: bold;background-color: white;display: inline-block;line-height: 1.2em;}#sk-2e2918f2-ddde-452b-87ec-f70810f7d324 div.sk-label-container {position: relative;z-index: 2;text-align: center;}#sk-2e2918f2-ddde-452b-87ec-f70810f7d324 div.sk-container {display: inline-block;position: relative;}</style><div id=\"sk-2e2918f2-ddde-452b-87ec-f70810f7d324\" class\"sk-top-container\"><div class=\"sk-container\"><div class=\"sk-item sk-dashed-wrapped\"><div class=\"sk-label-container\"><div class=\"sk-label sk-toggleable\"><input class=\"sk-toggleable__control sk-hidden--visually\" id=\"11eb2c6a-ef18-4207-a2cd-6d9115faea3e\" type=\"checkbox\" ><label class=\"sk-toggleable__label\" for=\"11eb2c6a-ef18-4207-a2cd-6d9115faea3e\">Pipeline</label><div class=\"sk-toggleable__content\"><pre>Pipeline(steps=[('pipeline',\n",
       "                 Pipeline(steps=[('columntransformer',\n",
       "                                  ColumnTransformer(transformers=[('num_transformer',\n",
       "                                                                   RobustScaler(),\n",
       "                                                                   ['duration_min',\n",
       "                                                                    'budget',\n",
       "                                                                    'number_of_awards_won',\n",
       "                                                                    'number_of_nominations',\n",
       "                                                                    'number_of_top_productions']),\n",
       "                                                                  ('cat_transformer',\n",
       "                                                                   OneHotEncoder(handle_unknown='ignore'),\n",
       "                                                                   ['original_language',\n",
       "                                                                    'status',\n",
       "                                                                    'has_collection',\n",
       "                                                                    'available_in_english',\n",
       "                                                                    'all_genres',\n",
       "                                                                    'available_in_english'])]))])),\n",
       "                ('timefeaturesextractor', TimeFeaturesExtractor()),\n",
       "                ('cyclicalencoder', CyclicalEncoder()),\n",
       "                ('elasticnet', ElasticNet())])</pre></div></div></div><div class=\"sk-serial\"><div class=\"sk-item\"><div class=\"sk-label-container\"><div class=\"sk-label sk-toggleable\"><input class=\"sk-toggleable__control sk-hidden--visually\" id=\"febf5111-5895-4af3-b875-85816f5e0f5f\" type=\"checkbox\" ><label class=\"sk-toggleable__label\" for=\"febf5111-5895-4af3-b875-85816f5e0f5f\">pipeline: Pipeline</label><div class=\"sk-toggleable__content\"><pre>Pipeline(steps=[('columntransformer',\n",
       "                 ColumnTransformer(transformers=[('num_transformer',\n",
       "                                                  RobustScaler(),\n",
       "                                                  ['duration_min', 'budget',\n",
       "                                                   'number_of_awards_won',\n",
       "                                                   'number_of_nominations',\n",
       "                                                   'number_of_top_productions']),\n",
       "                                                 ('cat_transformer',\n",
       "                                                  OneHotEncoder(handle_unknown='ignore'),\n",
       "                                                  ['original_language',\n",
       "                                                   'status', 'has_collection',\n",
       "                                                   'available_in_english',\n",
       "                                                   'all_genres',\n",
       "                                                   'available_in_english'])]))])</pre></div></div></div><div class=\"sk-serial\"><div class=\"sk-item sk-dashed-wrapped\"><div class=\"sk-label-container\"><div class=\"sk-label sk-toggleable\"><input class=\"sk-toggleable__control sk-hidden--visually\" id=\"5976358d-138d-4b32-afc2-9d09cc7c7f18\" type=\"checkbox\" ><label class=\"sk-toggleable__label\" for=\"5976358d-138d-4b32-afc2-9d09cc7c7f18\">columntransformer: ColumnTransformer</label><div class=\"sk-toggleable__content\"><pre>ColumnTransformer(transformers=[('num_transformer', RobustScaler(),\n",
       "                                 ['duration_min', 'budget',\n",
       "                                  'number_of_awards_won',\n",
       "                                  'number_of_nominations',\n",
       "                                  'number_of_top_productions']),\n",
       "                                ('cat_transformer',\n",
       "                                 OneHotEncoder(handle_unknown='ignore'),\n",
       "                                 ['original_language', 'status',\n",
       "                                  'has_collection', 'available_in_english',\n",
       "                                  'all_genres', 'available_in_english'])])</pre></div></div></div><div class=\"sk-parallel\"><div class=\"sk-parallel-item\"><div class=\"sk-item\"><div class=\"sk-label-container\"><div class=\"sk-label sk-toggleable\"><input class=\"sk-toggleable__control sk-hidden--visually\" id=\"6dc9633c-d47f-4194-8cbb-4e38e28c888c\" type=\"checkbox\" ><label class=\"sk-toggleable__label\" for=\"6dc9633c-d47f-4194-8cbb-4e38e28c888c\">num_transformer</label><div class=\"sk-toggleable__content\"><pre>['duration_min', 'budget', 'number_of_awards_won', 'number_of_nominations', 'number_of_top_productions']</pre></div></div></div><div class=\"sk-serial\"><div class=\"sk-item\"><div class=\"sk-estimator sk-toggleable\"><input class=\"sk-toggleable__control sk-hidden--visually\" id=\"324ba0eb-4a61-4a1d-97a1-dd8d7837651e\" type=\"checkbox\" ><label class=\"sk-toggleable__label\" for=\"324ba0eb-4a61-4a1d-97a1-dd8d7837651e\">RobustScaler</label><div class=\"sk-toggleable__content\"><pre>RobustScaler()</pre></div></div></div></div></div></div><div class=\"sk-parallel-item\"><div class=\"sk-item\"><div class=\"sk-label-container\"><div class=\"sk-label sk-toggleable\"><input class=\"sk-toggleable__control sk-hidden--visually\" id=\"20ee87b1-307e-4bfb-ad16-f7cd3946d076\" type=\"checkbox\" ><label class=\"sk-toggleable__label\" for=\"20ee87b1-307e-4bfb-ad16-f7cd3946d076\">cat_transformer</label><div class=\"sk-toggleable__content\"><pre>['original_language', 'status', 'has_collection', 'available_in_english', 'all_genres', 'available_in_english']</pre></div></div></div><div class=\"sk-serial\"><div class=\"sk-item\"><div class=\"sk-estimator sk-toggleable\"><input class=\"sk-toggleable__control sk-hidden--visually\" id=\"e2c2b75c-87d1-421a-94e0-0581acfad6d2\" type=\"checkbox\" ><label class=\"sk-toggleable__label\" for=\"e2c2b75c-87d1-421a-94e0-0581acfad6d2\">OneHotEncoder</label><div class=\"sk-toggleable__content\"><pre>OneHotEncoder(handle_unknown='ignore')</pre></div></div></div></div></div></div></div></div></div></div><div class=\"sk-item\"><div class=\"sk-estimator sk-toggleable\"><input class=\"sk-toggleable__control sk-hidden--visually\" id=\"31489b36-fba7-4e62-a6f7-26d881e295b4\" type=\"checkbox\" ><label class=\"sk-toggleable__label\" for=\"31489b36-fba7-4e62-a6f7-26d881e295b4\">TimeFeaturesExtractor</label><div class=\"sk-toggleable__content\"><pre>TimeFeaturesExtractor()</pre></div></div></div><div class=\"sk-item\"><div class=\"sk-estimator sk-toggleable\"><input class=\"sk-toggleable__control sk-hidden--visually\" id=\"a8d40aaa-fe52-4534-9472-943982b19931\" type=\"checkbox\" ><label class=\"sk-toggleable__label\" for=\"a8d40aaa-fe52-4534-9472-943982b19931\">CyclicalEncoder</label><div class=\"sk-toggleable__content\"><pre>CyclicalEncoder()</pre></div></div></div><div class=\"sk-item\"><div class=\"sk-estimator sk-toggleable\"><input class=\"sk-toggleable__control sk-hidden--visually\" id=\"2b9ad8f4-f988-4bc1-9ce7-16481b53fee1\" type=\"checkbox\" ><label class=\"sk-toggleable__label\" for=\"2b9ad8f4-f988-4bc1-9ce7-16481b53fee1\">ElasticNet</label><div class=\"sk-toggleable__content\"><pre>ElasticNet()</pre></div></div></div></div></div></div></div>"
      ],
      "text/plain": [
       "Pipeline(steps=[('pipeline',\n",
       "                 Pipeline(steps=[('columntransformer',\n",
       "                                  ColumnTransformer(transformers=[('num_transformer',\n",
       "                                                                   RobustScaler(),\n",
       "                                                                   ['duration_min',\n",
       "                                                                    'budget',\n",
       "                                                                    'number_of_awards_won',\n",
       "                                                                    'number_of_nominations',\n",
       "                                                                    'number_of_top_productions']),\n",
       "                                                                  ('cat_transformer',\n",
       "                                                                   OneHotEncoder(handle_unknown='ignore'),\n",
       "                                                                   ['original_language',\n",
       "                                                                    'status',\n",
       "                                                                    'has_collection',\n",
       "                                                                    'available_in_english',\n",
       "                                                                    'all_genres',\n",
       "                                                                    'available_in_english'])]))])),\n",
       "                ('timefeaturesextractor', TimeFeaturesExtractor()),\n",
       "                ('cyclicalencoder', CyclicalEncoder()),\n",
       "                ('elasticnet', ElasticNet())])"
      ]
     },
     "execution_count": 39,
     "metadata": {},
     "output_type": "execute_result"
    }
   ],
   "source": [
    "time_pipeline = make_pipeline(\n",
    "    basic_preprocessing,\n",
    "    TimeFeaturesExtractor(),\n",
    "    CyclicalEncoder(),\n",
    "    ElasticNet()\n",
    ")\n",
    "time_pipeline"
   ]
  },
  {
   "cell_type": "markdown",
   "metadata": {},
   "source": [
    "### Advanced categorical encoder to reduce the number of features\n",
    "\n",
    "ℹ️ Most of it has already been coded for you and it shouldn't take long. Still if you want to skip it and move to the next section: _Model Tuning_"
   ]
  },
  {
   "cell_type": "markdown",
   "metadata": {},
   "source": [
    "👉 We need to reduce the number of features to one-hot-encode, which arise from the high cardinality of `all_genres` and `top_countries`"
   ]
  },
  {
   "cell_type": "code",
   "execution_count": 40,
   "metadata": {
    "ExecuteTime": {
     "end_time": "2021-06-30T11:28:00.336361Z",
     "start_time": "2021-06-30T11:28:00.323741Z"
    }
   },
   "outputs": [
    {
     "data": {
      "text/plain": [
       "all_genres       745\n",
       "top_countries    320\n",
       "dtype: int64"
      ]
     },
     "execution_count": 40,
     "metadata": {},
     "output_type": "execute_result"
    }
   ],
   "source": [
    "X[['all_genres', 'top_countries']].nunique()"
   ]
  },
  {
   "cell_type": "markdown",
   "metadata": {},
   "source": [
    "👇 Both share a common pattern: there can be more than 1 country and more than 1 genre per movie."
   ]
  },
  {
   "cell_type": "code",
   "execution_count": 41,
   "metadata": {
    "ExecuteTime": {
     "end_time": "2021-06-30T11:28:00.348459Z",
     "start_time": "2021-06-30T11:28:00.338514Z"
    }
   },
   "outputs": [
    {
     "data": {
      "text/html": [
       "<div>\n",
       "<style scoped>\n",
       "    .dataframe tbody tr th:only-of-type {\n",
       "        vertical-align: middle;\n",
       "    }\n",
       "\n",
       "    .dataframe tbody tr th {\n",
       "        vertical-align: top;\n",
       "    }\n",
       "\n",
       "    .dataframe thead th {\n",
       "        text-align: right;\n",
       "    }\n",
       "</style>\n",
       "<table border=\"1\" class=\"dataframe\">\n",
       "  <thead>\n",
       "    <tr style=\"text-align: right;\">\n",
       "      <th></th>\n",
       "      <th>all_genres</th>\n",
       "      <th>top_countries</th>\n",
       "    </tr>\n",
       "  </thead>\n",
       "  <tbody>\n",
       "    <tr>\n",
       "      <th>6459</th>\n",
       "      <td>Thriller</td>\n",
       "      <td>France, United States of America</td>\n",
       "    </tr>\n",
       "    <tr>\n",
       "      <th>6460</th>\n",
       "      <td>Action, Adventure, Comedy, Thriller</td>\n",
       "      <td>United States of America</td>\n",
       "    </tr>\n",
       "    <tr>\n",
       "      <th>6461</th>\n",
       "      <td>Drama</td>\n",
       "      <td>United States of America</td>\n",
       "    </tr>\n",
       "    <tr>\n",
       "      <th>6462</th>\n",
       "      <td>Horror, Thriller</td>\n",
       "      <td>United States of America</td>\n",
       "    </tr>\n",
       "    <tr>\n",
       "      <th>6463</th>\n",
       "      <td>Drama</td>\n",
       "      <td>France</td>\n",
       "    </tr>\n",
       "  </tbody>\n",
       "</table>\n",
       "</div>"
      ],
      "text/plain": [
       "                               all_genres                     top_countries\n",
       "6459                             Thriller  France, United States of America\n",
       "6460  Action, Adventure, Comedy, Thriller          United States of America\n",
       "6461                                Drama          United States of America\n",
       "6462                     Horror, Thriller          United States of America\n",
       "6463                                Drama                            France"
      ]
     },
     "execution_count": 41,
     "metadata": {},
     "output_type": "execute_result"
    }
   ],
   "source": [
    "X[['all_genres', 'top_countries']].tail()"
   ]
  },
  {
   "cell_type": "markdown",
   "metadata": {},
   "source": [
    "👉 Run the cell below where we have coded for you a custom transformer `CustomGenreAndCountryEncoder` which: \n",
    "- Select the 10 most frequent genres and the 5 most frequent countries\n",
    "- Encode `all_genres` into 10 One Hot Encoded features\n",
    "- Encode `top_countries` into 5 One Hot Encoded features"
   ]
  },
  {
   "cell_type": "code",
   "execution_count": 42,
   "metadata": {
    "ExecuteTime": {
     "end_time": "2021-06-30T11:28:00.360679Z",
     "start_time": "2021-06-30T11:28:00.351115Z"
    }
   },
   "outputs": [],
   "source": [
    "from collections import Counter\n",
    "from sklearn.base import BaseEstimator, TransformerMixin\n",
    "\n",
    "class CustomGenreAndCountryEncoder(BaseEstimator, TransformerMixin):\n",
    "    \"\"\"\n",
    "    Encoding the all_genres and top_companies features which are multi-categorical :\n",
    "    a movie has several possible genres and countries of productions!\n",
    "    \"\"\"\n",
    "\n",
    "    def __init__(self):\n",
    "        pass\n",
    "\n",
    "    def fit(self, X, y=None):\n",
    "        \"\"\"\n",
    "        compute top genres and top countries of productions from all_genres and top_countries features\n",
    "        \"\"\"\n",
    "\n",
    "        # compute top 10 genres       \n",
    "        list_of_genres = list(X['all_genres'].apply(lambda x: [i.strip() for i in x.split(\",\")] if x != [''] else []).values)\n",
    "        top_genres = [m[0] for m in Counter([i for j in list_of_genres for i in j]).most_common(10)]\n",
    "\n",
    "        # save top_genres in dedicated instance variable\n",
    "        self.top_genres = top_genres\n",
    "        \n",
    "         # compute top 5 countries       \n",
    "        list_of_countries = list(X['top_countries'].apply(lambda x: [i.strip() for i in x.split(\",\")] if x != [''] else []).values)\n",
    "        top_countries = [m[0] for m in Counter([i for j in list_of_countries for i in j]).most_common(5)]\n",
    "\n",
    "        # save top_countries in dedicated instance variable\n",
    "        self.top_countries = top_countries\n",
    "\n",
    "        return self\n",
    "\n",
    "    def transform(self, X, y=None):\n",
    "        \"\"\"\n",
    "        encoding genre and country\n",
    "        \"\"\"\n",
    "        X_new = X.copy()\n",
    "        for genre in self.top_genres:\n",
    "            X_new['genre_' + genre] = X_new['all_genres'].apply(lambda x: 1 if genre in x else 0)\n",
    "        X_new = X_new.drop(columns=[\"all_genres\"])\n",
    "        for country in self.top_countries:\n",
    "            X_new['country_' + country] = X_new['top_countries'].apply(lambda x: 1 if country in x else 0)\n",
    "        X_new = X_new.drop(columns=[\"top_countries\"])\n",
    "        return X_new"
   ]
  },
  {
   "cell_type": "code",
   "execution_count": 43,
   "metadata": {
    "ExecuteTime": {
     "end_time": "2021-06-30T11:28:00.475410Z",
     "start_time": "2021-06-30T11:28:00.368888Z"
    }
   },
   "outputs": [
    {
     "name": "stdout",
     "output_type": "stream",
     "text": [
      "(6463, 15)\n"
     ]
    },
    {
     "data": {
      "text/html": [
       "<div>\n",
       "<style scoped>\n",
       "    .dataframe tbody tr th:only-of-type {\n",
       "        vertical-align: middle;\n",
       "    }\n",
       "\n",
       "    .dataframe tbody tr th {\n",
       "        vertical-align: top;\n",
       "    }\n",
       "\n",
       "    .dataframe thead th {\n",
       "        text-align: right;\n",
       "    }\n",
       "</style>\n",
       "<table border=\"1\" class=\"dataframe\">\n",
       "  <thead>\n",
       "    <tr style=\"text-align: right;\">\n",
       "      <th></th>\n",
       "      <th>genre_Drama</th>\n",
       "      <th>genre_Comedy</th>\n",
       "      <th>genre_Thriller</th>\n",
       "      <th>genre_Action</th>\n",
       "      <th>genre_Romance</th>\n",
       "      <th>genre_Adventure</th>\n",
       "      <th>genre_Crime</th>\n",
       "      <th>genre_Science Fiction</th>\n",
       "      <th>genre_Horror</th>\n",
       "      <th>genre_Family</th>\n",
       "      <th>country_United States of America</th>\n",
       "      <th>country_United Kingdom</th>\n",
       "      <th>country_France</th>\n",
       "      <th>country_Germany</th>\n",
       "      <th>country_Canada</th>\n",
       "    </tr>\n",
       "  </thead>\n",
       "  <tbody>\n",
       "    <tr>\n",
       "      <th>0</th>\n",
       "      <td>0</td>\n",
       "      <td>1</td>\n",
       "      <td>0</td>\n",
       "      <td>0</td>\n",
       "      <td>0</td>\n",
       "      <td>0</td>\n",
       "      <td>0</td>\n",
       "      <td>0</td>\n",
       "      <td>0</td>\n",
       "      <td>0</td>\n",
       "      <td>1</td>\n",
       "      <td>0</td>\n",
       "      <td>0</td>\n",
       "      <td>0</td>\n",
       "      <td>0</td>\n",
       "    </tr>\n",
       "    <tr>\n",
       "      <th>1</th>\n",
       "      <td>1</td>\n",
       "      <td>1</td>\n",
       "      <td>0</td>\n",
       "      <td>0</td>\n",
       "      <td>1</td>\n",
       "      <td>0</td>\n",
       "      <td>0</td>\n",
       "      <td>0</td>\n",
       "      <td>0</td>\n",
       "      <td>1</td>\n",
       "      <td>1</td>\n",
       "      <td>0</td>\n",
       "      <td>0</td>\n",
       "      <td>0</td>\n",
       "      <td>0</td>\n",
       "    </tr>\n",
       "    <tr>\n",
       "      <th>2</th>\n",
       "      <td>1</td>\n",
       "      <td>0</td>\n",
       "      <td>0</td>\n",
       "      <td>0</td>\n",
       "      <td>0</td>\n",
       "      <td>0</td>\n",
       "      <td>0</td>\n",
       "      <td>0</td>\n",
       "      <td>0</td>\n",
       "      <td>0</td>\n",
       "      <td>1</td>\n",
       "      <td>0</td>\n",
       "      <td>0</td>\n",
       "      <td>0</td>\n",
       "      <td>0</td>\n",
       "    </tr>\n",
       "    <tr>\n",
       "      <th>3</th>\n",
       "      <td>1</td>\n",
       "      <td>0</td>\n",
       "      <td>1</td>\n",
       "      <td>0</td>\n",
       "      <td>0</td>\n",
       "      <td>0</td>\n",
       "      <td>0</td>\n",
       "      <td>0</td>\n",
       "      <td>0</td>\n",
       "      <td>0</td>\n",
       "      <td>0</td>\n",
       "      <td>0</td>\n",
       "      <td>0</td>\n",
       "      <td>0</td>\n",
       "      <td>0</td>\n",
       "    </tr>\n",
       "    <tr>\n",
       "      <th>4</th>\n",
       "      <td>0</td>\n",
       "      <td>0</td>\n",
       "      <td>1</td>\n",
       "      <td>0</td>\n",
       "      <td>0</td>\n",
       "      <td>0</td>\n",
       "      <td>0</td>\n",
       "      <td>0</td>\n",
       "      <td>1</td>\n",
       "      <td>0</td>\n",
       "      <td>1</td>\n",
       "      <td>0</td>\n",
       "      <td>0</td>\n",
       "      <td>0</td>\n",
       "      <td>1</td>\n",
       "    </tr>\n",
       "  </tbody>\n",
       "</table>\n",
       "</div>"
      ],
      "text/plain": [
       "   genre_Drama  genre_Comedy  genre_Thriller  genre_Action  genre_Romance  \\\n",
       "0            0             1               0             0              0   \n",
       "1            1             1               0             0              1   \n",
       "2            1             0               0             0              0   \n",
       "3            1             0               1             0              0   \n",
       "4            0             0               1             0              0   \n",
       "\n",
       "   genre_Adventure  genre_Crime  genre_Science Fiction  genre_Horror  \\\n",
       "0                0            0                      0             0   \n",
       "1                0            0                      0             0   \n",
       "2                0            0                      0             0   \n",
       "3                0            0                      0             0   \n",
       "4                0            0                      0             1   \n",
       "\n",
       "   genre_Family  country_United States of America  country_United Kingdom  \\\n",
       "0             0                                 1                       0   \n",
       "1             1                                 1                       0   \n",
       "2             0                                 1                       0   \n",
       "3             0                                 0                       0   \n",
       "4             0                                 1                       0   \n",
       "\n",
       "   country_France  country_Germany  country_Canada  \n",
       "0               0                0               0  \n",
       "1               0                0               0  \n",
       "2               0                0               0  \n",
       "3               0                0               0  \n",
       "4               0                0               1  "
      ]
     },
     "execution_count": 43,
     "metadata": {},
     "output_type": "execute_result"
    }
   ],
   "source": [
    "# Check it out\n",
    "X_custom = CustomGenreAndCountryEncoder().fit_transform(X[['all_genres', 'top_countries']])\n",
    "print(X_custom.shape)\n",
    "X_custom.head()"
   ]
  },
  {
   "cell_type": "markdown",
   "metadata": {},
   "source": [
    "**📝 Compute your `final_pipeline` by integrating all these transformers** (or all those you have coded)\n",
    "\n",
    "- `CustomGenreAndCountryEncoder`\n",
    "- `TimeFeaturesExtractor`\n",
    "- `CyclicalFeatureExtractor`"
   ]
  },
  {
   "cell_type": "code",
   "execution_count": 44,
   "metadata": {
    "ExecuteTime": {
     "end_time": "2021-06-30T11:28:00.485845Z",
     "start_time": "2021-06-30T11:28:00.481952Z"
    }
   },
   "outputs": [],
   "source": [
    "ct = ColumnTransformer([\n",
    "    ('num_transformer', num_transformer, numerical),\n",
    "    ('cat_transformer', cat_transformer, ['original_language','status', 'has_collection', 'available_in_english']),\n",
    "    ('time_transformer', TimeFeaturesExtractor(), ['release_date']),\n",
    "    ('genre_country_transformer', CustomGenreAndCountryEncoder(), ['all_genres', 'top_countries'])\n",
    "])\n"
   ]
  },
  {
   "cell_type": "code",
   "execution_count": 45,
   "metadata": {
    "ExecuteTime": {
     "end_time": "2021-06-30T11:28:00.504726Z",
     "start_time": "2021-06-30T11:28:00.488527Z"
    }
   },
   "outputs": [
    {
     "data": {
      "text/html": [
       "<style>#sk-9fa8c067-5d76-4d5e-974b-9edb781cd71d {color: black;background-color: white;}#sk-9fa8c067-5d76-4d5e-974b-9edb781cd71d pre{padding: 0;}#sk-9fa8c067-5d76-4d5e-974b-9edb781cd71d div.sk-toggleable {background-color: white;}#sk-9fa8c067-5d76-4d5e-974b-9edb781cd71d label.sk-toggleable__label {cursor: pointer;display: block;width: 100%;margin-bottom: 0;padding: 0.2em 0.3em;box-sizing: border-box;text-align: center;}#sk-9fa8c067-5d76-4d5e-974b-9edb781cd71d div.sk-toggleable__content {max-height: 0;max-width: 0;overflow: hidden;text-align: left;background-color: #f0f8ff;}#sk-9fa8c067-5d76-4d5e-974b-9edb781cd71d div.sk-toggleable__content pre {margin: 0.2em;color: black;border-radius: 0.25em;background-color: #f0f8ff;}#sk-9fa8c067-5d76-4d5e-974b-9edb781cd71d input.sk-toggleable__control:checked~div.sk-toggleable__content {max-height: 200px;max-width: 100%;overflow: auto;}#sk-9fa8c067-5d76-4d5e-974b-9edb781cd71d div.sk-estimator input.sk-toggleable__control:checked~label.sk-toggleable__label {background-color: #d4ebff;}#sk-9fa8c067-5d76-4d5e-974b-9edb781cd71d div.sk-label input.sk-toggleable__control:checked~label.sk-toggleable__label {background-color: #d4ebff;}#sk-9fa8c067-5d76-4d5e-974b-9edb781cd71d input.sk-hidden--visually {border: 0;clip: rect(1px 1px 1px 1px);clip: rect(1px, 1px, 1px, 1px);height: 1px;margin: -1px;overflow: hidden;padding: 0;position: absolute;width: 1px;}#sk-9fa8c067-5d76-4d5e-974b-9edb781cd71d div.sk-estimator {font-family: monospace;background-color: #f0f8ff;margin: 0.25em 0.25em;border: 1px dotted black;border-radius: 0.25em;box-sizing: border-box;}#sk-9fa8c067-5d76-4d5e-974b-9edb781cd71d div.sk-estimator:hover {background-color: #d4ebff;}#sk-9fa8c067-5d76-4d5e-974b-9edb781cd71d div.sk-parallel-item::after {content: \"\";width: 100%;border-bottom: 1px solid gray;flex-grow: 1;}#sk-9fa8c067-5d76-4d5e-974b-9edb781cd71d div.sk-label:hover label.sk-toggleable__label {background-color: #d4ebff;}#sk-9fa8c067-5d76-4d5e-974b-9edb781cd71d div.sk-serial::before {content: \"\";position: absolute;border-left: 1px solid gray;box-sizing: border-box;top: 2em;bottom: 0;left: 50%;}#sk-9fa8c067-5d76-4d5e-974b-9edb781cd71d div.sk-serial {display: flex;flex-direction: column;align-items: center;background-color: white;}#sk-9fa8c067-5d76-4d5e-974b-9edb781cd71d div.sk-item {z-index: 1;}#sk-9fa8c067-5d76-4d5e-974b-9edb781cd71d div.sk-parallel {display: flex;align-items: stretch;justify-content: center;background-color: white;}#sk-9fa8c067-5d76-4d5e-974b-9edb781cd71d div.sk-parallel-item {display: flex;flex-direction: column;position: relative;background-color: white;}#sk-9fa8c067-5d76-4d5e-974b-9edb781cd71d div.sk-parallel-item:first-child::after {align-self: flex-end;width: 50%;}#sk-9fa8c067-5d76-4d5e-974b-9edb781cd71d div.sk-parallel-item:last-child::after {align-self: flex-start;width: 50%;}#sk-9fa8c067-5d76-4d5e-974b-9edb781cd71d div.sk-parallel-item:only-child::after {width: 0;}#sk-9fa8c067-5d76-4d5e-974b-9edb781cd71d div.sk-dashed-wrapped {border: 1px dashed gray;margin: 0.2em;box-sizing: border-box;padding-bottom: 0.1em;background-color: white;position: relative;}#sk-9fa8c067-5d76-4d5e-974b-9edb781cd71d div.sk-label label {font-family: monospace;font-weight: bold;background-color: white;display: inline-block;line-height: 1.2em;}#sk-9fa8c067-5d76-4d5e-974b-9edb781cd71d div.sk-label-container {position: relative;z-index: 2;text-align: center;}#sk-9fa8c067-5d76-4d5e-974b-9edb781cd71d div.sk-container {display: inline-block;position: relative;}</style><div id=\"sk-9fa8c067-5d76-4d5e-974b-9edb781cd71d\" class\"sk-top-container\"><div class=\"sk-container\"><div class=\"sk-item sk-dashed-wrapped\"><div class=\"sk-label-container\"><div class=\"sk-label sk-toggleable\"><input class=\"sk-toggleable__control sk-hidden--visually\" id=\"4157591d-57e0-4251-98ff-bc34a73c1035\" type=\"checkbox\" ><label class=\"sk-toggleable__label\" for=\"4157591d-57e0-4251-98ff-bc34a73c1035\">ColumnTransformer</label><div class=\"sk-toggleable__content\"><pre>ColumnTransformer(transformers=[('num_transformer', RobustScaler(),\n",
       "                                 ['duration_min', 'budget',\n",
       "                                  'number_of_awards_won',\n",
       "                                  'number_of_nominations',\n",
       "                                  'number_of_top_productions']),\n",
       "                                ('cat_transformer',\n",
       "                                 OneHotEncoder(handle_unknown='ignore'),\n",
       "                                 ['original_language', 'status',\n",
       "                                  'has_collection', 'available_in_english']),\n",
       "                                ('time_transformer', TimeFeaturesExtractor(),\n",
       "                                 ['release_date']),\n",
       "                                ('genre_country_transformer',\n",
       "                                 CustomGenreAndCountryEncoder(),\n",
       "                                 ['all_genres', 'top_countries'])])</pre></div></div></div><div class=\"sk-parallel\"><div class=\"sk-parallel-item\"><div class=\"sk-item\"><div class=\"sk-label-container\"><div class=\"sk-label sk-toggleable\"><input class=\"sk-toggleable__control sk-hidden--visually\" id=\"d052576f-bcf1-4ea4-b60c-fa6957b93538\" type=\"checkbox\" ><label class=\"sk-toggleable__label\" for=\"d052576f-bcf1-4ea4-b60c-fa6957b93538\">num_transformer</label><div class=\"sk-toggleable__content\"><pre>['duration_min', 'budget', 'number_of_awards_won', 'number_of_nominations', 'number_of_top_productions']</pre></div></div></div><div class=\"sk-serial\"><div class=\"sk-item\"><div class=\"sk-estimator sk-toggleable\"><input class=\"sk-toggleable__control sk-hidden--visually\" id=\"756f2b1f-ed80-4fde-811c-2e10f2713a30\" type=\"checkbox\" ><label class=\"sk-toggleable__label\" for=\"756f2b1f-ed80-4fde-811c-2e10f2713a30\">RobustScaler</label><div class=\"sk-toggleable__content\"><pre>RobustScaler()</pre></div></div></div></div></div></div><div class=\"sk-parallel-item\"><div class=\"sk-item\"><div class=\"sk-label-container\"><div class=\"sk-label sk-toggleable\"><input class=\"sk-toggleable__control sk-hidden--visually\" id=\"6bb95bf1-6f4f-4628-9e29-d8c28f88df44\" type=\"checkbox\" ><label class=\"sk-toggleable__label\" for=\"6bb95bf1-6f4f-4628-9e29-d8c28f88df44\">cat_transformer</label><div class=\"sk-toggleable__content\"><pre>['original_language', 'status', 'has_collection', 'available_in_english']</pre></div></div></div><div class=\"sk-serial\"><div class=\"sk-item\"><div class=\"sk-estimator sk-toggleable\"><input class=\"sk-toggleable__control sk-hidden--visually\" id=\"31cd98da-1a6a-48ff-93dd-44fdc2b8acb6\" type=\"checkbox\" ><label class=\"sk-toggleable__label\" for=\"31cd98da-1a6a-48ff-93dd-44fdc2b8acb6\">OneHotEncoder</label><div class=\"sk-toggleable__content\"><pre>OneHotEncoder(handle_unknown='ignore')</pre></div></div></div></div></div></div><div class=\"sk-parallel-item\"><div class=\"sk-item\"><div class=\"sk-label-container\"><div class=\"sk-label sk-toggleable\"><input class=\"sk-toggleable__control sk-hidden--visually\" id=\"5fe164ac-01f8-4ce6-bb64-968159ad5bea\" type=\"checkbox\" ><label class=\"sk-toggleable__label\" for=\"5fe164ac-01f8-4ce6-bb64-968159ad5bea\">time_transformer</label><div class=\"sk-toggleable__content\"><pre>['release_date']</pre></div></div></div><div class=\"sk-serial\"><div class=\"sk-item\"><div class=\"sk-estimator sk-toggleable\"><input class=\"sk-toggleable__control sk-hidden--visually\" id=\"a45d2adb-5499-4ce9-840a-b399c2fbc85d\" type=\"checkbox\" ><label class=\"sk-toggleable__label\" for=\"a45d2adb-5499-4ce9-840a-b399c2fbc85d\">TimeFeaturesExtractor</label><div class=\"sk-toggleable__content\"><pre>TimeFeaturesExtractor()</pre></div></div></div></div></div></div><div class=\"sk-parallel-item\"><div class=\"sk-item\"><div class=\"sk-label-container\"><div class=\"sk-label sk-toggleable\"><input class=\"sk-toggleable__control sk-hidden--visually\" id=\"5ee92fd6-afe9-4f21-8938-51b8734953c5\" type=\"checkbox\" ><label class=\"sk-toggleable__label\" for=\"5ee92fd6-afe9-4f21-8938-51b8734953c5\">genre_country_transformer</label><div class=\"sk-toggleable__content\"><pre>['all_genres', 'top_countries']</pre></div></div></div><div class=\"sk-serial\"><div class=\"sk-item\"><div class=\"sk-estimator sk-toggleable\"><input class=\"sk-toggleable__control sk-hidden--visually\" id=\"b26cab28-07b9-471a-bd58-3681142c481c\" type=\"checkbox\" ><label class=\"sk-toggleable__label\" for=\"b26cab28-07b9-471a-bd58-3681142c481c\">CustomGenreAndCountryEncoder</label><div class=\"sk-toggleable__content\"><pre>CustomGenreAndCountryEncoder()</pre></div></div></div></div></div></div></div></div></div></div>"
      ],
      "text/plain": [
       "ColumnTransformer(transformers=[('num_transformer', RobustScaler(),\n",
       "                                 ['duration_min', 'budget',\n",
       "                                  'number_of_awards_won',\n",
       "                                  'number_of_nominations',\n",
       "                                  'number_of_top_productions']),\n",
       "                                ('cat_transformer',\n",
       "                                 OneHotEncoder(handle_unknown='ignore'),\n",
       "                                 ['original_language', 'status',\n",
       "                                  'has_collection', 'available_in_english']),\n",
       "                                ('time_transformer', TimeFeaturesExtractor(),\n",
       "                                 ['release_date']),\n",
       "                                ('genre_country_transformer',\n",
       "                                 CustomGenreAndCountryEncoder(),\n",
       "                                 ['all_genres', 'top_countries'])])"
      ]
     },
     "execution_count": 45,
     "metadata": {},
     "output_type": "execute_result"
    }
   ],
   "source": [
    "ct"
   ]
  },
  {
   "cell_type": "code",
   "execution_count": 46,
   "metadata": {
    "ExecuteTime": {
     "end_time": "2021-06-30T11:28:00.565468Z",
     "start_time": "2021-06-30T11:28:00.508106Z"
    }
   },
   "outputs": [
    {
     "data": {
      "text/html": [
       "<style>#sk-67b0557c-e14f-44cf-b124-9e2dbb316dc1 {color: black;background-color: white;}#sk-67b0557c-e14f-44cf-b124-9e2dbb316dc1 pre{padding: 0;}#sk-67b0557c-e14f-44cf-b124-9e2dbb316dc1 div.sk-toggleable {background-color: white;}#sk-67b0557c-e14f-44cf-b124-9e2dbb316dc1 label.sk-toggleable__label {cursor: pointer;display: block;width: 100%;margin-bottom: 0;padding: 0.2em 0.3em;box-sizing: border-box;text-align: center;}#sk-67b0557c-e14f-44cf-b124-9e2dbb316dc1 div.sk-toggleable__content {max-height: 0;max-width: 0;overflow: hidden;text-align: left;background-color: #f0f8ff;}#sk-67b0557c-e14f-44cf-b124-9e2dbb316dc1 div.sk-toggleable__content pre {margin: 0.2em;color: black;border-radius: 0.25em;background-color: #f0f8ff;}#sk-67b0557c-e14f-44cf-b124-9e2dbb316dc1 input.sk-toggleable__control:checked~div.sk-toggleable__content {max-height: 200px;max-width: 100%;overflow: auto;}#sk-67b0557c-e14f-44cf-b124-9e2dbb316dc1 div.sk-estimator input.sk-toggleable__control:checked~label.sk-toggleable__label {background-color: #d4ebff;}#sk-67b0557c-e14f-44cf-b124-9e2dbb316dc1 div.sk-label input.sk-toggleable__control:checked~label.sk-toggleable__label {background-color: #d4ebff;}#sk-67b0557c-e14f-44cf-b124-9e2dbb316dc1 input.sk-hidden--visually {border: 0;clip: rect(1px 1px 1px 1px);clip: rect(1px, 1px, 1px, 1px);height: 1px;margin: -1px;overflow: hidden;padding: 0;position: absolute;width: 1px;}#sk-67b0557c-e14f-44cf-b124-9e2dbb316dc1 div.sk-estimator {font-family: monospace;background-color: #f0f8ff;margin: 0.25em 0.25em;border: 1px dotted black;border-radius: 0.25em;box-sizing: border-box;}#sk-67b0557c-e14f-44cf-b124-9e2dbb316dc1 div.sk-estimator:hover {background-color: #d4ebff;}#sk-67b0557c-e14f-44cf-b124-9e2dbb316dc1 div.sk-parallel-item::after {content: \"\";width: 100%;border-bottom: 1px solid gray;flex-grow: 1;}#sk-67b0557c-e14f-44cf-b124-9e2dbb316dc1 div.sk-label:hover label.sk-toggleable__label {background-color: #d4ebff;}#sk-67b0557c-e14f-44cf-b124-9e2dbb316dc1 div.sk-serial::before {content: \"\";position: absolute;border-left: 1px solid gray;box-sizing: border-box;top: 2em;bottom: 0;left: 50%;}#sk-67b0557c-e14f-44cf-b124-9e2dbb316dc1 div.sk-serial {display: flex;flex-direction: column;align-items: center;background-color: white;}#sk-67b0557c-e14f-44cf-b124-9e2dbb316dc1 div.sk-item {z-index: 1;}#sk-67b0557c-e14f-44cf-b124-9e2dbb316dc1 div.sk-parallel {display: flex;align-items: stretch;justify-content: center;background-color: white;}#sk-67b0557c-e14f-44cf-b124-9e2dbb316dc1 div.sk-parallel-item {display: flex;flex-direction: column;position: relative;background-color: white;}#sk-67b0557c-e14f-44cf-b124-9e2dbb316dc1 div.sk-parallel-item:first-child::after {align-self: flex-end;width: 50%;}#sk-67b0557c-e14f-44cf-b124-9e2dbb316dc1 div.sk-parallel-item:last-child::after {align-self: flex-start;width: 50%;}#sk-67b0557c-e14f-44cf-b124-9e2dbb316dc1 div.sk-parallel-item:only-child::after {width: 0;}#sk-67b0557c-e14f-44cf-b124-9e2dbb316dc1 div.sk-dashed-wrapped {border: 1px dashed gray;margin: 0.2em;box-sizing: border-box;padding-bottom: 0.1em;background-color: white;position: relative;}#sk-67b0557c-e14f-44cf-b124-9e2dbb316dc1 div.sk-label label {font-family: monospace;font-weight: bold;background-color: white;display: inline-block;line-height: 1.2em;}#sk-67b0557c-e14f-44cf-b124-9e2dbb316dc1 div.sk-label-container {position: relative;z-index: 2;text-align: center;}#sk-67b0557c-e14f-44cf-b124-9e2dbb316dc1 div.sk-container {display: inline-block;position: relative;}</style><div id=\"sk-67b0557c-e14f-44cf-b124-9e2dbb316dc1\" class\"sk-top-container\"><div class=\"sk-container\"><div class=\"sk-item sk-dashed-wrapped\"><div class=\"sk-label-container\"><div class=\"sk-label sk-toggleable\"><input class=\"sk-toggleable__control sk-hidden--visually\" id=\"773d2c02-9b20-4ed0-9a20-93aa3fb2ae6d\" type=\"checkbox\" ><label class=\"sk-toggleable__label\" for=\"773d2c02-9b20-4ed0-9a20-93aa3fb2ae6d\">Pipeline</label><div class=\"sk-toggleable__content\"><pre>Pipeline(steps=[('pipeline',\n",
       "                 Pipeline(steps=[('columntransformer',\n",
       "                                  ColumnTransformer(transformers=[('num_transformer',\n",
       "                                                                   RobustScaler(),\n",
       "                                                                   ['duration_min',\n",
       "                                                                    'budget',\n",
       "                                                                    'number_of_awards_won',\n",
       "                                                                    'number_of_nominations',\n",
       "                                                                    'number_of_top_productions']),\n",
       "                                                                  ('cat_transformer',\n",
       "                                                                   OneHotEncoder(handle_unknown='ignore'),\n",
       "                                                                   ['original_language',\n",
       "                                                                    'status',\n",
       "                                                                    'has_collection',\n",
       "                                                                    'available_in_english',\n",
       "                                                                    'all_genres',\n",
       "                                                                    'available_in_english'])]))])),\n",
       "                ('timefeaturesextractor', TimeFeaturesExtractor()),\n",
       "                ('cyclicalencoder', CyclicalEncoder()),\n",
       "                ('elasticnet', ElasticNet())])</pre></div></div></div><div class=\"sk-serial\"><div class=\"sk-item\"><div class=\"sk-label-container\"><div class=\"sk-label sk-toggleable\"><input class=\"sk-toggleable__control sk-hidden--visually\" id=\"4a38c5c0-a23c-4d5c-b84c-4bde5fd387ec\" type=\"checkbox\" ><label class=\"sk-toggleable__label\" for=\"4a38c5c0-a23c-4d5c-b84c-4bde5fd387ec\">pipeline: Pipeline</label><div class=\"sk-toggleable__content\"><pre>Pipeline(steps=[('columntransformer',\n",
       "                 ColumnTransformer(transformers=[('num_transformer',\n",
       "                                                  RobustScaler(),\n",
       "                                                  ['duration_min', 'budget',\n",
       "                                                   'number_of_awards_won',\n",
       "                                                   'number_of_nominations',\n",
       "                                                   'number_of_top_productions']),\n",
       "                                                 ('cat_transformer',\n",
       "                                                  OneHotEncoder(handle_unknown='ignore'),\n",
       "                                                  ['original_language',\n",
       "                                                   'status', 'has_collection',\n",
       "                                                   'available_in_english',\n",
       "                                                   'all_genres',\n",
       "                                                   'available_in_english'])]))])</pre></div></div></div><div class=\"sk-serial\"><div class=\"sk-item sk-dashed-wrapped\"><div class=\"sk-label-container\"><div class=\"sk-label sk-toggleable\"><input class=\"sk-toggleable__control sk-hidden--visually\" id=\"21e61587-bdac-4028-a275-953df8bf2543\" type=\"checkbox\" ><label class=\"sk-toggleable__label\" for=\"21e61587-bdac-4028-a275-953df8bf2543\">columntransformer: ColumnTransformer</label><div class=\"sk-toggleable__content\"><pre>ColumnTransformer(transformers=[('num_transformer', RobustScaler(),\n",
       "                                 ['duration_min', 'budget',\n",
       "                                  'number_of_awards_won',\n",
       "                                  'number_of_nominations',\n",
       "                                  'number_of_top_productions']),\n",
       "                                ('cat_transformer',\n",
       "                                 OneHotEncoder(handle_unknown='ignore'),\n",
       "                                 ['original_language', 'status',\n",
       "                                  'has_collection', 'available_in_english',\n",
       "                                  'all_genres', 'available_in_english'])])</pre></div></div></div><div class=\"sk-parallel\"><div class=\"sk-parallel-item\"><div class=\"sk-item\"><div class=\"sk-label-container\"><div class=\"sk-label sk-toggleable\"><input class=\"sk-toggleable__control sk-hidden--visually\" id=\"09bcda89-d44a-43cc-85ee-8828f7e417d7\" type=\"checkbox\" ><label class=\"sk-toggleable__label\" for=\"09bcda89-d44a-43cc-85ee-8828f7e417d7\">num_transformer</label><div class=\"sk-toggleable__content\"><pre>['duration_min', 'budget', 'number_of_awards_won', 'number_of_nominations', 'number_of_top_productions']</pre></div></div></div><div class=\"sk-serial\"><div class=\"sk-item\"><div class=\"sk-estimator sk-toggleable\"><input class=\"sk-toggleable__control sk-hidden--visually\" id=\"96882b37-5248-4b86-9acb-d6f9fd3fe96d\" type=\"checkbox\" ><label class=\"sk-toggleable__label\" for=\"96882b37-5248-4b86-9acb-d6f9fd3fe96d\">RobustScaler</label><div class=\"sk-toggleable__content\"><pre>RobustScaler()</pre></div></div></div></div></div></div><div class=\"sk-parallel-item\"><div class=\"sk-item\"><div class=\"sk-label-container\"><div class=\"sk-label sk-toggleable\"><input class=\"sk-toggleable__control sk-hidden--visually\" id=\"17efb9ea-c180-4390-ba02-e6abcaf6ec55\" type=\"checkbox\" ><label class=\"sk-toggleable__label\" for=\"17efb9ea-c180-4390-ba02-e6abcaf6ec55\">cat_transformer</label><div class=\"sk-toggleable__content\"><pre>['original_language', 'status', 'has_collection', 'available_in_english', 'all_genres', 'available_in_english']</pre></div></div></div><div class=\"sk-serial\"><div class=\"sk-item\"><div class=\"sk-estimator sk-toggleable\"><input class=\"sk-toggleable__control sk-hidden--visually\" id=\"485bd0cd-fd3f-4186-8ea7-a8bc4cf1a6ab\" type=\"checkbox\" ><label class=\"sk-toggleable__label\" for=\"485bd0cd-fd3f-4186-8ea7-a8bc4cf1a6ab\">OneHotEncoder</label><div class=\"sk-toggleable__content\"><pre>OneHotEncoder(handle_unknown='ignore')</pre></div></div></div></div></div></div></div></div></div></div><div class=\"sk-item\"><div class=\"sk-estimator sk-toggleable\"><input class=\"sk-toggleable__control sk-hidden--visually\" id=\"63a02bc0-ac75-414f-9024-7416e37cdcf1\" type=\"checkbox\" ><label class=\"sk-toggleable__label\" for=\"63a02bc0-ac75-414f-9024-7416e37cdcf1\">TimeFeaturesExtractor</label><div class=\"sk-toggleable__content\"><pre>TimeFeaturesExtractor()</pre></div></div></div><div class=\"sk-item\"><div class=\"sk-estimator sk-toggleable\"><input class=\"sk-toggleable__control sk-hidden--visually\" id=\"203643cb-bcd0-48a5-8b27-d77971c746f7\" type=\"checkbox\" ><label class=\"sk-toggleable__label\" for=\"203643cb-bcd0-48a5-8b27-d77971c746f7\">CyclicalEncoder</label><div class=\"sk-toggleable__content\"><pre>CyclicalEncoder()</pre></div></div></div><div class=\"sk-item\"><div class=\"sk-estimator sk-toggleable\"><input class=\"sk-toggleable__control sk-hidden--visually\" id=\"135adcfc-564d-429c-a1e2-3fa227b8774c\" type=\"checkbox\" ><label class=\"sk-toggleable__label\" for=\"135adcfc-564d-429c-a1e2-3fa227b8774c\">ElasticNet</label><div class=\"sk-toggleable__content\"><pre>ElasticNet()</pre></div></div></div></div></div></div></div>"
      ],
      "text/plain": [
       "Pipeline(steps=[('pipeline',\n",
       "                 Pipeline(steps=[('columntransformer',\n",
       "                                  ColumnTransformer(transformers=[('num_transformer',\n",
       "                                                                   RobustScaler(),\n",
       "                                                                   ['duration_min',\n",
       "                                                                    'budget',\n",
       "                                                                    'number_of_awards_won',\n",
       "                                                                    'number_of_nominations',\n",
       "                                                                    'number_of_top_productions']),\n",
       "                                                                  ('cat_transformer',\n",
       "                                                                   OneHotEncoder(handle_unknown='ignore'),\n",
       "                                                                   ['original_language',\n",
       "                                                                    'status',\n",
       "                                                                    'has_collection',\n",
       "                                                                    'available_in_english',\n",
       "                                                                    'all_genres',\n",
       "                                                                    'available_in_english'])]))])),\n",
       "                ('timefeaturesextractor', TimeFeaturesExtractor()),\n",
       "                ('cyclicalencoder', CyclicalEncoder()),\n",
       "                ('elasticnet', ElasticNet())])"
      ]
     },
     "execution_count": 46,
     "metadata": {},
     "output_type": "execute_result"
    }
   ],
   "source": [
    "final_pipeline = time_pipeline\n",
    "final_pipeline"
   ]
  },
  {
   "cell_type": "markdown",
   "metadata": {},
   "source": [
    "📝 **Compute and store its cross validated scores as `final_scores` array of floats**\n",
    "\n",
    "- It does not necessarily improve the performance before we can try-out doing model tuning\n",
    "- However, with a now limited number of features, we will be able to train more complex models in next section (ensemble...)"
   ]
  },
  {
   "cell_type": "code",
   "execution_count": 47,
   "metadata": {
    "ExecuteTime": {
     "end_time": "2021-06-30T11:28:00.576394Z",
     "start_time": "2021-06-30T11:28:00.568857Z"
    }
   },
   "outputs": [
    {
     "data": {
      "text/plain": [
       "0        6.575393\n",
       "1        8.248895\n",
       "2       64.299990\n",
       "3        3.174936\n",
       "4        7.286477\n",
       "          ...    \n",
       "6459     9.970359\n",
       "6460     6.046516\n",
       "6461     9.596883\n",
       "6462    20.359336\n",
       "6463    11.305910\n",
       "Name: popularity, Length: 6463, dtype: float64"
      ]
     },
     "execution_count": 47,
     "metadata": {},
     "output_type": "execute_result"
    }
   ],
   "source": [
    "y"
   ]
  },
  {
   "cell_type": "code",
   "execution_count": 48,
   "metadata": {
    "ExecuteTime": {
     "end_time": "2021-06-30T11:28:00.843531Z",
     "start_time": "2021-06-30T11:28:00.578822Z"
    }
   },
   "outputs": [
    {
     "ename": "NameError",
     "evalue": "name 'f_pipeline' is not defined",
     "output_type": "error",
     "traceback": [
      "\u001b[0;31m---------------------------------------------------------------------------\u001b[0m",
      "\u001b[0;31mNameError\u001b[0m                                 Traceback (most recent call last)",
      "\u001b[0;32m<ipython-input-48-1fa5d04402c4>\u001b[0m in \u001b[0;36m<module>\u001b[0;34m\u001b[0m\n\u001b[0;32m----> 1\u001b[0;31m final_scores_all = cross_validate(f_pipeline, X, y, cv=5,\n\u001b[0m\u001b[1;32m      2\u001b[0m                               \u001b[0mscoring\u001b[0m\u001b[0;34m=\u001b[0m\u001b[0;34m(\u001b[0m\u001b[0mscoring\u001b[0m\u001b[0;34m)\u001b[0m\u001b[0;34m,\u001b[0m\u001b[0;34m\u001b[0m\u001b[0;34m\u001b[0m\u001b[0m\n\u001b[1;32m      3\u001b[0m                               return_train_score=True)\n\u001b[1;32m      4\u001b[0m \u001b[0mfinal_scores\u001b[0m \u001b[0;34m=\u001b[0m \u001b[0mfinal_scores_all\u001b[0m\u001b[0;34m[\u001b[0m\u001b[0;34m'test_score'\u001b[0m\u001b[0;34m]\u001b[0m\u001b[0;34m\u001b[0m\u001b[0;34m\u001b[0m\u001b[0m\n\u001b[1;32m      5\u001b[0m \u001b[0mfinal_scores\u001b[0m\u001b[0;34m\u001b[0m\u001b[0;34m\u001b[0m\u001b[0m\n",
      "\u001b[0;31mNameError\u001b[0m: name 'f_pipeline' is not defined"
     ]
    }
   ],
   "source": [
    "final_scores_all = cross_validate(f_pipeline, X, y, cv=5,\n",
    "                              scoring=(scoring),\n",
    "                              return_train_score=True)\n",
    "final_scores = final_scores_all['test_score']\n",
    "final_scores"
   ]
  },
  {
   "cell_type": "markdown",
   "metadata": {},
   "source": [
    "### 🧪 Save your result\n",
    "\n",
    "Run the following cell to save your results."
   ]
  },
  {
   "cell_type": "code",
   "execution_count": null,
   "metadata": {
    "ExecuteTime": {
     "end_time": "2021-06-30T11:28:00.888916Z",
     "start_time": "2021-06-30T11:27:55.359Z"
    }
   },
   "outputs": [],
   "source": [
    "ChallengeResult(\n",
    "    'feature_engineering',\n",
    "    X_time_features=X_time_features,\n",
    "    X_time_cyclical= X_time_cyclical,\n",
    "    time_pipeline=time_pipeline,\n",
    "    final_pipeline=final_pipeline,\n",
    "    final_scores=final_scores\n",
    ").write()\n",
    "\n",
    "# Hint: Try restarting your notebook if you obtain an error about saving a custom encoder"
   ]
  },
  {
   "cell_type": "markdown",
   "metadata": {},
   "source": [
    "## Model tuning"
   ]
  },
  {
   "cell_type": "markdown",
   "metadata": {},
   "source": [
    "### Random Forest"
   ]
  },
  {
   "cell_type": "markdown",
   "metadata": {},
   "source": [
    "📝 **Change the estimator of your `final_pipeline` by a Random Forest and checkout your new cross-validated score**"
   ]
  },
  {
   "cell_type": "code",
   "execution_count": null,
   "metadata": {
    "ExecuteTime": {
     "end_time": "2021-06-30T11:28:00.892436Z",
     "start_time": "2021-06-30T11:27:55.367Z"
    },
    "tags": [
     "challengify"
    ]
   },
   "outputs": [],
   "source": [
    "# YOUR CODE HERE"
   ]
  },
  {
   "cell_type": "markdown",
   "metadata": {},
   "source": [
    "### Best hyperparameters quest\n",
    "\n",
    "\n",
    "\n",
    "**📝 Fine tune your model to try to get the best performance in the minimum amount of time!**\n",
    "\n",
    "- Store the result of your search inside the `search` variable.\n",
    "- Store your 5 cross-validated scores inside `best_scores` array of floats"
   ]
  },
  {
   "cell_type": "code",
   "execution_count": null,
   "metadata": {
    "ExecuteTime": {
     "end_time": "2021-06-30T11:28:00.894172Z",
     "start_time": "2021-06-30T11:27:55.373Z"
    },
    "tags": [
     "challengify"
    ]
   },
   "outputs": [],
   "source": [
    "# YOUR CODE HERE"
   ]
  },
  {
   "cell_type": "markdown",
   "metadata": {},
   "source": [
    "**📝 Re-train your best pipeline on the whole (X,y) dataset**\n",
    "- Store the trained pipeline inside the `best_pipeline` variable"
   ]
  },
  {
   "cell_type": "code",
   "execution_count": null,
   "metadata": {
    "ExecuteTime": {
     "end_time": "2021-06-30T11:28:00.896414Z",
     "start_time": "2021-06-30T11:27:55.376Z"
    },
    "tags": [
     "challengify"
    ]
   },
   "outputs": [],
   "source": [
    "# YOUR CODE HERE"
   ]
  },
  {
   "cell_type": "markdown",
   "metadata": {},
   "source": [
    "### Prediction\n",
    "\n",
    "Now you have your model tuned with the best hyperparameters, you are ready for a prediction.\n",
    "\n",
    "Here is a famous TV show released in 2017:\n",
    "\n",
    "```python\n",
    "dict(\n",
    "        original_title=str(\"La Casa de Papel\"),\n",
    "        title=str(\"Money Heist\"), \n",
    "        release_date= pd.to_datetime([\"2017-05-02\"]), \n",
    "        duration_min=float(50),\n",
    "        description=str(\"An unusual group of robbers attempt to carry out the most perfect robbery\"), \n",
    "        budget=float(3_000_000), \n",
    "        original_language =str(\"es\"), \n",
    "        status=str(\"Released\"),\n",
    "        number_of_awards_won =int(2), \n",
    "        number_of_nominations=int(5), \n",
    "        has_collection=int(1),\n",
    "        all_genres=str(\"Action, Crime, Mystery\"), \n",
    "        top_countries=str(\"Spain, France, United States of America\"), \n",
    "        number_of_top_productions=int('1'),\n",
    "        available_in_english=bool('True') \n",
    ")\n",
    "```\n",
    "\n",
    "**📝 Compute the predicted popularity of this TV show and store it into the `popularity` variable as a floating number.**"
   ]
  },
  {
   "cell_type": "code",
   "execution_count": null,
   "metadata": {
    "ExecuteTime": {
     "end_time": "2021-06-30T11:28:00.898750Z",
     "start_time": "2021-06-30T11:27:55.381Z"
    },
    "tags": [
     "challengify"
    ]
   },
   "outputs": [],
   "source": [
    "# YOUR CODE HERE"
   ]
  },
  {
   "cell_type": "code",
   "execution_count": null,
   "metadata": {
    "ExecuteTime": {
     "end_time": "2021-06-30T11:28:00.900220Z",
     "start_time": "2021-06-30T11:27:55.385Z"
    },
    "tags": [
     "challengify"
    ]
   },
   "outputs": [],
   "source": [
    "# YOUR CODE HERE"
   ]
  },
  {
   "cell_type": "markdown",
   "metadata": {},
   "source": [
    "### 🧪 Save your results\n",
    "\n",
    "Run the following cell to save your results."
   ]
  },
  {
   "cell_type": "code",
   "execution_count": null,
   "metadata": {
    "ExecuteTime": {
     "end_time": "2021-06-30T11:28:00.903569Z",
     "start_time": "2021-06-30T11:27:55.390Z"
    }
   },
   "outputs": [],
   "source": [
    "ChallengeResult(\n",
    "    \"model_tuning\",\n",
    "    search=search,\n",
    "    best_pipeline=best_pipeline,\n",
    "    best_scores = best_scores,\n",
    "    popularity=popularity\n",
    ").write()"
   ]
  },
  {
   "cell_type": "markdown",
   "metadata": {},
   "source": [
    "## API \n",
    "\n",
    "Time to put a pipeline in production!\n",
    "\n",
    "👉 Go to https://github.com/lewagon/data-certification-api and follow instructions\n",
    "\n",
    "**This final part is independent from the above notebook**"
   ]
  }
 ],
 "metadata": {
  "interpreter": {
   "hash": "572b4e543617d03e90ecaf525e08695da1ff29b13594f787e33b342cf572f792"
  },
  "kernelspec": {
   "display_name": "Python 3",
   "language": "python",
   "name": "python3"
  },
  "language_info": {
   "codemirror_mode": {
    "name": "ipython",
    "version": 3
   },
   "file_extension": ".py",
   "mimetype": "text/x-python",
   "name": "python",
   "nbconvert_exporter": "python",
   "pygments_lexer": "ipython3",
   "version": "3.8.6"
  },
  "toc": {
   "base_numbering": 1,
   "nav_menu": {},
   "number_sections": true,
   "sideBar": true,
   "skip_h1_title": true,
   "title_cell": "Table of Contents",
   "title_sidebar": "Contents",
   "toc_cell": false,
   "toc_position": {
    "height": "calc(100% - 180px)",
    "left": "10px",
    "top": "150px",
    "width": "242px"
   },
   "toc_section_display": true,
   "toc_window_display": false
  },
  "varInspector": {
   "cols": {
    "lenName": 16,
    "lenType": 16,
    "lenVar": 40
   },
   "kernels_config": {
    "python": {
     "delete_cmd_postfix": "",
     "delete_cmd_prefix": "del ",
     "library": "var_list.py",
     "varRefreshCmd": "print(var_dic_list())"
    },
    "r": {
     "delete_cmd_postfix": ") ",
     "delete_cmd_prefix": "rm(",
     "library": "var_list.r",
     "varRefreshCmd": "cat(var_dic_list()) "
    }
   },
   "types_to_exclude": [
    "module",
    "function",
    "builtin_function_or_method",
    "instance",
    "_Feature"
   ],
   "window_display": false
  }
 },
 "nbformat": 4,
 "nbformat_minor": 4
}
